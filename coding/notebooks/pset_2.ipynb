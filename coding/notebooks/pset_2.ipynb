{
 "cells": [
  {
   "cell_type": "markdown",
   "id": "4945b9d2-6857-4710-b519-4d4181113480",
   "metadata": {},
   "source": [
    "##### Pset 2"
   ]
  },
  {
   "cell_type": "code",
   "execution_count": 1,
   "id": "1faf66cd-4e06-4a4a-845e-75ee3970791b",
   "metadata": {},
   "outputs": [],
   "source": [
    "import pandas as pd\n",
    "import numpy as np"
   ]
  },
  {
   "cell_type": "code",
   "execution_count": 2,
   "id": "5b2b5aef-9367-4179-8970-19ef5db5f8ed",
   "metadata": {},
   "outputs": [],
   "source": [
    "import scipy.io\n",
    "mat = scipy.io.loadmat('../data/census.mat')"
   ]
  },
  {
   "cell_type": "code",
   "execution_count": 3,
   "id": "f01e294a-6e40-4c34-8e11-03ad20e6424e",
   "metadata": {},
   "outputs": [],
   "source": [
    "import statsmodels.api as sm\n",
    "import statsmodels.formula.api as smf"
   ]
  },
  {
   "cell_type": "code",
   "execution_count": 4,
   "id": "4de1699d-883b-47ee-b5de-bbb094500011",
   "metadata": {},
   "outputs": [],
   "source": [
    "data = pd.DataFrame(np.array([mat[\"educ\"], mat[\"y\"], mat[\"yob\"]]).reshape([3, 329509])).transpose()"
   ]
  },
  {
   "cell_type": "code",
   "execution_count": 5,
   "id": "c4033f7b-66cc-4d18-aa0b-97fe19dd088a",
   "metadata": {},
   "outputs": [],
   "source": [
    "data.columns = [\"educ\", \"y\", \"yob\"]"
   ]
  },
  {
   "cell_type": "code",
   "execution_count": 6,
   "id": "679b539a-77ae-42ea-a537-bd66021bde03",
   "metadata": {},
   "outputs": [],
   "source": [
    "res = smf.ols(\"y ~ educ + C(yob)\", data = data).fit()"
   ]
  },
  {
   "cell_type": "code",
   "execution_count": 7,
   "id": "025e2f14-8aea-4dc5-8f33-7422c1239aa1",
   "metadata": {},
   "outputs": [],
   "source": [
    "data[\"const\"] = 1"
   ]
  },
  {
   "cell_type": "markdown",
   "id": "6f05a464-35e1-4305-8ba6-d71a13e8caa9",
   "metadata": {},
   "source": [
    "##### Question 1"
   ]
  },
  {
   "cell_type": "markdown",
   "id": "a5cc7a7a-5f30-4664-8acb-2d3bc6179e0b",
   "metadata": {},
   "source": [
    "a)"
   ]
  },
  {
   "cell_type": "markdown",
   "id": "970c7687-410b-4bc5-ab88-fb438b3d9e63",
   "metadata": {},
   "source": [
    "##### Treatment effect - Overall"
   ]
  },
  {
   "cell_type": "code",
   "execution_count": 8,
   "id": "f4669449-0ad0-4de5-8986-fbf71170999c",
   "metadata": {},
   "outputs": [
    {
     "data": {
      "text/plain": [
       "yob\n",
       "30.0    0.364175\n",
       "31.0    0.382794\n",
       "32.0    0.388315\n",
       "33.0    0.394068\n",
       "34.0    0.396604\n",
       "35.0    0.403167\n",
       "36.0    0.405374\n",
       "37.0    0.407136\n",
       "38.0    0.414985\n",
       "39.0    0.419746\n",
       "Name: educ, dtype: float64"
      ]
     },
     "execution_count": 8,
     "metadata": {},
     "output_type": "execute_result"
    }
   ],
   "source": [
    "data.groupby(\"yob\")[\"educ\"].mean()"
   ]
  },
  {
   "cell_type": "markdown",
   "id": "497131da-7c57-44f6-94cf-ca339c25a675",
   "metadata": {},
   "source": [
    "##### The support of the treatment probability at the cluster level is not 0 or 1."
   ]
  },
  {
   "cell_type": "markdown",
   "id": "04f0b3c0-638f-4e1b-aca4-a46954bd7200",
   "metadata": {},
   "source": [
    "##### Compute two estimators of the treatment effect, one using OLs and one using fixed effects"
   ]
  },
  {
   "cell_type": "code",
   "execution_count": 9,
   "id": "a8c1f2b1-aff5-45f4-8199-6827a858418f",
   "metadata": {},
   "outputs": [],
   "source": [
    "def get_OLS(data):\n",
    "    \n",
    "    X = data[[\"const\", \"educ\"]].to_numpy()\n",
    "    Y = data[[\"y\"]].to_numpy()\n",
    "    \n",
    "    beta = np.linalg.inv(X.transpose()@X) @ X.transpose()@Y\n",
    "    \n",
    "    errors = Y - X @ beta\n",
    "\n",
    "    t_pop = beta[1]\n",
    "    \n",
    "    return t_pop, errors, X, beta"
   ]
  },
  {
   "cell_type": "code",
   "execution_count": 10,
   "id": "f4aee2b7-50a5-4b29-8a2a-f59cc0ce5abc",
   "metadata": {},
   "outputs": [],
   "source": [
    "t_pop, errors, X, _ = get_OLS(data)"
   ]
  },
  {
   "cell_type": "code",
   "execution_count": 11,
   "id": "63c71a62-d522-40c0-ad90-88ee54adc0d0",
   "metadata": {},
   "outputs": [],
   "source": [
    "data['errors_ols'] = errors"
   ]
  },
  {
   "cell_type": "code",
   "execution_count": 12,
   "id": "9d21a76d-d049-4aa9-a09b-53d57cb37c27",
   "metadata": {},
   "outputs": [
    {
     "data": {
      "text/plain": [
       "array([0.37765759])"
      ]
     },
     "execution_count": 12,
     "metadata": {},
     "output_type": "execute_result"
    }
   ],
   "source": [
    "t_pop"
   ]
  },
  {
   "cell_type": "code",
   "execution_count": 13,
   "id": "8e2035b3-f547-416f-8de1-426559bdf05f",
   "metadata": {},
   "outputs": [],
   "source": [
    "def get_fe(data):\n",
    "    \n",
    "    #OLS with fixed effects\n",
    "    X_fe = data.groupby(\"yob\").apply(lambda y: y-y.mean())[[\"educ\"]].to_numpy()\n",
    "    Y_fe = data.groupby(\"yob\").apply(lambda y: y-y.mean())[[\"y\"]].to_numpy()\n",
    "    \n",
    "    beta_fe = np.linalg.inv(X_fe.transpose()@X_fe) @ X_fe.transpose()@Y_fe\n",
    "    \n",
    "    t_fe = beta_fe[0]\n",
    "    errors_fe = Y_fe - X_fe @beta_fe\n",
    "\n",
    "    return t_fe, errors_fe, X_fe"
   ]
  },
  {
   "cell_type": "code",
   "execution_count": 14,
   "id": "e5b05e27-8a5e-4b71-8287-1d181305d532",
   "metadata": {},
   "outputs": [],
   "source": [
    "t_fe, errors_fe, X_fe = get_fe(data)"
   ]
  },
  {
   "cell_type": "code",
   "execution_count": 15,
   "id": "11f28664-60df-45ba-a318-4aa169deae9b",
   "metadata": {},
   "outputs": [],
   "source": [
    "data['errors_fe'] = errors_fe"
   ]
  },
  {
   "cell_type": "code",
   "execution_count": 16,
   "id": "e7d93628-3d9b-4129-afa7-09ad4e50173f",
   "metadata": {},
   "outputs": [
    {
     "data": {
      "text/plain": [
       "array([0.37817221])"
      ]
     },
     "execution_count": 16,
     "metadata": {},
     "output_type": "execute_result"
    }
   ],
   "source": [
    "t_fe"
   ]
  },
  {
   "cell_type": "markdown",
   "id": "1b3ebe03-3f33-4472-8796-f9b809168305",
   "metadata": {},
   "source": [
    "##### Using standard OLS formula for homoskedastic variance"
   ]
  },
  {
   "cell_type": "code",
   "execution_count": 17,
   "id": "bad516d9-6e3c-4337-9f69-1f8fa762b966",
   "metadata": {},
   "outputs": [
    {
     "data": {
      "text/plain": [
       "0.00232455626992343"
      ]
     },
     "execution_count": 17,
     "metadata": {},
     "output_type": "execute_result"
    }
   ],
   "source": [
    "(np.linalg.inv(X.transpose() @ X) * errors.var())[1,1]**0.5"
   ]
  },
  {
   "cell_type": "code",
   "execution_count": 18,
   "id": "b9055aa9-e8cc-4037-aa97-cf5ec35ed444",
   "metadata": {},
   "outputs": [],
   "source": [
    "##### Using standard OLS formula for homoskedastic variance"
   ]
  },
  {
   "cell_type": "code",
   "execution_count": 19,
   "id": "2957bf94-dfe4-4c79-8c2a-4918778df6a2",
   "metadata": {},
   "outputs": [
    {
     "data": {
      "text/plain": [
       "0.002325564247232883"
      ]
     },
     "execution_count": 19,
     "metadata": {},
     "output_type": "execute_result"
    }
   ],
   "source": [
    "(np.linalg.inv(X_fe.transpose() @ X_fe) * errors_fe.var())[0,0]**0.5"
   ]
  },
  {
   "cell_type": "markdown",
   "id": "e2b93c2f-6231-44db-9c64-af69af4d1729",
   "metadata": {},
   "source": [
    "##### Neyman variance (OLS)"
   ]
  },
  {
   "cell_type": "code",
   "execution_count": 20,
   "id": "fc4fed56-f588-41b4-bdc3-ad1ec220e547",
   "metadata": {},
   "outputs": [],
   "source": [
    "N = data.shape[0]\n",
    "\n",
    "M = data[\"educ\"].sum()"
   ]
  },
  {
   "cell_type": "code",
   "execution_count": 21,
   "id": "ae24d251-e188-446d-9042-7507e7d5d4ce",
   "metadata": {},
   "outputs": [],
   "source": [
    "s2_T = errors[(data[\"educ\"] == 1)].var()\n",
    "s2_C = errors[(data[\"educ\"] == 0)].var()"
   ]
  },
  {
   "cell_type": "code",
   "execution_count": 22,
   "id": "9f64a9ac-0a52-4088-a7be-c2eb899ae8fb",
   "metadata": {},
   "outputs": [],
   "source": [
    "V_neyman = s2_T/(M) + s2_C/(N-M)"
   ]
  },
  {
   "cell_type": "code",
   "execution_count": 23,
   "id": "0643c234-16f8-4e0d-8245-2148e10b51cf",
   "metadata": {},
   "outputs": [
    {
     "data": {
      "text/plain": [
       "5.336151095473192e-06"
      ]
     },
     "execution_count": 23,
     "metadata": {},
     "output_type": "execute_result"
    }
   ],
   "source": [
    "V_neyman"
   ]
  },
  {
   "cell_type": "code",
   "execution_count": 24,
   "id": "d560706d-4dc4-41b7-9c1b-52f1e7a95d01",
   "metadata": {},
   "outputs": [
    {
     "data": {
      "text/plain": [
       "0.0023100110595997573"
      ]
     },
     "execution_count": 24,
     "metadata": {},
     "output_type": "execute_result"
    }
   ],
   "source": [
    "V_neyman ** 0.5"
   ]
  },
  {
   "cell_type": "markdown",
   "id": "b1f4a0b4-48af-415a-be9e-b5be5aae33ea",
   "metadata": {},
   "source": [
    "##### Neyman variance"
   ]
  },
  {
   "cell_type": "code",
   "execution_count": 25,
   "id": "ee742044-202d-47fd-b3e7-cf9e5008f5c3",
   "metadata": {},
   "outputs": [],
   "source": [
    "from numpy.linalg import inv"
   ]
  },
  {
   "cell_type": "code",
   "execution_count": 26,
   "id": "d3e11711-1294-4e97-9393-2b57a69ae6d2",
   "metadata": {},
   "outputs": [],
   "source": [
    "# Calculate the inverse matrix once and store it\n",
    "X_T_X_inv = np.linalg.inv(X.T @ X)\n",
    "\n",
    "# Extract the squared errors vector\n",
    "squared_errors = (errors ** 2)[:,0]\n",
    "\n",
    "middle = X.T * squared_errors @ X  # Element-wise multiplication with broadcasting\n",
    "\n",
    "# Compute the final result\n",
    "V_EHW = X_T_X_inv @ middle @ X_T_X_inv\n"
   ]
  },
  {
   "cell_type": "code",
   "execution_count": 27,
   "id": "1085dd01-c370-4f70-9310-53a183f48fbd",
   "metadata": {},
   "outputs": [
    {
     "data": {
      "text/plain": [
       "5.336151095473188e-06"
      ]
     },
     "execution_count": 27,
     "metadata": {},
     "output_type": "execute_result"
    }
   ],
   "source": [
    "V_EHW[1,1]"
   ]
  },
  {
   "cell_type": "code",
   "execution_count": 28,
   "id": "147a8ef1-3ff3-43e8-85ff-840f2c1917d2",
   "metadata": {},
   "outputs": [
    {
     "data": {
      "text/plain": [
       "0.002310011059599756"
      ]
     },
     "execution_count": 28,
     "metadata": {},
     "output_type": "execute_result"
    }
   ],
   "source": [
    "V_EHW[1,1]**0.5"
   ]
  },
  {
   "cell_type": "markdown",
   "id": "b22d4abd-e664-420b-a195-bda7dd893fc0",
   "metadata": {},
   "source": [
    "##### Neyman variance (FE)"
   ]
  },
  {
   "cell_type": "code",
   "execution_count": 29,
   "id": "48fa4302-c181-4f6f-9725-10e34994f25c",
   "metadata": {},
   "outputs": [],
   "source": [
    "# Calculate the inverse matrix once and store it\n",
    "X_T_X_inv_fe = np.linalg.inv(X_fe.T @ X_fe)\n",
    "\n",
    "# Extract the squared errors vector\n",
    "squared_errors_fe = (errors_fe ** 2)[:,0]\n",
    "\n",
    "middle_fe = X_fe.T * squared_errors_fe @ X_fe  # Element-wise multiplication with broadcasting\n",
    "\n",
    "# Compute the final result\n",
    "V_EHW_fe = X_T_X_inv_fe @ middle_fe @ X_T_X_inv_fe\n"
   ]
  },
  {
   "cell_type": "code",
   "execution_count": 30,
   "id": "32ebdf6c-6d63-462e-8312-b58366f2d2b4",
   "metadata": {},
   "outputs": [
    {
     "data": {
      "text/plain": [
       "5.340895719819529e-06"
      ]
     },
     "execution_count": 30,
     "metadata": {},
     "output_type": "execute_result"
    }
   ],
   "source": [
    "V_EHW_fe[0,0]"
   ]
  },
  {
   "cell_type": "code",
   "execution_count": 31,
   "id": "ed3df6f4-ff7e-4ce5-897d-3e2217b1cb77",
   "metadata": {},
   "outputs": [
    {
     "data": {
      "text/plain": [
       "0.002311037801469186"
      ]
     },
     "execution_count": 31,
     "metadata": {},
     "output_type": "execute_result"
    }
   ],
   "source": [
    "V_EHW_fe[0,0]**0.5"
   ]
  },
  {
   "cell_type": "markdown",
   "id": "d4369425-e7d6-4e7f-96fd-a748b931b94c",
   "metadata": {},
   "source": [
    "b)"
   ]
  },
  {
   "cell_type": "markdown",
   "id": "15aeaefe-67fe-4bdc-a5e9-a63f67328136",
   "metadata": {},
   "source": [
    "Bootstrap"
   ]
  },
  {
   "cell_type": "code",
   "execution_count": 32,
   "id": "54deb950-2ab0-474a-b4bf-6b0db27109c9",
   "metadata": {},
   "outputs": [],
   "source": [
    "n_b = 1000\n",
    "#n_sample = 20000"
   ]
  },
  {
   "cell_type": "code",
   "execution_count": 33,
   "id": "94f76f5e-906b-455a-ad80-3956041c8c4f",
   "metadata": {},
   "outputs": [],
   "source": [
    "from tqdm import tqdm"
   ]
  },
  {
   "cell_type": "code",
   "execution_count": 34,
   "id": "5ab91461-50ed-41b7-9c97-11001b21358c",
   "metadata": {},
   "outputs": [
    {
     "name": "stderr",
     "output_type": "stream",
     "text": [
      "100%|██████████| 1000/1000 [05:57<00:00,  2.80it/s]\n"
     ]
    }
   ],
   "source": [
    "t_pop_boot = []\n",
    "t_fe_boot = []\n",
    "for i in tqdm(range(n_b)):\n",
    "    sample = data.loc[np.random.choice(data.index, size = N, replace = True)]\n",
    "    t_pop_boot.append(get_OLS(sample)[0][0])\n",
    "    t_fe_boot.append(get_fe(sample)[0][0])"
   ]
  },
  {
   "cell_type": "code",
   "execution_count": 35,
   "id": "3a1f4ac1-72bc-4ef2-80ea-290e410ed06d",
   "metadata": {},
   "outputs": [],
   "source": [
    "import seaborn as sns"
   ]
  },
  {
   "cell_type": "code",
   "execution_count": 36,
   "id": "d025cfcf-b14a-4b7e-b0bf-4fc0fb3cab84",
   "metadata": {},
   "outputs": [],
   "source": [
    "import matplotlib.pyplot as plt"
   ]
  },
  {
   "cell_type": "code",
   "execution_count": 37,
   "id": "67831397-c508-4555-b56a-b38c726d4edd",
   "metadata": {},
   "outputs": [],
   "source": [
    "var_pop = np.var(t_pop_boot)"
   ]
  },
  {
   "cell_type": "code",
   "execution_count": 38,
   "id": "c715ce17-cb0e-40b0-a7c5-ac19c7b5cd1e",
   "metadata": {},
   "outputs": [],
   "source": [
    "var_fe = np.var(t_fe_boot)"
   ]
  },
  {
   "cell_type": "code",
   "execution_count": 39,
   "id": "a0412d72-b93d-44ff-be95-e64d0dba4d4f",
   "metadata": {},
   "outputs": [
    {
     "data": {
      "text/plain": [
       "5.560965219130098e-06"
      ]
     },
     "execution_count": 39,
     "metadata": {},
     "output_type": "execute_result"
    }
   ],
   "source": [
    "var_pop"
   ]
  },
  {
   "cell_type": "code",
   "execution_count": 40,
   "id": "d8d13dff-4972-4ffd-9799-a9cace9cb0bb",
   "metadata": {},
   "outputs": [
    {
     "data": {
      "text/plain": [
       "5.579603113313704e-06"
      ]
     },
     "execution_count": 40,
     "metadata": {},
     "output_type": "execute_result"
    }
   ],
   "source": [
    "var_fe"
   ]
  },
  {
   "cell_type": "code",
   "execution_count": 41,
   "id": "173ee94d-ff74-4b42-9aa8-87e6905cd7fd",
   "metadata": {},
   "outputs": [],
   "source": [
    "std_pop = np.std(t_pop_boot)"
   ]
  },
  {
   "cell_type": "code",
   "execution_count": 42,
   "id": "77efa267-c59a-48da-b29b-72a5ffecde1a",
   "metadata": {},
   "outputs": [],
   "source": [
    "std_fe = np.std(t_fe_boot)"
   ]
  },
  {
   "cell_type": "code",
   "execution_count": 43,
   "id": "e2901c01-ee4f-4868-9815-df746f46d8b5",
   "metadata": {},
   "outputs": [
    {
     "data": {
      "text/plain": [
       "Text(0.38, 160, 'STD Boot:0.0024')"
      ]
     },
     "execution_count": 43,
     "metadata": {},
     "output_type": "execute_result"
    },
    {
     "data": {
      "image/png": "[encoded data removed]",
      "text/plain": [
       "<Figure size 640x480 with 1 Axes>"
      ]
     },
     "metadata": {},
     "output_type": "display_data"
    }
   ],
   "source": [
    "sns.kdeplot(t_pop_boot)\n",
    "# Annotate a point\n",
    "plt.annotate(\n",
    "    f'STD Boot:{std_pop:.2}', # The text to display\n",
    "    xy=(0.38, 160), # The point (x, y) to annotate\n",
    "    xytext=(0.38, 160), # The position (x, y) to place the text\n",
    "    arrowprops=None\n",
    ")"
   ]
  },
  {
   "cell_type": "code",
   "execution_count": 44,
   "id": "c66f0de9-613f-45e1-a1dc-727f94f698e1",
   "metadata": {},
   "outputs": [
    {
     "data": {
      "text/plain": [
       "Text(0.38, 160, 'STD Boot:0.0024')"
      ]
     },
     "execution_count": 44,
     "metadata": {},
     "output_type": "execute_result"
    },
    {
     "data": {
      "image/png": "[encoded data removed]",
      "text/plain": [
       "<Figure size 640x480 with 1 Axes>"
      ]
     },
     "metadata": {},
     "output_type": "display_data"
    }
   ],
   "source": [
    "sns.kdeplot(t_fe_boot)\n",
    "# Annotate a point\n",
    "plt.annotate(\n",
    "    f'STD Boot:{std_fe:.2}', # The text to display\n",
    "    xy=(0.38, 160), # The point (x, y) to annotate\n",
    "    xytext=(0.38, 160), # The position (x, y) to place the text\n",
    "    arrowprops=None\n",
    ")"
   ]
  },
  {
   "cell_type": "markdown",
   "id": "18620175-17b9-43ed-9895-cdc737b9256e",
   "metadata": {},
   "source": [
    "c)"
   ]
  },
  {
   "cell_type": "code",
   "execution_count": 45,
   "id": "f1e805af-ff88-49f3-a31c-dfa9328fec59",
   "metadata": {},
   "outputs": [],
   "source": [
    "middle_cluster = np.zeros([X.shape[1], X.shape[1]])\n",
    "\n",
    "for cluster in data[\"yob\"].unique():\n",
    "    \n",
    "    X_g = X[data[\"yob\"] == cluster,:]\n",
    "    errors_g = errors[data[\"yob\"] == cluster,:]\n",
    "    middle_cluster += np.sum(X_g * errors_g, axis = 0).T @ np.sum(X_g * errors_g, axis = 0)"
   ]
  },
  {
   "cell_type": "code",
   "execution_count": 46,
   "id": "24636ef8-a68c-42fa-83d7-783903b82b9c",
   "metadata": {},
   "outputs": [],
   "source": [
    "V_LZ = X_T_X_inv @ middle_cluster @ X_T_X_inv"
   ]
  },
  {
   "cell_type": "code",
   "execution_count": 47,
   "id": "8e1d048e-ebd7-4bfa-8945-a36d2584ead8",
   "metadata": {},
   "outputs": [
    {
     "data": {
      "text/plain": [
       "array([[-7.34527452e-38,  2.96150956e-21],\n",
       "       [ 2.69409701e-21,  7.08133636e-05]])"
      ]
     },
     "execution_count": 47,
     "metadata": {},
     "output_type": "execute_result"
    }
   ],
   "source": [
    "V_LZ"
   ]
  },
  {
   "cell_type": "code",
   "execution_count": 48,
   "id": "2223bd20-45e4-4035-8986-05ca1475d3b4",
   "metadata": {},
   "outputs": [
    {
     "data": {
      "text/plain": [
       "0.008415067653132002"
      ]
     },
     "execution_count": 48,
     "metadata": {},
     "output_type": "execute_result"
    }
   ],
   "source": [
    "V_LZ[1,1]**0.5"
   ]
  },
  {
   "cell_type": "code",
   "execution_count": 49,
   "id": "f9c896d3-48e2-428d-8227-d2dc6c1f0139",
   "metadata": {},
   "outputs": [],
   "source": [
    "middle_cluster_fe = np.zeros([X_fe.shape[1], X_fe.shape[1]])\n",
    "\n",
    "for cluster in data[\"yob\"].unique():\n",
    "    \n",
    "    X_g_fe = X_fe[data[\"yob\"] == cluster,:]\n",
    "    errors_g_fe = errors_fe[data[\"yob\"] == cluster,:]\n",
    "    middle_cluster_fe += np.sum(X_g_fe * errors_g_fe, axis = 0).T @ np.sum(X_g_fe * errors_g_fe, axis = 0)"
   ]
  },
  {
   "cell_type": "code",
   "execution_count": 50,
   "id": "db02ffce-a114-420d-8c64-aefb0ae0c8d7",
   "metadata": {},
   "outputs": [],
   "source": [
    "V_LZ_fe = X_T_X_inv_fe @ middle_cluster_fe @ X_T_X_inv_fe"
   ]
  },
  {
   "cell_type": "code",
   "execution_count": 51,
   "id": "3df5b463-7663-4616-9e2c-db7b49234db9",
   "metadata": {},
   "outputs": [
    {
     "data": {
      "text/plain": [
       "array([[2.24303522e-05]])"
      ]
     },
     "execution_count": 51,
     "metadata": {},
     "output_type": "execute_result"
    }
   ],
   "source": [
    "V_LZ_fe"
   ]
  },
  {
   "cell_type": "code",
   "execution_count": 52,
   "id": "66a7f0bf-0412-4f37-9a20-6f3dc94329fb",
   "metadata": {},
   "outputs": [
    {
     "data": {
      "text/plain": [
       "0.00473606928013595"
      ]
     },
     "execution_count": 52,
     "metadata": {},
     "output_type": "execute_result"
    }
   ],
   "source": [
    "V_LZ_fe[0,0]**0.5"
   ]
  },
  {
   "cell_type": "markdown",
   "id": "46f7ac00-7535-4ed5-bbed-a22395b0190f",
   "metadata": {},
   "source": [
    "d)"
   ]
  },
  {
   "cell_type": "code",
   "execution_count": 53,
   "id": "66133048-5b82-48b8-ba83-a8ec0708fe4e",
   "metadata": {},
   "outputs": [],
   "source": [
    "fractions = data.groupby(\"yob\")[\"educ\"].mean()"
   ]
  },
  {
   "cell_type": "code",
   "execution_count": 54,
   "id": "dcb4f03f-f5fe-42fe-ace0-44ef39a325f4",
   "metadata": {},
   "outputs": [],
   "source": [
    "observation =  data.groupby(\"yob\")[\"y\"].count()"
   ]
  },
  {
   "cell_type": "code",
   "execution_count": null,
   "id": "890fb8a7-2632-424d-aca1-149e18a8e5be",
   "metadata": {},
   "outputs": [],
   "source": []
  },
  {
   "cell_type": "code",
   "execution_count": 55,
   "id": "5dcb0173-df53-4552-9aa8-9f20c5a89183",
   "metadata": {},
   "outputs": [
    {
     "name": "stderr",
     "output_type": "stream",
     "text": [
      "100%|██████████| 1000/1000 [07:27<00:00,  2.23it/s]\n"
     ]
    }
   ],
   "source": [
    "t_pop_boot_cl = []\n",
    "t_fe_boot_cl = []\n",
    "\n",
    "for i in tqdm(range(n_b)):\n",
    "    sample = pd.DataFrame()\n",
    "    for cluster in observation.index:\n",
    "        \n",
    "        draw_fraction = np.random.choice(fractions.values, 1)[0]\n",
    "        \n",
    "        N_t = observation[cluster]\n",
    "        \n",
    "        M_t = int(observation[cluster] * draw_fraction)\n",
    "        \n",
    "        sample_m = data.loc[np.random.choice(data[(data.yob == cluster) & (data.educ == 1)].index, M_t)]\n",
    "        sample_nm = data.loc[np.random.choice(data[(data.yob == cluster) & (data.educ == 0)].index, N_t - M_t)]\n",
    "    \n",
    "        sample = pd.concat([sample, sample_m, sample_nm])\n",
    "    t_pop_boot_cl.append(get_OLS(sample)[0][0])\n",
    "    t_fe_boot_cl.append(get_fe(sample)[0][0])"
   ]
  },
  {
   "cell_type": "code",
   "execution_count": 56,
   "id": "ca07514c-cef9-4cf0-82ee-c1cf9c130799",
   "metadata": {},
   "outputs": [
    {
     "data": {
      "text/plain": [
       "5.460671951506203e-06"
      ]
     },
     "execution_count": 56,
     "metadata": {},
     "output_type": "execute_result"
    }
   ],
   "source": [
    "np.var(t_pop_boot_cl)"
   ]
  },
  {
   "cell_type": "code",
   "execution_count": 57,
   "id": "56566bfb-8cd4-4c4d-98dc-b0518809fe9a",
   "metadata": {},
   "outputs": [
    {
     "data": {
      "text/plain": [
       "5.434380189394548e-06"
      ]
     },
     "execution_count": 57,
     "metadata": {},
     "output_type": "execute_result"
    }
   ],
   "source": [
    "np.var(t_fe_boot_cl)"
   ]
  },
  {
   "cell_type": "code",
   "execution_count": 58,
   "id": "506106fa-eb36-4bf3-ad0b-181613067728",
   "metadata": {},
   "outputs": [
    {
     "data": {
      "text/plain": [
       "0.002336808069034811"
      ]
     },
     "execution_count": 58,
     "metadata": {},
     "output_type": "execute_result"
    }
   ],
   "source": [
    "np.std(t_pop_boot_cl)"
   ]
  },
  {
   "cell_type": "code",
   "execution_count": 59,
   "id": "89ba18eb-70bc-4a06-892b-b5c439c4a1e2",
   "metadata": {},
   "outputs": [
    {
     "data": {
      "text/plain": [
       "0.0023311757096783907"
      ]
     },
     "execution_count": 59,
     "metadata": {},
     "output_type": "execute_result"
    }
   ],
   "source": [
    "np.std(t_fe_boot_cl)"
   ]
  },
  {
   "cell_type": "markdown",
   "id": "0444aa5d-23ad-4003-b477-d0f88ac61544",
   "metadata": {},
   "source": [
    "e)"
   ]
  },
  {
   "cell_type": "code",
   "execution_count": 60,
   "id": "aba42228-998b-4b82-a8e2-ef03bc496ce6",
   "metadata": {},
   "outputs": [],
   "source": [
    "data_cl = data.merge(data.groupby(\"yob\")[\"educ\"].mean().rename(\"educ_cl\").reset_index()).merge(data.groupby(\"yob\")[\"y\"].mean().rename(\"y_cl\").reset_index())"
   ]
  },
  {
   "cell_type": "code",
   "execution_count": 61,
   "id": "bf4f04ad-6a10-4714-93a3-7227b5941a6c",
   "metadata": {},
   "outputs": [],
   "source": [
    "data_cl[\"error_educ\"] = data_cl[\"educ\"] -  data_cl[\"educ_cl\"] \n",
    "data_cl[\"error_y\"] = data_cl[\"y\"] -  data_cl[\"y_cl\"] "
   ]
  },
  {
   "cell_type": "markdown",
   "id": "b19cf0e5-4fd6-40ec-aaaf-8907e5c94707",
   "metadata": {},
   "source": [
    "##### Within cluster correlation of log-earnings"
   ]
  },
  {
   "cell_type": "code",
   "execution_count": 62,
   "id": "d6765a84-1505-401b-9725-d999e5752fc0",
   "metadata": {},
   "outputs": [],
   "source": [
    "var_y, var_y_cl, var_y_error = np.diag(data_cl[[\"y\", \"y_cl\", \"error_y\"]].cov())"
   ]
  },
  {
   "cell_type": "code",
   "execution_count": 63,
   "id": "18fab797-c47e-4fef-bedf-da490dd04a6c",
   "metadata": {},
   "outputs": [
    {
     "data": {
      "text/plain": [
       "2.9905755253532846e-05"
      ]
     },
     "execution_count": 63,
     "metadata": {},
     "output_type": "execute_result"
    }
   ],
   "source": [
    "var_y_cl / var_y_error"
   ]
  },
  {
   "cell_type": "markdown",
   "id": "8a62955b-4cfe-4c8b-876e-8762b7786b57",
   "metadata": {},
   "source": [
    "f)"
   ]
  },
  {
   "cell_type": "markdown",
   "id": "fb2d2e58-9304-4a8d-ab6a-4c822c6aaea0",
   "metadata": {},
   "source": [
    "##### Within cluster correlation of log-earnings"
   ]
  },
  {
   "cell_type": "code",
   "execution_count": 64,
   "id": "d4eacf30-fdae-4cfe-ba3b-001084cb8cae",
   "metadata": {},
   "outputs": [],
   "source": [
    "var_t, var_t_cl, var_t_error = np.diag(data_cl[[\"educ\", \"educ_cl\", \"error_educ\"]].cov())"
   ]
  },
  {
   "cell_type": "code",
   "execution_count": 65,
   "id": "32df645c-5c23-49d8-86b4-82b9c76c766a",
   "metadata": {},
   "outputs": [
    {
     "data": {
      "text/plain": [
       "0.001035289357518583"
      ]
     },
     "execution_count": 65,
     "metadata": {},
     "output_type": "execute_result"
    }
   ],
   "source": [
    "var_t_cl / var_t_error"
   ]
  },
  {
   "cell_type": "markdown",
   "id": "47cc5356-b4e8-47c9-9698-ea976d8212fb",
   "metadata": {},
   "source": [
    "g) We could report the causal cluster variance"
   ]
  },
  {
   "cell_type": "code",
   "execution_count": 66,
   "id": "5f1e7ca0-0024-4f3e-aa85-c597f99363ec",
   "metadata": {},
   "outputs": [],
   "source": [
    "from modules import compute_CCV"
   ]
  },
  {
   "cell_type": "code",
   "execution_count": 67,
   "id": "2e521292-a33f-40ab-aad3-8b540927b819",
   "metadata": {},
   "outputs": [],
   "source": [
    "bar_Z = 0.5"
   ]
  },
  {
   "cell_type": "code",
   "execution_count": 68,
   "id": "3c9841b9-139d-4ad5-99ed-4a6026ff41f7",
   "metadata": {},
   "outputs": [],
   "source": [
    "data[\"Z\"] = np.random.choice([0,1], size = data.shape[0])"
   ]
  },
  {
   "cell_type": "code",
   "execution_count": 69,
   "id": "1f249c42-b459-4585-b29c-47fb00474ca4",
   "metadata": {},
   "outputs": [],
   "source": [
    "data['u'] = data['Z']\n",
    "data['Y'] = data['y']\n",
    "data['state'] = data['yob']"
   ]
  },
  {
   "cell_type": "code",
   "execution_count": 70,
   "id": "f59f0b9d-7780-4549-99f4-499ac4a2ee11",
   "metadata": {},
   "outputs": [
    {
     "data": {
      "text/plain": [
       "float"
      ]
     },
     "execution_count": 70,
     "metadata": {},
     "output_type": "execute_result"
    }
   ],
   "source": [
    "float"
   ]
  },
  {
   "cell_type": "code",
   "execution_count": 71,
   "id": "7536719d-29bb-4463-a075-134c1420c85c",
   "metadata": {},
   "outputs": [
    {
     "data": {
      "text/plain": [
       "2.768035576834058"
      ]
     },
     "execution_count": 71,
     "metadata": {},
     "output_type": "execute_result"
    }
   ],
   "source": [
    "compute_CCV(data, 0, 'educ', 1)"
   ]
  },
  {
   "cell_type": "code",
   "execution_count": 72,
   "id": "a32e8f5f-e18f-44b2-a960-c79304af6968",
   "metadata": {},
   "outputs": [
    {
     "data": {
      "text/plain": [
       "3.215981741061313"
      ]
     },
     "execution_count": 72,
     "metadata": {},
     "output_type": "execute_result"
    }
   ],
   "source": [
    "compute_CCV(data, 1, 'educ', 0)"
   ]
  },
  {
   "cell_type": "code",
   "execution_count": 73,
   "id": "0cfb4011-c832-4b3e-8893-04f0d867e430",
   "metadata": {},
   "outputs": [],
   "source": [
    "#Estimate the treatment effects using Z = 0"
   ]
  },
  {
   "cell_type": "code",
   "execution_count": 74,
   "id": "628cb273-34c6-4aad-ade9-9b59acf29df7",
   "metadata": {},
   "outputs": [],
   "source": [
    "data_0 = data[data.Z == 0]\n",
    "data_1 = data[data.Z == 1]"
   ]
  },
  {
   "cell_type": "code",
   "execution_count": 75,
   "id": "cb97d2b6-7c66-43ec-9364-61749b117b9c",
   "metadata": {},
   "outputs": [],
   "source": [
    "t_0, errors_0, X_0, beta = get_OLS(data_0)"
   ]
  },
  {
   "cell_type": "code",
   "execution_count": 76,
   "id": "43e5299d-b4a2-4b7c-8123-773945aae48d",
   "metadata": {},
   "outputs": [
    {
     "name": "stderr",
     "output_type": "stream",
     "text": [
      "/tmp/ipykernel_37570/1154524974.py:1: SettingWithCopyWarning: \n",
      "A value is trying to be set on a copy of a slice from a DataFrame.\n",
      "Try using .loc[row_indexer,col_indexer] = value instead\n",
      "\n",
      "See the caveats in the documentation: https://pandas.pydata.org/pandas-docs/stable/user_guide/indexing.html#returning-a-view-versus-a-copy\n",
      "  data_1['errors_star'] = data_1[['y']].values - data_1[['const', 'educ']].values @ beta\n"
     ]
    }
   ],
   "source": [
    "data_1['errors_star'] = data_1[['y']].values - data_1[['const', 'educ']].values @ beta"
   ]
  },
  {
   "cell_type": "code",
   "execution_count": 77,
   "id": "7e63e626-1340-4296-b074-5c66e777f2e1",
   "metadata": {},
   "outputs": [],
   "source": [
    "# Estimating t_km per cluster"
   ]
  },
  {
   "cell_type": "code",
   "execution_count": 78,
   "id": "3a458bd2-2b7e-4179-b157-92f2d79e6137",
   "metadata": {},
   "outputs": [
    {
     "name": "stderr",
     "output_type": "stream",
     "text": [
      "/tmp/ipykernel_37570/2397944678.py:1: SettingWithCopyWarning: \n",
      "A value is trying to be set on a copy of a slice from a DataFrame.\n",
      "Try using .loc[row_indexer,col_indexer] = value instead\n",
      "\n",
      "See the caveats in the documentation: https://pandas.pydata.org/pandas-docs/stable/user_guide/indexing.html#returning-a-view-versus-a-copy\n",
      "  data_0['error_0'] = errors_0\n"
     ]
    }
   ],
   "source": [
    "data_0['error_0'] = errors_0"
   ]
  },
  {
   "cell_type": "code",
   "execution_count": 79,
   "id": "0fe3753d-41b0-40f1-bfb1-78f12e56c78c",
   "metadata": {},
   "outputs": [],
   "source": [
    "tkm = data_0.groupby(['yob', 'educ'])['y'].mean().unstack('educ').pipe(lambda df: df[1] - df[0])"
   ]
  },
  {
   "cell_type": "code",
   "execution_count": 80,
   "id": "c4a34f0e-984b-4638-85cd-49411e440bed",
   "metadata": {},
   "outputs": [],
   "source": [
    "tkm_tk = tkm - t_0"
   ]
  },
  {
   "cell_type": "code",
   "execution_count": 81,
   "id": "a844cee2-2819-479f-b264-62dcff82bfb1",
   "metadata": {},
   "outputs": [],
   "source": [
    "bar_W = data.educ.mean()\n",
    "#bar_W = fractions.mean()"
   ]
  },
  {
   "cell_type": "code",
   "execution_count": 82,
   "id": "33d38340-115d-483d-be42-dd696a683bad",
   "metadata": {},
   "outputs": [
    {
     "name": "stderr",
     "output_type": "stream",
     "text": [
      "/tmp/ipykernel_37570/267994187.py:1: SettingWithCopyWarning: \n",
      "A value is trying to be set on a copy of a slice from a DataFrame.\n",
      "Try using .loc[row_indexer,col_indexer] = value instead\n",
      "\n",
      "See the caveats in the documentation: https://pandas.pydata.org/pandas-docs/stable/user_guide/indexing.html#returning-a-view-versus-a-copy\n",
      "  data_1['W_bar_W'] = data_1['educ'] - bar_W\n"
     ]
    }
   ],
   "source": [
    "data_1['W_bar_W'] = data_1['educ'] - bar_W"
   ]
  },
  {
   "cell_type": "code",
   "execution_count": 83,
   "id": "9fb84490-5500-455b-968f-23a13663cc96",
   "metadata": {},
   "outputs": [],
   "source": [
    "data_1 = data_1.merge(tkm_tk.rename('tkm_tk').reset_index())"
   ]
  },
  {
   "cell_type": "code",
   "execution_count": 84,
   "id": "01e7fdb9-6355-4c9c-9b2b-6c4599955e1b",
   "metadata": {},
   "outputs": [],
   "source": [
    "data_1['C'] = (data_1['W_bar_W'] * data_1['errors_star'] - data_1['tkm_tk'] * bar_W * (1-bar_W))"
   ]
  },
  {
   "cell_type": "code",
   "execution_count": 85,
   "id": "2487e5e4-15e5-4982-82c7-22c6521b2212",
   "metadata": {},
   "outputs": [
    {
     "data": {
      "text/plain": [
       "2.7564870377130197"
      ]
     },
     "execution_count": 85,
     "metadata": {},
     "output_type": "execute_result"
    }
   ],
   "source": [
    "((1/(bar_Z ** 2) * (data_1.groupby('yob')['C'].sum() ** 2).sum()  - bar_Z / (bar_Z**2) * (data_1['C'] ** 2).sum()) * 1/(N * bar_W ** 2 * (1 - bar_W) **2) \n",
    " + (tkm_tk * data.groupby(['yob'])['y'].count()/data.groupby(['yob'])['y'].count().sum()).sum()\n",
    ")"
   ]
  },
  {
   "cell_type": "markdown",
   "id": "6db69913-67ae-41d0-8957-a9ca97e32893",
   "metadata": {},
   "source": [
    "Not good estimator / might be something wrong with the underlying data"
   ]
  },
  {
   "cell_type": "markdown",
   "id": "08f3f92f-f467-46e6-a0fc-5e1bd380d34a",
   "metadata": {},
   "source": [
    "For the fixed effects one"
   ]
  },
  {
   "cell_type": "code",
   "execution_count": null,
   "id": "9146b16f-e6e2-4abe-9ba0-30c8dd699417",
   "metadata": {},
   "outputs": [],
   "source": []
  },
  {
   "cell_type": "code",
   "execution_count": 86,
   "id": "2e12b315-4620-4e98-88d9-c89f15dfe058",
   "metadata": {},
   "outputs": [],
   "source": [
    "lambda_k =1 - (fractions*(1-fractions)).mean() ** 2 / ((fractions*(1-fractions))**2).mean()"
   ]
  },
  {
   "cell_type": "code",
   "execution_count": 95,
   "id": "c43b93ce-c6ff-40d9-9365-6a130f86b5c9",
   "metadata": {},
   "outputs": [
    {
     "data": {
      "text/plain": [
       "0.00019555429230122545"
      ]
     },
     "execution_count": 95,
     "metadata": {},
     "output_type": "execute_result"
    }
   ],
   "source": [
    "lambda_k"
   ]
  },
  {
   "cell_type": "code",
   "execution_count": 87,
   "id": "5ada534c-7994-40d3-a94f-c89bb3729a86",
   "metadata": {},
   "outputs": [],
   "source": [
    "V_CCV_fe = lambda_k * V_LZ_fe[0,0] + (1 - lambda_k) * V_EHW_fe[0,0]"
   ]
  },
  {
   "cell_type": "code",
   "execution_count": 88,
   "id": "8e06f638-fab2-4e06-a55c-655786111e07",
   "metadata": {},
   "outputs": [
    {
     "data": {
      "text/plain": [
       "0.002311760722132041"
      ]
     },
     "execution_count": 88,
     "metadata": {},
     "output_type": "execute_result"
    }
   ],
   "source": [
    "V_CCV_fe ** 0.5"
   ]
  },
  {
   "cell_type": "markdown",
   "id": "4f04b996-b21f-4d92-806a-850aa2d07ee6",
   "metadata": {},
   "source": [
    "##### Question 2"
   ]
  },
  {
   "cell_type": "markdown",
   "id": "f30819c3-79a6-4c21-a75a-59d9f18c4ec8",
   "metadata": {},
   "source": [
    "a)"
   ]
  },
  {
   "cell_type": "markdown",
   "id": "6e38fce4-eb79-4d4e-8495-72b720c6acd5",
   "metadata": {},
   "source": [
    "I would report the FE-CCV. Since this is the most correct one. Nevertheless, since the cluster component seems to be a a not important component of the varibility observed in the outcome, the standard errors reported using the robust version won't be so different."
   ]
  },
  {
   "cell_type": "markdown",
   "id": "e9bfd48c-73c3-42dc-a330-c7821f7380d5",
   "metadata": {},
   "source": [
    "b)"
   ]
  },
  {
   "cell_type": "code",
   "execution_count": 89,
   "id": "5b1f4623-811c-410f-b10f-588f83846410",
   "metadata": {},
   "outputs": [
    {
     "data": {
      "text/plain": [
       "yob\n",
       "30.0    0.364175\n",
       "31.0    0.382794\n",
       "32.0    0.388315\n",
       "33.0    0.394068\n",
       "34.0    0.396604\n",
       "35.0    0.403167\n",
       "36.0    0.405374\n",
       "37.0    0.407136\n",
       "38.0    0.414985\n",
       "39.0    0.419746\n",
       "Name: educ, dtype: float64"
      ]
     },
     "execution_count": 89,
     "metadata": {},
     "output_type": "execute_result"
    }
   ],
   "source": [
    "fractions\n"
   ]
  },
  {
   "cell_type": "code",
   "execution_count": 90,
   "id": "3012fb90-638e-4bb6-ac3a-16f22d72aa58",
   "metadata": {},
   "outputs": [
    {
     "data": {
      "text/plain": [
       "0.05725518787802391"
      ]
     },
     "execution_count": 90,
     "metadata": {},
     "output_type": "execute_result"
    }
   ],
   "source": [
    "(fractions*(1-fractions)).mean() ** 2\n"
   ]
  },
  {
   "cell_type": "code",
   "execution_count": 91,
   "id": "224c0d09-f84d-4337-9672-85be929746ca",
   "metadata": {},
   "outputs": [
    {
     "data": {
      "text/plain": [
       "0.05726638656572142"
      ]
     },
     "execution_count": 91,
     "metadata": {},
     "output_type": "execute_result"
    }
   ],
   "source": [
    "((fractions*(1-fractions))**2).mean()"
   ]
  },
  {
   "cell_type": "code",
   "execution_count": 92,
   "id": "8ffd9de9-1b5c-4b8f-8392-0de6dec11361",
   "metadata": {},
   "outputs": [
    {
     "data": {
      "text/plain": [
       "0.3976363242160999"
      ]
     },
     "execution_count": 92,
     "metadata": {},
     "output_type": "execute_result"
    }
   ],
   "source": [
    "fractions.mean()"
   ]
  },
  {
   "cell_type": "code",
   "execution_count": 93,
   "id": "dc660663-1fae-4eea-8261-f1c58d511c93",
   "metadata": {},
   "outputs": [
    {
     "data": {
      "text/plain": [
       "0.30861386806538577"
      ]
     },
     "execution_count": 93,
     "metadata": {},
     "output_type": "execute_result"
    }
   ],
   "source": [
    "fractions.mean() * (1-fractions.mean()) ** 0.5"
   ]
  },
  {
   "cell_type": "code",
   "execution_count": 94,
   "id": "8d00bf16-3b45-41d1-a499-d8943b7a2992",
   "metadata": {},
   "outputs": [
    {
     "data": {
      "text/plain": [
       "0.0002679053097953354"
      ]
     },
     "execution_count": 94,
     "metadata": {},
     "output_type": "execute_result"
    }
   ],
   "source": [
    "fractions.var()"
   ]
  },
  {
   "cell_type": "markdown",
   "id": "dcec82c9-baf4-46aa-a97a-c3390a993401",
   "metadata": {},
   "source": [
    "This because the variance of $A_{k, g}$ is close to 0. At most I'd use the CCV. The clustered adjusted variance seems to be an overadjustment for the standard errors."
   ]
  }
 ],
 "metadata": {
  "kernelspec": {
   "display_name": "Python 3 (ipykernel)",
   "language": "python",
   "name": "python3"
  },
  "language_info": {
   "codemirror_mode": {
    "name": "ipython",
    "version": 3
   },
   "file_extension": ".py",
   "mimetype": "text/x-python",
   "name": "python",
   "nbconvert_exporter": "python",
   "pygments_lexer": "ipython3",
   "version": "3.11.6"
  }
 },
 "nbformat": 4,
 "nbformat_minor": 5
}
