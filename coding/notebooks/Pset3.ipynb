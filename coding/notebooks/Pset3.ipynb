{
 "cells": [
  {
   "cell_type": "code",
   "execution_count": 1,
   "id": "fcad6255-509b-4694-baf8-1149ec8970a9",
   "metadata": {},
   "outputs": [],
   "source": [
    "import numpy as np\n",
    "import pandas as pd"
   ]
  },
  {
   "cell_type": "code",
   "execution_count": 2,
   "id": "702a13ac-74e2-48d0-b037-ce1ff5dab060",
   "metadata": {},
   "outputs": [],
   "source": [
    "import matplotlib.pyplot as plt"
   ]
  },
  {
   "cell_type": "code",
   "execution_count": 3,
   "id": "ab4ed256-f457-42dc-a8b2-767e669e5bdb",
   "metadata": {},
   "outputs": [],
   "source": [
    "from scipy.stats import beta"
   ]
  },
  {
   "cell_type": "code",
   "execution_count": 4,
   "id": "6b81c866-3bd2-464a-b4d6-ea15cdd66c89",
   "metadata": {},
   "outputs": [],
   "source": [
    "import itertools"
   ]
  },
  {
   "cell_type": "code",
   "execution_count": 5,
   "id": "906639f9-f6f9-43f7-b94b-82a510a8350d",
   "metadata": {},
   "outputs": [],
   "source": [
    "p = {1: 0.2, \n",
    "     2: 0.5, \n",
    "     3: 0.45, \n",
    "     4: 0.3, \n",
    "     5: 0.1, \n",
    "     6: 0.45\n",
    "    }"
   ]
  },
  {
   "cell_type": "code",
   "execution_count": 6,
   "id": "f38964ab-8f10-4c1d-9851-8affc977a0fd",
   "metadata": {},
   "outputs": [],
   "source": [
    "N = 6000"
   ]
  },
  {
   "cell_type": "markdown",
   "id": "76b649d7-a7b3-4ab6-b19e-680d4f3a096d",
   "metadata": {},
   "source": [
    "Exercise 1"
   ]
  },
  {
   "cell_type": "markdown",
   "id": "d52d8d05-0703-40d8-8f09-8f7a34a10524",
   "metadata": {},
   "source": [
    "a)"
   ]
  },
  {
   "cell_type": "markdown",
   "id": "d9e5f8bd-b0b8-40bd-baa9-3994bf627832",
   "metadata": {},
   "source": [
    "We use a flat prior for the probability $\\gamma$ of success, which could be described as a Beta(1,1) prior. Since the beta distribution is the conjugate of the Bernoulli distributions, the posterior should also be beta. Assuming we observe $N_0$ fails and $N_1$ successes, the posterior is:\n",
    "\n",
    "$$p(\\gamma|Y) = p(Y|\\gamma) P (\\gamma) / P(Y)$$\n",
    "$$p(\\gamma|Y) = \\frac{{N \\choose N_1}\\gamma^{N_1}(1-\\gamma)^{N_0} P (\\gamma)}{P(Y)}$$\n",
    "$$p(\\gamma|Y) = \\frac{{N \\choose N_1}\\gamma^{N_1}(1-\\gamma)^{N_0} P (\\gamma)}{\\int_{0}^{1} {N \\choose N_1}\\gamma^{N_1}(1-\\gamma)^{N_0} P (\\gamma) d\\gamma}$$\n",
    "$$\\gamma|Y \\sim Beta(1 + N_1,1 + N_0)$$"
   ]
  },
  {
   "cell_type": "code",
   "execution_count": 7,
   "id": "38b9c84c-5f4d-4722-a69f-be63cfd18304",
   "metadata": {},
   "outputs": [],
   "source": [
    "def get_post(results):\n",
    "    mean = {}\n",
    "    var = {}\n",
    "    post_beta = {}\n",
    "    for i in results.keys():\n",
    "        if len(results[i]) == 0:\n",
    "            N_1 = 1\n",
    "            N_0 = 1\n",
    "        else:\n",
    "            N_1 = int((np.sum(results[i])))\n",
    "            N_0 = int(len(results[i]) - N_1)\n",
    "        post_beta[i] = [N_1 + 1, N_0 + 1]\n",
    "        mean[i] = (N_1 + 1) / (N_0 + 1 + N_1 + 1)\n",
    "        var[i] = (N_0 + 1) * (N_1 + 1) / ((N_0 + 1 + N_1 + 1) ** 2 * (N_0 + 1 + N_1 + 1 + 1))\n",
    "\n",
    "    return post_beta, mean, var\n"
   ]
  },
  {
   "cell_type": "code",
   "execution_count": 8,
   "id": "e950d72c-0fdf-406e-bc78-18b3f85623fa",
   "metadata": {},
   "outputs": [],
   "source": [
    "def get_points(n_points, post_beta):\n",
    "    \n",
    "    points = np.linspace(0,1, n_points)\n",
    "    # Getting all the CDF for each arm:\n",
    "    cdf_beta = {}\n",
    "    pdf_beta = {}\n",
    "    for x in post_beta.keys():\n",
    "        cdf_beta[x] = beta.cdf(points, post_beta[x][0], post_beta[x][1])\n",
    "        pdf_beta[x] = beta.pdf(points, post_beta[x][0], post_beta[x][1])\n",
    "        \n",
    "    return points, cdf_beta, pdf_beta"
   ]
  },
  {
   "cell_type": "code",
   "execution_count": 9,
   "id": "e5b6dc48-0754-4bf6-a082-8cde23bcf995",
   "metadata": {},
   "outputs": [],
   "source": [
    "def get_p_max(post_beta, n_points):\n",
    "    \n",
    "    prob_max = {}\n",
    "    points, cdf_beta, pdf_beta = get_points(n_points, post_beta)\n",
    "    \n",
    "    for arm in post_beta.keys():\n",
    "    \n",
    "        prob = 0\n",
    "        for i, _ in enumerate(points[:-1]):\n",
    "            p_max_a = 1\n",
    "            p_max_b = 1\n",
    "            \n",
    "            for other_arm in post_beta.keys():\n",
    "                if other_arm != arm:\n",
    "                    p_max_a = p_max_a * cdf_beta[other_arm][i]\n",
    "                    p_max_b = p_max_b * cdf_beta[other_arm][i + 1]\n",
    "\n",
    "            p_max_a = p_max_a * (pdf_beta[arm][i])\n",
    "            p_max_b = p_max_b * (pdf_beta[arm][i + 1])\n",
    "            prob += (p_max_a + p_max_b)/2 * ( points[i + 1] - points[i])\n",
    "        \n",
    "    \n",
    "        prob_max[arm] = prob\n",
    "    return pd.Series(prob_max)/pd.Series(prob_max).sum()"
   ]
  },
  {
   "cell_type": "code",
   "execution_count": 10,
   "id": "1d07ba4e-43a6-4e80-ad5d-bfc608518b16",
   "metadata": {},
   "outputs": [],
   "source": [
    "class RandomExperiment:\n",
    "    def __init__(self, N,p_arms, n_points = 1000):\n",
    "        self.N = N\n",
    "        self.p = p_arms\n",
    "        self.results = {}\n",
    "        self.post_beta = {}\n",
    "        self.n_points = n_points\n",
    "        for i in p.keys():\n",
    "            self.results[i] = []\n",
    "            \n",
    "    \n",
    "    def sample(self):\n",
    "        n_per_arm = int(np.floor(self.N / len(self.p.keys())))\n",
    "        for _ in range(n_per_arm):\n",
    "            for i in self.p.keys():\n",
    "                self.results[i].append(np.random.choice([0,1], p = [1-self.p[i], self.p[i]]))\n",
    "        self.post_beta, self.mean, self.var = get_post(self.results)\n",
    "        self.prob_max = get_p_max(self.post_beta, self.n_points)\n",
    "        self.counts = dict(zip(self.results.keys(), [*map(len, self.results.values())]))\n",
    "        self.highest_prob_max = self.prob_max.idxmax()\n",
    "        self.highest_mean = pd.Series(self.mean).idxmax()\n",
    "        self.regret = max(self.p.values()) - np.mean(list(itertools.chain.from_iterable(self.results.values())))"
   ]
  },
  {
   "cell_type": "code",
   "execution_count": 11,
   "id": "7babcd47-a028-4cb0-8a81-5f9099167c5b",
   "metadata": {},
   "outputs": [],
   "source": [
    "r0 = RandomExperiment(N = 6000, p_arms=p)"
   ]
  },
  {
   "cell_type": "code",
   "execution_count": 12,
   "id": "3f3776a7-3b96-4832-86f1-78472d2ae217",
   "metadata": {},
   "outputs": [],
   "source": [
    "r0.sample()"
   ]
  },
  {
   "cell_type": "code",
   "execution_count": 13,
   "id": "3551bbae-aae6-4cd1-afab-d728249932b4",
   "metadata": {},
   "outputs": [
    {
     "data": {
      "text/plain": [
       "{1: 0.21057884231536927,\n",
       " 2: 0.5059880239520959,\n",
       " 3: 0.45808383233532934,\n",
       " 4: 0.2954091816367265,\n",
       " 5: 0.09580838323353294,\n",
       " 6: 0.4431137724550898}"
      ]
     },
     "execution_count": 13,
     "metadata": {},
     "output_type": "execute_result"
    }
   ],
   "source": [
    "r0.mean"
   ]
  },
  {
   "cell_type": "code",
   "execution_count": 14,
   "id": "1407badf-0f7f-4972-b952-904f2c0012d6",
   "metadata": {},
   "outputs": [
    {
     "data": {
      "text/plain": [
       "{1: 0.00016573817894764519,\n",
       " 2: 0.00024921649408688845,\n",
       " 3: 0.0002475005332884419,\n",
       " 4: 0.00020752003693065408,\n",
       " 5: 8.637002685514399e-05,\n",
       " 6: 0.0002460258794772769}"
      ]
     },
     "execution_count": 14,
     "metadata": {},
     "output_type": "execute_result"
    }
   ],
   "source": [
    "r0.var"
   ]
  },
  {
   "cell_type": "code",
   "execution_count": 15,
   "id": "1bb343ab-7ba2-4c5d-af63-253c4f8390c4",
   "metadata": {},
   "outputs": [],
   "source": [
    "n_points = 1000"
   ]
  },
  {
   "cell_type": "code",
   "execution_count": 16,
   "id": "bafcb512-399f-42da-a384-314fc8991873",
   "metadata": {},
   "outputs": [
    {
     "data": {
      "text/plain": [
       "{1: [211, 791],\n",
       " 2: [507, 495],\n",
       " 3: [459, 543],\n",
       " 4: [296, 706],\n",
       " 5: [96, 906],\n",
       " 6: [444, 558]}"
      ]
     },
     "execution_count": 16,
     "metadata": {},
     "output_type": "execute_result"
    }
   ],
   "source": [
    "r0.post_beta"
   ]
  },
  {
   "cell_type": "code",
   "execution_count": 17,
   "id": "49e5bd1c-6743-466d-8217-3a560b030701",
   "metadata": {},
   "outputs": [],
   "source": [
    "points, cdf_beta, pdf_beta = get_points(1000, r0.post_beta )"
   ]
  },
  {
   "cell_type": "code",
   "execution_count": 18,
   "id": "62a64625-4e4a-45f3-9526-8da24e68f86e",
   "metadata": {},
   "outputs": [
    {
     "data": {
      "text/plain": [
       "[<matplotlib.lines.Line2D at 0x7f0034b58690>]"
      ]
     },
     "execution_count": 18,
     "metadata": {},
     "output_type": "execute_result"
    },
    {
     "data": {
      "image/png": "[encoded data removed]",
      "text/plain": [
       "<Figure size 640x480 with 1 Axes>"
      ]
     },
     "metadata": {},
     "output_type": "display_data"
    }
   ],
   "source": [
    "plt.plot(points, pdf_beta[1])\n",
    "plt.plot(points, pdf_beta[2])\n",
    "plt.plot(points, pdf_beta[3])\n",
    "plt.plot(points, pdf_beta[4])\n",
    "plt.plot(points, pdf_beta[5])\n",
    "plt.plot(points, pdf_beta[6])"
   ]
  },
  {
   "cell_type": "markdown",
   "id": "7aabf1ab-c2f0-45bc-adad-8c24cf8a538f",
   "metadata": {},
   "source": [
    "b)"
   ]
  },
  {
   "cell_type": "code",
   "execution_count": 19,
   "id": "853aca31-b878-48b9-b5cd-6eea7d160aa8",
   "metadata": {},
   "outputs": [
    {
     "data": {
      "text/plain": [
       "1     3.914125e-54\n",
       "2     9.823156e-01\n",
       "3     1.566047e-02\n",
       "4     4.485701e-26\n",
       "5    5.077609e-119\n",
       "6     2.023947e-03\n",
       "dtype: float64"
      ]
     },
     "execution_count": 19,
     "metadata": {},
     "output_type": "execute_result"
    }
   ],
   "source": [
    "r0.prob_max"
   ]
  },
  {
   "cell_type": "markdown",
   "id": "c51a2cfc-0955-41db-9ae1-dedc95139286",
   "metadata": {},
   "source": [
    "c)"
   ]
  },
  {
   "cell_type": "code",
   "execution_count": 20,
   "id": "418816b4-2c7c-4c34-89de-27455c96cd45",
   "metadata": {},
   "outputs": [],
   "source": [
    "class ThomsonExperiment:\n",
    "    def __init__(self, N,p_arms, n_trials = 100, n_points = 1000):\n",
    "        self.N = N\n",
    "        self.p = p_arms\n",
    "        self.results = {}\n",
    "        self.post_beta = {}\n",
    "        self.n_trials = n_trials\n",
    "        self.n_points = n_points\n",
    "        for i in p.keys():\n",
    "            self.results[i] = []\n",
    "            # Initializing a flat prior\n",
    "            self.post_beta[i] = [1,1]\n",
    "\n",
    "        self.n_update = int(np.floor(N/n_trials))\n",
    "            \n",
    "    \n",
    "    def sample(self):\n",
    "        for _ in range(self.n_update):\n",
    "            self.prob_max = get_p_max(self.post_beta, self.n_points)\n",
    "            for _ in range(self.n_trials):\n",
    "                i = np.random.choice(self.prob_max.index, p = self.prob_max.values )\n",
    "                self.results[i].append(np.random.choice([0,1], p = [1-self.p[i], self.p[i]]))\n",
    "            self.post_beta, self.mean, self.var = get_post(self.results)\n",
    "        self.counts = dict(zip(self.results.keys(), [*map(len, self.results.values())]))\n",
    "        self.highest_prob_max = self.prob_max.idxmax()\n",
    "        self.highest_mean = pd.Series(self.mean).idxmax()\n",
    "        self.regret = max(self.p.values()) - np.mean(list(itertools.chain.from_iterable(self.results.values())))"
   ]
  },
  {
   "cell_type": "code",
   "execution_count": 21,
   "id": "2e145eea-f263-481c-9448-3114c95c79c0",
   "metadata": {},
   "outputs": [],
   "source": [
    "t0 = ThomsonExperiment(N, p)"
   ]
  },
  {
   "cell_type": "code",
   "execution_count": 22,
   "id": "11b33843-8c71-4f40-83f7-f335172376ec",
   "metadata": {},
   "outputs": [],
   "source": [
    "t0.sample()"
   ]
  },
  {
   "cell_type": "code",
   "execution_count": 23,
   "id": "656790bc-74f0-4c28-8681-b92178823ab1",
   "metadata": {},
   "outputs": [],
   "source": [
    "points, cdf_beta_thomson, pdf_beta_thomson = get_points(n_points, t0.post_beta)"
   ]
  },
  {
   "cell_type": "code",
   "execution_count": 24,
   "id": "57fe3390-d7cc-4cd2-ac38-31b5e624b023",
   "metadata": {},
   "outputs": [
    {
     "data": {
      "text/plain": [
       "[<matplotlib.lines.Line2D at 0x7f0034a03410>]"
      ]
     },
     "execution_count": 24,
     "metadata": {},
     "output_type": "execute_result"
    },
    {
     "data": {
      "image/png": "[encoded data removed]",
      "text/plain": [
       "<Figure size 640x480 with 1 Axes>"
      ]
     },
     "metadata": {},
     "output_type": "display_data"
    }
   ],
   "source": [
    "plt.plot(points, pdf_beta_thomson[1])\n",
    "plt.plot(points, pdf_beta_thomson[2])\n",
    "plt.plot(points, pdf_beta_thomson[3])\n",
    "plt.plot(points, pdf_beta_thomson[4])\n",
    "plt.plot(points, pdf_beta_thomson[5])\n",
    "plt.plot(points, pdf_beta_thomson[6])"
   ]
  },
  {
   "cell_type": "code",
   "execution_count": 25,
   "id": "d9a734d6-238b-471a-aa99-272ab556c0df",
   "metadata": {},
   "outputs": [
    {
     "data": {
      "text/plain": [
       "{1: 0.23076923076923078,\n",
       " 2: 0.49250985545335085,\n",
       " 3: 0.4703643284393692,\n",
       " 4: 0.35365853658536583,\n",
       " 5: 0.1,\n",
       " 6: 0.41409691629955947}"
      ]
     },
     "execution_count": 25,
     "metadata": {},
     "output_type": "execute_result"
    }
   ],
   "source": [
    "t0.mean"
   ]
  },
  {
   "cell_type": "code",
   "execution_count": 26,
   "id": "d78302a8-a630-4888-a8b6-186971b59bd1",
   "metadata": {},
   "outputs": [
    {
     "data": {
      "text/plain": [
       "{1: 0.004437869822485207,\n",
       " 2: 6.567101884778515e-05,\n",
       " 3: 0.0001353922429191035,\n",
       " 4: 0.002754026217899558,\n",
       " 5: 0.004285714285714286,\n",
       " 6: 0.0010641257026787504}"
      ]
     },
     "execution_count": 26,
     "metadata": {},
     "output_type": "execute_result"
    }
   ],
   "source": [
    "t0.var"
   ]
  },
  {
   "cell_type": "code",
   "execution_count": 27,
   "id": "cb57eb7b-7983-441f-83c6-0a2d51dfea19",
   "metadata": {},
   "outputs": [
    {
     "data": {
      "text/plain": [
       "1    0.000354\n",
       "2    0.911609\n",
       "3    0.069469\n",
       "4    0.007720\n",
       "5    0.000051\n",
       "6    0.010797\n",
       "dtype: float64"
      ]
     },
     "execution_count": 27,
     "metadata": {},
     "output_type": "execute_result"
    }
   ],
   "source": [
    "t0.prob_max"
   ]
  },
  {
   "cell_type": "code",
   "execution_count": 28,
   "id": "c81c9479-8c70-439b-9f71-20fe275e1364",
   "metadata": {},
   "outputs": [
    {
     "data": {
      "text/plain": [
       "1    0.006167\n",
       "2    0.633833\n",
       "3    0.306167\n",
       "4    0.013333\n",
       "5    0.003000\n",
       "6    0.037500\n",
       "dtype: float64"
      ]
     },
     "execution_count": 28,
     "metadata": {},
     "output_type": "execute_result"
    }
   ],
   "source": [
    "pd.Series(t0.counts)/pd.Series(t0.counts).sum()"
   ]
  },
  {
   "cell_type": "markdown",
   "id": "2f6b77ec-4598-4998-ad73-7541c9e53616",
   "metadata": {},
   "source": [
    "d)"
   ]
  },
  {
   "cell_type": "markdown",
   "id": "29295f12-4725-4f79-9999-ecfe051fa5c6",
   "metadata": {},
   "source": [
    "Running every approach 100 times"
   ]
  },
  {
   "cell_type": "code",
   "execution_count": 29,
   "id": "d9b379bf-423b-4740-bf55-3e58a38f02e5",
   "metadata": {},
   "outputs": [],
   "source": [
    "n_rep = 100"
   ]
  },
  {
   "cell_type": "code",
   "execution_count": 30,
   "id": "8c9d690c-b4a6-43bf-940a-4260875c6cac",
   "metadata": {},
   "outputs": [],
   "source": [
    "list_random = [RandomExperiment(N, p) for _ in range(n_rep)]\n",
    "list_thomsom = [ThomsonExperiment(N, p) for _ in range(n_rep)]"
   ]
  },
  {
   "cell_type": "code",
   "execution_count": 31,
   "id": "2e789584-709d-4dfe-8d6a-40775728ec69",
   "metadata": {},
   "outputs": [
    {
     "data": {
      "text/plain": [
       "[None,\n",
       " None,\n",
       " None,\n",
       " None,\n",
       " None,\n",
       " None,\n",
       " None,\n",
       " None,\n",
       " None,\n",
       " None,\n",
       " None,\n",
       " None,\n",
       " None,\n",
       " None,\n",
       " None,\n",
       " None,\n",
       " None,\n",
       " None,\n",
       " None,\n",
       " None,\n",
       " None,\n",
       " None,\n",
       " None,\n",
       " None,\n",
       " None,\n",
       " None,\n",
       " None,\n",
       " None,\n",
       " None,\n",
       " None,\n",
       " None,\n",
       " None,\n",
       " None,\n",
       " None,\n",
       " None,\n",
       " None,\n",
       " None,\n",
       " None,\n",
       " None,\n",
       " None,\n",
       " None,\n",
       " None,\n",
       " None,\n",
       " None,\n",
       " None,\n",
       " None,\n",
       " None,\n",
       " None,\n",
       " None,\n",
       " None,\n",
       " None,\n",
       " None,\n",
       " None,\n",
       " None,\n",
       " None,\n",
       " None,\n",
       " None,\n",
       " None,\n",
       " None,\n",
       " None,\n",
       " None,\n",
       " None,\n",
       " None,\n",
       " None,\n",
       " None,\n",
       " None,\n",
       " None,\n",
       " None,\n",
       " None,\n",
       " None,\n",
       " None,\n",
       " None,\n",
       " None,\n",
       " None,\n",
       " None,\n",
       " None,\n",
       " None,\n",
       " None,\n",
       " None,\n",
       " None,\n",
       " None,\n",
       " None,\n",
       " None,\n",
       " None,\n",
       " None,\n",
       " None,\n",
       " None,\n",
       " None,\n",
       " None,\n",
       " None,\n",
       " None,\n",
       " None,\n",
       " None,\n",
       " None,\n",
       " None,\n",
       " None,\n",
       " None,\n",
       " None,\n",
       " None,\n",
       " None]"
      ]
     },
     "execution_count": 31,
     "metadata": {},
     "output_type": "execute_result"
    }
   ],
   "source": [
    "[mod.sample() for mod in list_random]\n",
    "[mod.sample() for mod in list_thomsom]"
   ]
  },
  {
   "cell_type": "code",
   "execution_count": 32,
   "id": "5464efb5-0bad-4eef-8dc9-6293e9a0e40b",
   "metadata": {},
   "outputs": [],
   "source": [
    "max_mean_arm_r = [mod.highest_mean for mod in list_random]\n",
    "max_prob_arm_r = [mod.highest_prob_max for mod in list_random]"
   ]
  },
  {
   "cell_type": "code",
   "execution_count": 33,
   "id": "807d49b2-2a75-4209-8e29-49840921e224",
   "metadata": {},
   "outputs": [],
   "source": [
    "max_mean_arm_t = [mod.highest_mean for mod in list_thomsom]\n",
    "max_prob_arm_t = [mod.highest_prob_max for mod in list_thomsom]"
   ]
  },
  {
   "cell_type": "markdown",
   "id": "5832bd04-58fa-45fc-9a70-b80fdc3789d9",
   "metadata": {},
   "source": [
    "Random"
   ]
  },
  {
   "cell_type": "code",
   "execution_count": 34,
   "id": "012c93c0-e201-4d4f-8b10-3a382f18713e",
   "metadata": {},
   "outputs": [
    {
     "data": {
      "text/plain": [
       "2    100\n",
       "Name: count, dtype: int64"
      ]
     },
     "execution_count": 34,
     "metadata": {},
     "output_type": "execute_result"
    }
   ],
   "source": [
    "pd.Series(max_mean_arm_r).value_counts()"
   ]
  },
  {
   "cell_type": "code",
   "execution_count": 35,
   "id": "0766209f-e3b9-4e0d-b89d-72b089a04fdd",
   "metadata": {},
   "outputs": [
    {
     "data": {
      "text/plain": [
       "2    100\n",
       "Name: count, dtype: int64"
      ]
     },
     "execution_count": 35,
     "metadata": {},
     "output_type": "execute_result"
    }
   ],
   "source": [
    "pd.Series(max_prob_arm_r).value_counts()"
   ]
  },
  {
   "cell_type": "markdown",
   "id": "11c290f3-1fa7-4f18-9525-4327f3eaf17f",
   "metadata": {},
   "source": [
    "Thomson"
   ]
  },
  {
   "cell_type": "code",
   "execution_count": 36,
   "id": "22b78ee6-8fd4-4e73-be95-b66f96fe89d8",
   "metadata": {},
   "outputs": [
    {
     "data": {
      "text/plain": [
       "2    99\n",
       "6     1\n",
       "Name: count, dtype: int64"
      ]
     },
     "execution_count": 36,
     "metadata": {},
     "output_type": "execute_result"
    }
   ],
   "source": [
    "pd.Series(max_mean_arm_t).value_counts()"
   ]
  },
  {
   "cell_type": "code",
   "execution_count": 37,
   "id": "054fba0f-abfa-4cc3-a8a5-5b44e4dbe2db",
   "metadata": {},
   "outputs": [
    {
     "data": {
      "text/plain": [
       "2    99\n",
       "6     1\n",
       "Name: count, dtype: int64"
      ]
     },
     "execution_count": 37,
     "metadata": {},
     "output_type": "execute_result"
    }
   ],
   "source": [
    "pd.Series(max_prob_arm_t).value_counts()"
   ]
  },
  {
   "cell_type": "markdown",
   "id": "58b4cc97-9d14-4061-afec-8e8adb20d9e1",
   "metadata": {},
   "source": [
    "e)"
   ]
  },
  {
   "cell_type": "code",
   "execution_count": 38,
   "id": "c1277f83-392f-4629-9679-5f6e763c195c",
   "metadata": {},
   "outputs": [],
   "source": [
    "regret_r = [mod.regret for mod in list_random]\n",
    "regret_t = [mod.regret for mod in list_thomsom]"
   ]
  },
  {
   "cell_type": "code",
   "execution_count": 39,
   "id": "e8432139-93ea-4154-8645-b492a1dde18b",
   "metadata": {},
   "outputs": [
    {
     "data": {
      "text/plain": [
       "0.16661833333333334"
      ]
     },
     "execution_count": 39,
     "metadata": {},
     "output_type": "execute_result"
    }
   ],
   "source": [
    "np.mean(regret_r)"
   ]
  },
  {
   "cell_type": "code",
   "execution_count": 40,
   "id": "3fd2ed2b-b04d-4d9c-af65-f5fe1532aabe",
   "metadata": {},
   "outputs": [
    {
     "data": {
      "text/plain": [
       "0.011958333333333335"
      ]
     },
     "execution_count": 40,
     "metadata": {},
     "output_type": "execute_result"
    }
   ],
   "source": [
    "np.mean(regret_t)"
   ]
  },
  {
   "cell_type": "code",
   "execution_count": null,
   "id": "750e3c51-e0a5-4fef-a458-3ab340afd938",
   "metadata": {},
   "outputs": [],
   "source": []
  }
 ],
 "metadata": {
  "kernelspec": {
   "display_name": "Python 3 (ipykernel)",
   "language": "python",
   "name": "python3"
  },
  "language_info": {
   "codemirror_mode": {
    "name": "ipython",
    "version": 3
   },
   "file_extension": ".py",
   "mimetype": "text/x-python",
   "name": "python",
   "nbconvert_exporter": "python",
   "pygments_lexer": "ipython3",
   "version": "3.11.6"
  }
 },
 "nbformat": 4,
 "nbformat_minor": 5
}
