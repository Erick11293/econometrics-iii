{
 "cells": [
  {
   "cell_type": "code",
   "execution_count": 17,
   "id": "a4a7149d-0271-4b75-951a-809b44f995d6",
   "metadata": {},
   "outputs": [],
   "source": [
    "import pandas as pd\n",
    "import numpy as np\n",
    "from statsmodels.api import OLS"
   ]
  },
  {
   "cell_type": "code",
   "execution_count": 96,
   "id": "dd2a5c8d-114c-46ae-b6c9-146988c5486c",
   "metadata": {},
   "outputs": [],
   "source": [
    "beta = 3\n",
    "alpha = 1\n",
    "p = 0.3\n",
    "var_e_1 = 1\n",
    "var_e_0 = 1\n",
    "N = 100"
   ]
  },
  {
   "cell_type": "code",
   "execution_count": 97,
   "id": "be69a16e-e865-4d4a-8bd3-d019cc376b9d",
   "metadata": {},
   "outputs": [],
   "source": [
    "d = (np.random.uniform(size = N) < p) * 1\n",
    "#d = np.random.normal(0, 1, size = N)\n",
    "y = alpha + beta * d + d* np.random.normal(0, var_e_1, N) + (1 - d)* np.random.normal(0, var_e_0, N)"
   ]
  },
  {
   "cell_type": "code",
   "execution_count": 98,
   "id": "9e521ac9-3c3f-40e4-bba4-5c1cbff04ce6",
   "metadata": {},
   "outputs": [],
   "source": [
    "data = pd.concat([pd.Series(y).rename(\"y\"), pd.Series(d).rename(\"x\")], axis = 1)"
   ]
  },
  {
   "cell_type": "code",
   "execution_count": 99,
   "id": "2a39ff6b-8130-4584-9645-276d7e3e6c01",
   "metadata": {
    "scrolled": true
   },
   "outputs": [
    {
     "name": "stdout",
     "output_type": "stream",
     "text": [
      "                            OLS Regression Results                            \n",
      "==============================================================================\n",
      "Dep. Variable:                      y   R-squared:                       0.653\n",
      "Model:                            OLS   Adj. R-squared:                  0.653\n",
      "Method:                 Least Squares   F-statistic:                 1.880e+05\n",
      "Date:                Sat, 27 Jan 2024   Prob (F-statistic):               0.00\n",
      "Time:                        19:20:14   Log-Likelihood:            -1.4204e+05\n",
      "No. Observations:              100000   AIC:                         2.841e+05\n",
      "Df Residuals:                   99998   BIC:                         2.841e+05\n",
      "Df Model:                           1                                         \n",
      "Covariance Type:                  HC0                                         \n",
      "==============================================================================\n",
      "                 coef    std err          z      P>|z|      [0.025      0.975]\n",
      "------------------------------------------------------------------------------\n",
      "Intercept      1.0022      0.004    265.221      0.000       0.995       1.010\n",
      "x              3.0027      0.007    433.546      0.000       2.989       3.016\n",
      "==============================================================================\n",
      "Omnibus:                        3.971   Durbin-Watson:                   2.001\n",
      "Prob(Omnibus):                  0.137   Jarque-Bera (JB):                3.980\n",
      "Skew:                           0.015   Prob(JB):                        0.137\n",
      "Kurtosis:                       2.992   Cond. No.                         2.43\n",
      "==============================================================================\n",
      "\n",
      "Notes:\n",
      "[1] Standard Errors are heteroscedasticity robust (HC0)\n"
     ]
    }
   ],
   "source": [
    "resul = OLS.from_formula(\"y ~ x\", data = data)\n",
    "resul = resul.fit(cov_type = \"HC0\")\n",
    "print(resul.summary())"
   ]
  },
  {
   "cell_type": "code",
   "execution_count": 100,
   "id": "566f8368-0119-488b-a3d3-5e711871e671",
   "metadata": {},
   "outputs": [
    {
     "name": "stdout",
     "output_type": "stream",
     "text": [
      "                  Results: Ordinary least squares\n",
      "====================================================================\n",
      "Model:              OLS              Adj. R-squared:     0.653      \n",
      "Dependent Variable: y                AIC:                284079.4404\n",
      "Date:               2024-01-27 19:20 BIC:                284098.4663\n",
      "No. Observations:   100000           Log-Likelihood:     -1.4204e+05\n",
      "Df Model:           1                F-statistic:        1.883e+05  \n",
      "Df Residuals:       99998            Prob (F-statistic): 0.00       \n",
      "R-squared:          0.653            Scale:              1.0029     \n",
      "----------------------------------------------------------------------\n",
      "               Coef.    Std.Err.      t       P>|t|    [0.025   0.975]\n",
      "----------------------------------------------------------------------\n",
      "Intercept      1.0022     0.0038   265.0376   0.0000   0.9948   1.0096\n",
      "x              3.0027     0.0069   433.9390   0.0000   2.9892   3.0163\n",
      "--------------------------------------------------------------------\n",
      "Omnibus:               3.971         Durbin-Watson:            2.001\n",
      "Prob(Omnibus):         0.137         Jarque-Bera (JB):         3.980\n",
      "Skew:                  0.015         Prob(JB):                 0.137\n",
      "Kurtosis:              2.992         Condition No.:            2    \n",
      "====================================================================\n",
      "Notes:\n",
      "[1] Standard Errors assume that the covariance matrix of the errors\n",
      "is correctly specified.\n"
     ]
    }
   ],
   "source": [
    "resul = OLS.from_formula(\"y ~ x\", data = data)\n",
    "resul = resul.fit()\n",
    "print(resul.summary2())"
   ]
  },
  {
   "cell_type": "code",
   "execution_count": null,
   "id": "c238057b-8e81-478c-8596-28488647b730",
   "metadata": {},
   "outputs": [],
   "source": [
    "resul.fit()"
   ]
  }
 ],
 "metadata": {
  "kernelspec": {
   "display_name": "Python 3 (ipykernel)",
   "language": "python",
   "name": "python3"
  },
  "language_info": {
   "codemirror_mode": {
    "name": "ipython",
    "version": 3
   },
   "file_extension": ".py",
   "mimetype": "text/x-python",
   "name": "python",
   "nbconvert_exporter": "python",
   "pygments_lexer": "ipython3",
   "version": "3.11.6"
  }
 },
 "nbformat": 4,
 "nbformat_minor": 5
}
