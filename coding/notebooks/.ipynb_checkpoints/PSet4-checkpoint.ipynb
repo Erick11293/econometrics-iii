{
 "cells": [
  {
   "cell_type": "markdown",
   "id": "1848577c-29af-4366-8b85-f7ef65dfd606",
   "metadata": {},
   "source": [
    "### Problem Set 4"
   ]
  },
  {
   "cell_type": "markdown",
   "id": "29f2c5f3-9d8e-48cb-a8ea-7d38ea922a68",
   "metadata": {},
   "source": [
    "Erick Ore Matos"
   ]
  },
  {
   "cell_type": "code",
   "execution_count": 1,
   "id": "0fd27da3-f2f7-4742-94ad-e2f8ab7a9f7b",
   "metadata": {},
   "outputs": [],
   "source": [
    "import pandas as pd\n",
    "import numpy as np\n",
    "import seaborn as sns\n",
    "import matplotlib.pyplot as plt\n",
    "import scipy"
   ]
  },
  {
   "cell_type": "code",
   "execution_count": 2,
   "id": "05e93ab3-8135-41ec-9041-0daceef6da67",
   "metadata": {},
   "outputs": [],
   "source": [
    "from numpy.linalg import inv"
   ]
  },
  {
   "cell_type": "markdown",
   "id": "f3125d8b-d244-4ce9-b61d-340d65ed81b2",
   "metadata": {},
   "source": [
    "##### Settings"
   ]
  },
  {
   "cell_type": "code",
   "execution_count": 3,
   "id": "c418295c-3b5e-4bf1-84c1-8577f20767d7",
   "metadata": {},
   "outputs": [],
   "source": [
    "df = pd.read_csv(\"../data/mroz.csv\")"
   ]
  },
  {
   "cell_type": "code",
   "execution_count": 4,
   "id": "1ca21685-c525-4b0a-ac6c-af6669eb3963",
   "metadata": {},
   "outputs": [],
   "source": [
    "df['const'] = 1"
   ]
  },
  {
   "cell_type": "code",
   "execution_count": 5,
   "id": "88b6f672-a9ef-4858-aaf4-f7fcb08dd699",
   "metadata": {},
   "outputs": [],
   "source": [
    "endog = ['part']\n",
    "exog = ['const', 'kidslt6', 'age', 'nwifeinc']"
   ]
  },
  {
   "cell_type": "code",
   "execution_count": 6,
   "id": "1db2c62a-6b9f-46b3-9b96-f9c0b2eaf6f8",
   "metadata": {},
   "outputs": [],
   "source": [
    "Y = df[endog].to_numpy()\n",
    "\n",
    "X = df[exog].to_numpy()"
   ]
  },
  {
   "cell_type": "code",
   "execution_count": 7,
   "id": "c442ea64-450a-4842-ae25-383fad8a3c13",
   "metadata": {},
   "outputs": [],
   "source": [
    "n = X.shape[0]"
   ]
  },
  {
   "cell_type": "markdown",
   "id": "46e8c782-de4c-4751-b06d-ac5ea6f8cbf7",
   "metadata": {},
   "source": [
    "##### Defined functions"
   ]
  },
  {
   "cell_type": "markdown",
   "id": "557a6df0-4184-4c93-a7dd-996ed279dbaa",
   "metadata": {},
   "source": [
    "I will create the routine to estimate the model and return the score function, the information matrix and the hessian"
   ]
  },
  {
   "cell_type": "code",
   "execution_count": 8,
   "id": "4aa2c677-fb60-4624-8b5d-315f7b5db09e",
   "metadata": {},
   "outputs": [],
   "source": [
    "param = [2.08022, -0.79950, -0.03482, -0.01145]"
   ]
  },
  {
   "cell_type": "markdown",
   "id": "36b304f1-a69a-4e94-9b6d-6090857b3f3c",
   "metadata": {},
   "source": [
    "This is the derivative of the standarized normal respect to its argument"
   ]
  },
  {
   "cell_type": "code",
   "execution_count": 9,
   "id": "65451756-6227-4745-a691-a58dc3c43040",
   "metadata": {},
   "outputs": [],
   "source": [
    "def derivate_normal_pdf(z):\n",
    "\n",
    "    return (- z/(2 * np.pi)**0.5 * np.exp(-0.5 * z**2)).flatten()"
   ]
  },
  {
   "cell_type": "code",
   "execution_count": 10,
   "id": "a7225d07-5483-4922-88e6-c63102545817",
   "metadata": {},
   "outputs": [],
   "source": [
    "def get_sample_score(param, X, Y):\n",
    "    param = np.array(param, ndmin=2).transpose()\n",
    "    n = X.shape[0]\n",
    "    score_analog = (X.transpose() @\n",
    "        (Y * (scipy.stats.norm.pdf(X @ param) / \n",
    "              scipy.stats.norm.cdf(X @ param)) \n",
    "         - (1- Y) * (scipy.stats.norm.pdf(X @ param) / \n",
    "                     (1 - scipy.stats.norm.cdf(X @ param)))\n",
    "        )\n",
    "        )\n",
    "    return score_analog"
   ]
  },
  {
   "cell_type": "code",
   "execution_count": 11,
   "id": "62e14feb-a006-4f70-a33b-bd4b186fd5aa",
   "metadata": {},
   "outputs": [],
   "source": [
    "def get_sample_score_squared(param, X, Y):\n",
    "    return (np.transpose(get_sample_score(param, X, Y)) @ get_sample_score(param, X, Y))[0,0]"
   ]
  },
  {
   "cell_type": "code",
   "execution_count": 12,
   "id": "5c9038f8-e051-40ca-b59c-06603f8ef0ba",
   "metadata": {},
   "outputs": [],
   "source": [
    "def get_sample_hessian(param, X, Y):\n",
    "    param = np.array(param, ndmin=2).transpose()\n",
    "    n = X.shape[0]\n",
    "    hessian = (X.transpose() @\n",
    "        np.diag((\n",
    "            Y.flatten() * (\n",
    "                (derivate_normal_pdf(X @ param).flatten() *  scipy.stats.norm.cdf(X @ param).flatten() \n",
    "                 - scipy.stats.norm.pdf(X @ param).flatten() **2) \n",
    "                / (scipy.stats.norm.cdf(X @ param).flatten() ** 2)\n",
    "            ) \n",
    "            - (1- Y).flatten() * (\n",
    "                (derivate_normal_pdf(X @ param).flatten() *  (1 - scipy.stats.norm.cdf(X @ param)).flatten()\n",
    "                 + scipy.stats.norm.pdf(X @ param).flatten() **2) \n",
    "                / (1 - scipy.stats.norm.cdf(X @ param).flatten()) ** 2)\n",
    "        )) @ X  \n",
    "               /n\n",
    "        )\n",
    "    return hessian"
   ]
  },
  {
   "cell_type": "code",
   "execution_count": 13,
   "id": "61adae4c-06aa-4ffe-9200-4a5dac9d1d66",
   "metadata": {},
   "outputs": [],
   "source": [
    "def get_sample_information(param, X, Y):\n",
    "    param = np.array(param, ndmin=2).transpose()\n",
    "    n = X.shape[0]\n",
    "    information = (X.transpose() @\n",
    "                   np.diag(\n",
    "                       ((Y.flatten() * (scipy.stats.norm.pdf(X @ param).flatten() / scipy.stats.norm.cdf(X @ param).flatten())\n",
    "                        - (1- Y.flatten()) * (scipy.stats.norm.pdf(X @ param).flatten() / (1 - scipy.stats.norm.cdf(X @ param).flatten()))\n",
    "                       ) ** 2).flatten()\n",
    "                   )      \n",
    "                   @ X\n",
    "                   /n\n",
    "        )\n",
    "    return information"
   ]
  },
  {
   "cell_type": "code",
   "execution_count": 14,
   "id": "2d930976-71e9-41e2-a05b-b560c2de3ef4",
   "metadata": {},
   "outputs": [],
   "source": [
    "def get_log_likelihood(param, X, Y):\n",
    "    param = np.array(param, ndmin=2).transpose()\n",
    "    likelihood = np.sum(Y * np.log(scipy.stats.norm.cdf(X @ param))  + (1 - Y) * np.log(1 - scipy.stats.norm.cdf(X @ param)))\n",
    "    return likelihood"
   ]
  },
  {
   "cell_type": "markdown",
   "id": "f0426e28-1032-4580-b466-c4b5b88cdf64",
   "metadata": {},
   "source": [
    "##### Optimization of the problem"
   ]
  },
  {
   "cell_type": "code",
   "execution_count": 15,
   "id": "d345069a-fb95-4fce-a24b-bec73e76cb8f",
   "metadata": {},
   "outputs": [
    {
     "data": {
      "text/plain": [
       "-478.39458528834666"
      ]
     },
     "execution_count": 15,
     "metadata": {},
     "output_type": "execute_result"
    }
   ],
   "source": [
    "get_log_likelihood(param, X, Y)"
   ]
  },
  {
   "cell_type": "code",
   "execution_count": 16,
   "id": "71bcae40-24a0-4978-8ae5-12e1433676bc",
   "metadata": {},
   "outputs": [],
   "source": [
    "from scipy import optimize"
   ]
  },
  {
   "cell_type": "markdown",
   "id": "14def012-147c-4b15-93e5-6c08c0f00f37",
   "metadata": {},
   "source": [
    "Obtaining the values that solve the FOC. we ue the given points as starting points"
   ]
  },
  {
   "cell_type": "code",
   "execution_count": 17,
   "id": "3c567164-6279-42f0-82f4-ffe8fbc271b9",
   "metadata": {},
   "outputs": [
    {
     "name": "stdout",
     "output_type": "stream",
     "text": [
      "Optimization terminated successfully.\n",
      "         Current function value: 0.000000\n",
      "         Iterations: 310\n",
      "         Function evaluations: 541\n"
     ]
    }
   ],
   "source": [
    "res_foc = optimize.fmin(lambda beta: get_sample_score_squared(beta, X, Y), param, ftol = 10**(-10), xtol = 10**(-10))"
   ]
  },
  {
   "cell_type": "markdown",
   "id": "17cab24c-ad12-451a-9e98-a1777d2277e2",
   "metadata": {},
   "source": [
    "Obtaining the values that solve that maximized the log-likelihood. We use the given points as starting points."
   ]
  },
  {
   "cell_type": "code",
   "execution_count": 18,
   "id": "2157fb2e-78a2-43ec-baa7-6b4eb5338893",
   "metadata": {},
   "outputs": [
    {
     "name": "stdout",
     "output_type": "stream",
     "text": [
      "Optimization terminated successfully.\n",
      "         Current function value: 478.394585\n",
      "         Iterations: 148\n",
      "         Function evaluations: 290\n"
     ]
    }
   ],
   "source": [
    "res_ll = optimize.fmin(lambda beta: -get_log_likelihood(beta, X, Y), param, ftol = 10**(-10), xtol = 10**(-10))"
   ]
  },
  {
   "cell_type": "markdown",
   "id": "72e6af55-6346-42a9-94cf-73e7983904b1",
   "metadata": {},
   "source": [
    "The rsults are equivalents"
   ]
  },
  {
   "cell_type": "code",
   "execution_count": 19,
   "id": "e359c519-02d2-45ea-96a0-1bf2a0ef9484",
   "metadata": {},
   "outputs": [
    {
     "name": "stdout",
     "output_type": "stream",
     "text": [
      "-478.39458528834666\n",
      "0.024756864179557025\n",
      "[2.08022, -0.7995, -0.03482, -0.01145]\n"
     ]
    }
   ],
   "source": [
    "print(get_log_likelihood(param, X, Y))\n",
    "print(get_sample_score(param, X, Y)[0,0])\n",
    "print(param)"
   ]
  },
  {
   "cell_type": "code",
   "execution_count": 20,
   "id": "a4d9b9cd-32c3-44bc-8999-49c388e9205d",
   "metadata": {},
   "outputs": [
    {
     "name": "stdout",
     "output_type": "stream",
     "text": [
      "-478.3945845759063\n",
      "-1.3511258778464708e-10\n",
      "[ 2.08022504 -0.79950375 -0.03481877 -0.01145007]\n"
     ]
    }
   ],
   "source": [
    "print(get_log_likelihood(res_foc, X, Y))\n",
    "print(get_sample_score(res_foc, X, Y)[0,0])\n",
    "print(res_foc)"
   ]
  },
  {
   "cell_type": "code",
   "execution_count": 21,
   "id": "7c3e87fd-67c3-4646-8397-2742b0b45023",
   "metadata": {},
   "outputs": [
    {
     "name": "stdout",
     "output_type": "stream",
     "text": [
      "-478.39458457590626\n",
      "-1.3272030794375667e-06\n",
      "[ 2.08022507 -0.79950376 -0.03481877 -0.01145007]\n"
     ]
    }
   ],
   "source": [
    "print(get_log_likelihood(res_ll, X, Y))\n",
    "print(get_sample_score(res_ll, X, Y)[0,0])\n",
    "print(res_ll)"
   ]
  },
  {
   "cell_type": "markdown",
   "id": "b81da4b4-0e72-4e31-83ce-6d528f7721b3",
   "metadata": {},
   "source": [
    "The results obtained form the statsmodels (Python equivalent to Stata) are also the same."
   ]
  },
  {
   "cell_type": "code",
   "execution_count": 22,
   "id": "5a0e5949-983e-44a5-89f1-f9a77603072b",
   "metadata": {},
   "outputs": [
    {
     "name": "stdout",
     "output_type": "stream",
     "text": [
      "Optimization terminated successfully.\n",
      "         Current function value: 0.635318\n",
      "         Iterations 5\n",
      "                          Probit Regression Results                           \n",
      "==============================================================================\n",
      "Dep. Variable:                   part   No. Observations:                  753\n",
      "Model:                         Probit   Df Residuals:                      749\n",
      "Method:                           MLE   Df Model:                            3\n",
      "Date:                Tue, 20 Feb 2024   Pseudo R-squ.:                 0.07085\n",
      "Time:                        21:30:11   Log-Likelihood:                -478.39\n",
      "converged:                       True   LL-Null:                       -514.87\n",
      "Covariance Type:            nonrobust   LLR p-value:                 9.928e-16\n",
      "==============================================================================\n",
      "                 coef    std err          z      P>|z|      [0.025      0.975]\n",
      "------------------------------------------------------------------------------\n",
      "Intercept      2.0802      0.309      6.732      0.000       1.475       2.686\n",
      "kidslt6       -0.7995      0.110     -7.287      0.000      -1.015      -0.584\n",
      "age           -0.0348      0.007     -5.233      0.000      -0.048      -0.022\n",
      "nwifeinc      -0.0115      0.004     -2.761      0.006      -0.020      -0.003\n",
      "==============================================================================\n"
     ]
    }
   ],
   "source": [
    "import statsmodels.formula.api as smf\n",
    "\n",
    "# Specify the model\n",
    "mod = smf.probit('part ~ 1 + kidslt6 + age + nwifeinc', data=df)\n",
    "res = mod.fit()\n",
    "print(res.summary())"
   ]
  },
  {
   "cell_type": "markdown",
   "id": "e3faed94-9bf1-4a37-8104-da66de7f0e28",
   "metadata": {},
   "source": [
    "### (c)"
   ]
  },
  {
   "cell_type": "markdown",
   "id": "0c3545c7-25f0-40a4-aa1e-98c23d69c90d",
   "metadata": {},
   "source": [
    "##### The variance using the Hessian"
   ]
  },
  {
   "cell_type": "code",
   "execution_count": 23,
   "id": "25dddbb0-3163-4f12-9c8f-ca74b4da4fcf",
   "metadata": {},
   "outputs": [
    {
     "name": "stdout",
     "output_type": "stream",
     "text": [
      "[[ 9.54736514e-02 -1.72080902e-02 -1.94760024e-03 -2.83717143e-04]\n",
      " [-1.72080902e-02  1.20362269e-02  3.38552551e-04 -1.34054250e-06]\n",
      " [-1.94760024e-03  3.38552551e-04  4.42716902e-05 -1.47227136e-06]\n",
      " [-2.83717143e-04 -1.34054250e-06 -1.47227136e-06  1.71959169e-05]]\n"
     ]
    }
   ],
   "source": [
    "H = get_sample_hessian(param, X, Y)\n",
    "V1 = np.linalg.inv(-H)/n\n",
    "print(V1)"
   ]
  },
  {
   "cell_type": "code",
   "execution_count": 24,
   "id": "f450c8b1-dcd2-4c89-9da4-d6e0873aea3e",
   "metadata": {},
   "outputs": [
    {
     "name": "stdout",
     "output_type": "stream",
     "text": [
      "Estimate for const is 2.08022, SD is 0.3089881089092777\n",
      "Estimate for kidslt6 is -0.7995, SD is 0.109709739217021\n",
      "Estimate for age is -0.03482, SD is 0.006653697483959321\n",
      "Estimate for nwifeinc is -0.01145, SD is 0.00414679597432086\n"
     ]
    }
   ],
   "source": [
    "for i, var in enumerate(exog):\n",
    "    print(f\"Estimate for {var} is {param[i]}, SD is {V1[i,i]**0.5}\")"
   ]
  },
  {
   "cell_type": "markdown",
   "id": "e99d45c6-3431-4501-960c-c6328b353059",
   "metadata": {},
   "source": [
    "##### The variance using the information matrix"
   ]
  },
  {
   "cell_type": "code",
   "execution_count": 25,
   "id": "568e1744-768f-43cb-aeec-231c96597e7e",
   "metadata": {},
   "outputs": [
    {
     "name": "stdout",
     "output_type": "stream",
     "text": [
      "[[ 9.63456492e-02 -1.71977366e-02 -1.96824527e-03 -2.72627258e-04]\n",
      " [-1.71977366e-02  1.14714821e-02  3.35241005e-04  5.34112351e-06]\n",
      " [-1.96824527e-03  3.35241005e-04  4.45471516e-05 -1.14853718e-06]\n",
      " [-2.72627258e-04  5.34112351e-06 -1.14853718e-06  1.57552275e-05]]\n"
     ]
    }
   ],
   "source": [
    "J = get_sample_information(param, X, Y)\n",
    "V2 = np.linalg.inv(J)/n\n",
    "print(V2)"
   ]
  },
  {
   "cell_type": "code",
   "execution_count": 26,
   "id": "8530e197-d709-4e63-9836-321356b147a8",
   "metadata": {},
   "outputs": [
    {
     "name": "stdout",
     "output_type": "stream",
     "text": [
      "Estimate for const is 2.08022, SD is 0.3103959555451929\n",
      "Estimate for kidslt6 is -0.7995, SD is 0.10710500483373839\n",
      "Estimate for age is -0.03482, SD is 0.006674365254942884\n",
      "Estimate for nwifeinc is -0.01145, SD is 0.003969285519430524\n"
     ]
    }
   ],
   "source": [
    "for i, var in enumerate(exog):\n",
    "    print(f\"Estimate for {var} is {param[i]}, SD is {V2[i,i]**0.5}\")"
   ]
  },
  {
   "cell_type": "markdown",
   "id": "5ad9e54c-bd36-4df4-b75a-6f625a1193ef",
   "metadata": {},
   "source": [
    "##### The variance using the robust formula"
   ]
  },
  {
   "cell_type": "code",
   "execution_count": 27,
   "id": "9412b660-e12e-49fd-bc79-2dc3947de02c",
   "metadata": {},
   "outputs": [
    {
     "name": "stdout",
     "output_type": "stream",
     "text": [
      "[[ 9.46414231e-02 -1.72342788e-02 -1.92724669e-03 -2.96085847e-04]\n",
      " [-1.72342788e-02  1.26446733e-02  3.42501463e-04 -8.82556615e-06]\n",
      " [-1.92724669e-03  3.42501463e-04  4.40125313e-05 -1.82393604e-06]\n",
      " [-2.96085847e-04 -8.82556615e-06 -1.82393604e-06  1.87762429e-05]]\n"
     ]
    }
   ],
   "source": [
    "V3 = np.linalg.inv(H) @ J @ np.linalg.inv(H) / n\n",
    "print(V3)"
   ]
  },
  {
   "cell_type": "code",
   "execution_count": 28,
   "id": "550236dc-caa8-4fff-ad58-8ca7226b4256",
   "metadata": {},
   "outputs": [
    {
     "name": "stdout",
     "output_type": "stream",
     "text": [
      "Estimate for const is 2.08022, SD is 0.30763846174491605\n",
      "Estimate for kidslt6 is -0.7995, SD is 0.11244853625645868\n",
      "Estimate for age is -0.03482, SD is 0.0066341940978218395\n",
      "Estimate for nwifeinc is -0.01145, SD is 0.00433315622697907\n"
     ]
    }
   ],
   "source": [
    "for i, var in enumerate(exog):\n",
    "    print(f\"Estimate for {var} is {param[i]}, SD is {V3[i,i]**0.5}\")"
   ]
  },
  {
   "cell_type": "markdown",
   "id": "6c473a5c-6843-4537-8b30-a4981179cd4a",
   "metadata": {},
   "source": [
    "### (d)"
   ]
  },
  {
   "cell_type": "code",
   "execution_count": 29,
   "id": "a8d16fa9-3684-4a89-ac75-be267b2966cc",
   "metadata": {},
   "outputs": [],
   "source": [
    "endog = ['part']\n",
    "exog = ['const', 'kidslt6', 'age', 'nwifeinc', 'educ']"
   ]
  },
  {
   "cell_type": "code",
   "execution_count": 30,
   "id": "d7fdbf3f-20ac-40f3-8f0f-8c381b06ce4a",
   "metadata": {},
   "outputs": [],
   "source": [
    "Y = df[endog].to_numpy()\n",
    "\n",
    "X = df[exog].to_numpy()"
   ]
  },
  {
   "cell_type": "code",
   "execution_count": 31,
   "id": "bf6e521a-717b-46d6-9c48-87b6d35fac67",
   "metadata": {},
   "outputs": [],
   "source": [
    "# Restricted model\n",
    "param_lm = [2.08022, -0.7995, -0.03482, -0.01145, 0]"
   ]
  },
  {
   "cell_type": "code",
   "execution_count": 32,
   "id": "fd14f27c-4611-4b46-ac77-cb7e9149a7d3",
   "metadata": {},
   "outputs": [],
   "source": [
    "derivative_LM = get_sample_score(param_lm, X, Y)"
   ]
  },
  {
   "cell_type": "code",
   "execution_count": 33,
   "id": "87945ebc-cc28-4e38-b57d-7f079ce15bf1",
   "metadata": {},
   "outputs": [],
   "source": [
    "J_LM = get_sample_information(param_lm, X, Y)"
   ]
  },
  {
   "cell_type": "code",
   "execution_count": 34,
   "id": "11670405-3ff1-4408-9589-d797e0758b9d",
   "metadata": {},
   "outputs": [],
   "source": [
    "LM = (derivative_LM.transpose() @ np.linalg.inv(J_LM) @ (derivative_LM)) / n"
   ]
  },
  {
   "cell_type": "code",
   "execution_count": 35,
   "id": "46488f90-1f40-4878-849d-1dba93ab3bff",
   "metadata": {},
   "outputs": [],
   "source": [
    "critical_value = scipy.stats.chi2.ppf(0.95, df = 1)"
   ]
  },
  {
   "cell_type": "code",
   "execution_count": 36,
   "id": "9b3a8e1a-669b-49fd-a872-73dde8400e7a",
   "metadata": {},
   "outputs": [
    {
     "name": "stdout",
     "output_type": "stream",
     "text": [
      "LM is 46.54127149681143, critical value is 3.841458820694124\n"
     ]
    }
   ],
   "source": [
    "print(f\"LM is {LM[0,0]}, critical value is {critical_value}\")"
   ]
  },
  {
   "cell_type": "markdown",
   "id": "66dddf62-78d6-4972-b64f-9cd64e274919",
   "metadata": {},
   "source": [
    "As the value of the computed statistic is higher than the critical value, we can reject the null. Therefore, education has an effect on the labor market participation."
   ]
  },
  {
   "cell_type": "markdown",
   "id": "37b9e612-9a7a-48b4-9cc7-b8cb4f27889b",
   "metadata": {},
   "source": [
    "##### Additional unnecesary (At first, I read the question asked for the LR statistic)"
   ]
  },
  {
   "cell_type": "markdown",
   "id": "7d72114c-641c-41be-8aab-b661f1179154",
   "metadata": {},
   "source": [
    "Saving the log-likelihood of the null (education = 0)"
   ]
  },
  {
   "cell_type": "code",
   "execution_count": 37,
   "id": "c7438851-8b82-4ba6-9d6c-2faf9e0cb9c4",
   "metadata": {},
   "outputs": [],
   "source": [
    "param\n",
    "endog = ['part']\n",
    "exog = ['const', 'kidslt6', 'age', 'nwifeinc']\n",
    "\n",
    "Y = df[endog].to_numpy()\n",
    "\n",
    "X = df[exog].to_numpy()"
   ]
  },
  {
   "cell_type": "code",
   "execution_count": 38,
   "id": "c72822c0-4733-4059-9d50-3302a526f9b0",
   "metadata": {},
   "outputs": [],
   "source": [
    "l0 = get_log_likelihood(param, X, Y)"
   ]
  },
  {
   "cell_type": "markdown",
   "id": "13221499-6852-4927-addd-1e4bce5ca467",
   "metadata": {},
   "source": [
    "Estimating the model including education"
   ]
  },
  {
   "cell_type": "code",
   "execution_count": 39,
   "id": "5702cedc-70ad-476e-9a04-88d2f4f076ce",
   "metadata": {},
   "outputs": [],
   "source": [
    "endog = ['part']\n",
    "exog = ['const', 'kidslt6', 'age', 'nwifeinc', 'educ']"
   ]
  },
  {
   "cell_type": "code",
   "execution_count": 40,
   "id": "fe11ccb5-c644-4ed9-b9be-a0a4e9df53ce",
   "metadata": {},
   "outputs": [],
   "source": [
    "Y = df[endog].to_numpy()\n",
    "\n",
    "X = df[exog].to_numpy()"
   ]
  },
  {
   "cell_type": "code",
   "execution_count": 41,
   "id": "1c0ed6f1-e72e-4d61-a986-e381eb6df07b",
   "metadata": {},
   "outputs": [],
   "source": [
    "n = X.shape[0]"
   ]
  },
  {
   "cell_type": "code",
   "execution_count": 42,
   "id": "b0988175-0ece-4e84-9372-a977e955ce02",
   "metadata": {},
   "outputs": [
    {
     "name": "stdout",
     "output_type": "stream",
     "text": [
      "Optimization terminated successfully.\n",
      "         Current function value: 0.000000\n",
      "         Iterations: 1149\n",
      "         Function evaluations: 1878\n"
     ]
    }
   ],
   "source": [
    "param_1 = optimize.fmin(lambda beta: get_sample_score_squared(beta, X, Y), [0]*5, ftol = 10**(-10), xtol = 10**(-10), maxiter=10000)"
   ]
  },
  {
   "cell_type": "code",
   "execution_count": 43,
   "id": "a1988b55-a6ee-4e87-a017-fdf056f8848a",
   "metadata": {},
   "outputs": [
    {
     "name": "stdout",
     "output_type": "stream",
     "text": [
      "Optimization terminated successfully.\n",
      "         Current function value: 454.660471\n",
      "         Iterations: 509\n",
      "         Function evaluations: 874\n"
     ]
    }
   ],
   "source": [
    "param_1_check = optimize.fmin(lambda beta: -get_log_likelihood(beta, X, Y), [0]*5, ftol = 10**(-10), xtol = 10**(-10), maxiter=10000)"
   ]
  },
  {
   "cell_type": "markdown",
   "id": "82705f4a-58d0-47c6-8d26-836a9c6d1e26",
   "metadata": {},
   "source": [
    "They are the same"
   ]
  },
  {
   "cell_type": "code",
   "execution_count": 44,
   "id": "e1c01a81-2c28-4064-8f98-a06fb05188f1",
   "metadata": {},
   "outputs": [
    {
     "name": "stdout",
     "output_type": "stream",
     "text": [
      "[ 0.21536854 -0.88032117 -0.03141126 -0.02130622  0.15839273]\n",
      "[ 0.21536851 -0.88032113 -0.03141126 -0.02130622  0.15839273]\n"
     ]
    }
   ],
   "source": [
    "print(param_1)\n",
    "print(param_1_check)"
   ]
  },
  {
   "cell_type": "code",
   "execution_count": 45,
   "id": "fecb218e-f8c9-43e4-8686-5248fbc7a4af",
   "metadata": {},
   "outputs": [
    {
     "data": {
      "text/plain": [
       "-454.6604712368096"
      ]
     },
     "execution_count": 45,
     "metadata": {},
     "output_type": "execute_result"
    }
   ],
   "source": [
    "l1 = get_log_likelihood(param_1, X, Y)\n",
    "l1"
   ]
  },
  {
   "cell_type": "markdown",
   "id": "f8662f52-ee80-419c-8dd9-e849897aac08",
   "metadata": {},
   "source": [
    "The difference between the 2 log-likelihoods is the LR ratio"
   ]
  },
  {
   "cell_type": "code",
   "execution_count": 46,
   "id": "e1b16c42-6538-4f79-b0a8-4229180203a4",
   "metadata": {},
   "outputs": [
    {
     "name": "stdout",
     "output_type": "stream",
     "text": [
      "47.468228103074125\n"
     ]
    }
   ],
   "source": [
    "LR = 2 * (l1 - l0)\n",
    "print(LR)"
   ]
  },
  {
   "cell_type": "markdown",
   "id": "7a076e40-8b6f-4149-8222-c52060b62569",
   "metadata": {},
   "source": [
    "The LR ratio is distributed as a $\\chi^2_{(1)}$, as we are only including one restriction. The critical value for the test is:"
   ]
  },
  {
   "cell_type": "code",
   "execution_count": 47,
   "id": "5c617966-b856-48b0-8d2a-98d65576cc8c",
   "metadata": {},
   "outputs": [
    {
     "data": {
      "text/plain": [
       "3.841458820694124"
      ]
     },
     "execution_count": 47,
     "metadata": {},
     "output_type": "execute_result"
    }
   ],
   "source": [
    "critical_value = scipy.stats.chi2.ppf(0.95, df = 1)\n",
    "critical_value"
   ]
  },
  {
   "cell_type": "markdown",
   "id": "146c0153-0227-4223-b9fa-c3689407a62b",
   "metadata": {},
   "source": [
    "As the value of the computed statistic is higher than the critical value, we can reject the null. Therefore, education has an effect on the labor market participation."
   ]
  },
  {
   "cell_type": "markdown",
   "id": "e97756e6-24bb-4d60-a766-3977cae7c023",
   "metadata": {},
   "source": [
    "Double check with the statsmodels"
   ]
  },
  {
   "cell_type": "code",
   "execution_count": 48,
   "id": "14b1e68e-b1bb-4e0b-b5d5-2f05359cab3d",
   "metadata": {},
   "outputs": [
    {
     "name": "stdout",
     "output_type": "stream",
     "text": [
      "Optimization terminated successfully.\n",
      "         Current function value: 0.603799\n",
      "         Iterations 5\n",
      "                          Probit Regression Results                           \n",
      "==============================================================================\n",
      "Dep. Variable:                   part   No. Observations:                  753\n",
      "Model:                         Probit   Df Residuals:                      748\n",
      "Method:                           MLE   Df Model:                            4\n",
      "Date:                Tue, 20 Feb 2024   Pseudo R-squ.:                  0.1169\n",
      "Time:                        21:30:13   Log-Likelihood:                -454.66\n",
      "converged:                       True   LL-Null:                       -514.87\n",
      "Covariance Type:            nonrobust   LLR p-value:                 4.333e-25\n",
      "==============================================================================\n",
      "                 coef    std err          z      P>|z|      [0.025      0.975]\n",
      "------------------------------------------------------------------------------\n",
      "Intercept      0.2154      0.417      0.517      0.605      -0.601       1.032\n",
      "kidslt6       -0.8803      0.113     -7.759      0.000      -1.103      -0.658\n",
      "age           -0.0314      0.007     -4.605      0.000      -0.045      -0.018\n",
      "nwifeinc      -0.0213      0.005     -4.670      0.000      -0.030      -0.012\n",
      "educ           0.1584      0.024      6.671      0.000       0.112       0.205\n",
      "==============================================================================\n"
     ]
    }
   ],
   "source": [
    "import statsmodels.formula.api as smf\n",
    "\n",
    "# Specify the model\n",
    "mod = smf.probit('part ~ 1 + kidslt6 + age + nwifeinc + educ', data=df)\n",
    "res = mod.fit()\n",
    "print(res.summary())"
   ]
  }
 ],
 "metadata": {
  "kernelspec": {
   "display_name": "Python 3 (ipykernel)",
   "language": "python",
   "name": "python3"
  },
  "language_info": {
   "codemirror_mode": {
    "name": "ipython",
    "version": 3
   },
   "file_extension": ".py",
   "mimetype": "text/x-python",
   "name": "python",
   "nbconvert_exporter": "python",
   "pygments_lexer": "ipython3",
   "version": "3.11.6"
  }
 },
 "nbformat": 4,
 "nbformat_minor": 5
}
