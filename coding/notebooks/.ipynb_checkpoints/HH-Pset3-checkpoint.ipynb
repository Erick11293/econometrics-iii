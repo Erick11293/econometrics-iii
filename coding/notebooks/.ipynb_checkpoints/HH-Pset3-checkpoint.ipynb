{
 "cells": [
  {
   "cell_type": "markdown",
   "id": "98dae0de-4a66-480a-853f-40bc671870d4",
   "metadata": {
    "editable": true,
    "slideshow": {
     "slide_type": ""
    },
    "tags": []
   },
   "source": [
    "Loading libraries"
   ]
  },
  {
   "cell_type": "code",
   "execution_count": 1,
   "id": "e0e1e200-1ac9-4ed9-a9e7-c4d08abcb5fa",
   "metadata": {},
   "outputs": [],
   "source": [
    "import pandas as pd\n",
    "import numpy as np\n",
    "import seaborn as sns\n",
    "import matplotlib.pyplot as plt"
   ]
  },
  {
   "cell_type": "markdown",
   "id": "8da3b154-d499-4ed4-9529-ee9756729de7",
   "metadata": {},
   "source": [
    "Setting printing options"
   ]
  },
  {
   "cell_type": "code",
   "execution_count": 2,
   "id": "ad220878-64a4-4cad-9ff4-3c1778ccd7c4",
   "metadata": {
    "editable": true,
    "slideshow": {
     "slide_type": ""
    },
    "tags": []
   },
   "outputs": [],
   "source": [
    "import warnings\n",
    "warnings.filterwarnings('ignore')\n",
    "\n",
    "%precision %.3f\n",
    "\n",
    "pd.options.display.float_format = '{:,.3f}'.format\n",
    "\n",
    "np.set_printoptions(precision=3)\n",
    "\n",
    "np.random.seed(1109)"
   ]
  },
  {
   "cell_type": "markdown",
   "id": "b6b0a9ba-1521-490c-9c80-579f6a536e13",
   "metadata": {
    "editable": true,
    "slideshow": {
     "slide_type": ""
    },
    "tags": []
   },
   "source": [
    "### Question 2"
   ]
  },
  {
   "cell_type": "markdown",
   "id": "cbfbf7c3-4052-41f5-b2b8-190c793a5ba3",
   "metadata": {
    "editable": true,
    "slideshow": {
     "slide_type": ""
    },
    "tags": []
   },
   "source": [
    "##### Preprocessing"
   ]
  },
  {
   "cell_type": "code",
   "execution_count": 3,
   "id": "47bf2314-c3b0-4dd9-b64f-86343d83731c",
   "metadata": {
    "editable": true,
    "slideshow": {
     "slide_type": ""
    },
    "tags": []
   },
   "outputs": [],
   "source": [
    "file = open(\"../data/RDCHEM.RAW\", 'r')"
   ]
  },
  {
   "cell_type": "code",
   "execution_count": 4,
   "id": "37030cf1-4c6e-4045-89d0-277ed11efbff",
   "metadata": {
    "editable": true,
    "slideshow": {
     "slide_type": ""
    },
    "tags": []
   },
   "outputs": [],
   "source": [
    "data = file.read()"
   ]
  },
  {
   "cell_type": "code",
   "execution_count": 5,
   "id": "d78e1ad1-bdf8-412e-bb9c-d1ad9581605b",
   "metadata": {
    "editable": true,
    "slideshow": {
     "slide_type": ""
    },
    "tags": []
   },
   "outputs": [],
   "source": [
    "df = pd.read_csv(\"../data/RDCHEM.RAW\")"
   ]
  },
  {
   "cell_type": "code",
   "execution_count": 6,
   "id": "aca20c46-87e0-462e-b7fa-c02334e65347",
   "metadata": {},
   "outputs": [],
   "source": [
    "unprocessed_names = df.columns"
   ]
  },
  {
   "cell_type": "code",
   "execution_count": 7,
   "id": "4d6036b7-a90f-4188-908f-ec33cc87749e",
   "metadata": {},
   "outputs": [],
   "source": [
    "df.columns = ['data']"
   ]
  },
  {
   "cell_type": "code",
   "execution_count": 8,
   "id": "71626475-f8cf-4268-9dca-604013bf9557",
   "metadata": {},
   "outputs": [],
   "source": [
    "names = unprocessed_names[0].strip().replace(\"\\t\",\" \").replace(\"  \",\" \").replace(\"  \",\" \").replace(\"  \",\" \").split(\" \")"
   ]
  },
  {
   "cell_type": "code",
   "execution_count": 9,
   "id": "1030b4ea-ddd8-4d32-a881-16861946c79c",
   "metadata": {
    "scrolled": true
   },
   "outputs": [],
   "source": [
    "df = df['data'].str.split(\" \").apply(lambda y: [element for element in y if element != \"\"]).apply(lambda y: pd.Series(y))"
   ]
  },
  {
   "cell_type": "code",
   "execution_count": 10,
   "id": "42d0997c-f98b-4928-b75f-167f787532dd",
   "metadata": {},
   "outputs": [],
   "source": [
    "df.columns = names"
   ]
  },
  {
   "cell_type": "code",
   "execution_count": 11,
   "id": "0dd68111-d287-4695-9159-7a361441ec12",
   "metadata": {},
   "outputs": [],
   "source": [
    "df = df.apply(pd.to_numeric)"
   ]
  },
  {
   "cell_type": "code",
   "execution_count": 12,
   "id": "6efd9a62-edaf-4d81-b2db-ae8650918a59",
   "metadata": {
    "editable": true,
    "slideshow": {
     "slide_type": ""
    },
    "tags": []
   },
   "outputs": [
    {
     "data": {
      "text/html": [
       "<div>\n",
       "<style scoped>\n",
       "    .dataframe tbody tr th:only-of-type {\n",
       "        vertical-align: middle;\n",
       "    }\n",
       "\n",
       "    .dataframe tbody tr th {\n",
       "        vertical-align: top;\n",
       "    }\n",
       "\n",
       "    .dataframe thead th {\n",
       "        text-align: right;\n",
       "    }\n",
       "</style>\n",
       "<table border=\"1\" class=\"dataframe\">\n",
       "  <thead>\n",
       "    <tr style=\"text-align: right;\">\n",
       "      <th></th>\n",
       "      <th>rd</th>\n",
       "      <th>sales</th>\n",
       "      <th>profits</th>\n",
       "      <th>rdintens</th>\n",
       "      <th>profmarg</th>\n",
       "      <th>salessq</th>\n",
       "      <th>lsales</th>\n",
       "      <th>lrd</th>\n",
       "    </tr>\n",
       "  </thead>\n",
       "  <tbody>\n",
       "    <tr>\n",
       "      <th>count</th>\n",
       "      <td>32.000</td>\n",
       "      <td>32.000</td>\n",
       "      <td>32.000</td>\n",
       "      <td>32.000</td>\n",
       "      <td>32.000</td>\n",
       "      <td>32.000</td>\n",
       "      <td>32.000</td>\n",
       "      <td>32.000</td>\n",
       "    </tr>\n",
       "    <tr>\n",
       "      <th>mean</th>\n",
       "      <td>153.681</td>\n",
       "      <td>3,797.012</td>\n",
       "      <td>370.503</td>\n",
       "      <td>3.266</td>\n",
       "      <td>9.822</td>\n",
       "      <td>70,295,365.277</td>\n",
       "      <td>7.165</td>\n",
       "      <td>3.603</td>\n",
       "    </tr>\n",
       "    <tr>\n",
       "      <th>std</th>\n",
       "      <td>324.636</td>\n",
       "      <td>7,587.992</td>\n",
       "      <td>830.930</td>\n",
       "      <td>1.874</td>\n",
       "      <td>7.242</td>\n",
       "      <td>284,212,761.613</td>\n",
       "      <td>1.538</td>\n",
       "      <td>1.734</td>\n",
       "    </tr>\n",
       "    <tr>\n",
       "      <th>min</th>\n",
       "      <td>1.700</td>\n",
       "      <td>42.000</td>\n",
       "      <td>-4.300</td>\n",
       "      <td>1.030</td>\n",
       "      <td>-3.220</td>\n",
       "      <td>1,764.000</td>\n",
       "      <td>3.738</td>\n",
       "      <td>0.531</td>\n",
       "    </tr>\n",
       "    <tr>\n",
       "      <th>25%</th>\n",
       "      <td>10.850</td>\n",
       "      <td>507.825</td>\n",
       "      <td>42.125</td>\n",
       "      <td>2.027</td>\n",
       "      <td>4.075</td>\n",
       "      <td>257,896.800</td>\n",
       "      <td>6.230</td>\n",
       "      <td>2.384</td>\n",
       "    </tr>\n",
       "    <tr>\n",
       "      <th>50%</th>\n",
       "      <td>42.600</td>\n",
       "      <td>1,332.500</td>\n",
       "      <td>111.700</td>\n",
       "      <td>2.640</td>\n",
       "      <td>8.760</td>\n",
       "      <td>1,790,004.000</td>\n",
       "      <td>7.191</td>\n",
       "      <td>3.750</td>\n",
       "    </tr>\n",
       "    <tr>\n",
       "      <th>75%</th>\n",
       "      <td>78.850</td>\n",
       "      <td>2,856.625</td>\n",
       "      <td>295.675</td>\n",
       "      <td>3.967</td>\n",
       "      <td>16.455</td>\n",
       "      <td>8,162,433.000</td>\n",
       "      <td>7.957</td>\n",
       "      <td>4.363</td>\n",
       "    </tr>\n",
       "    <tr>\n",
       "      <th>max</th>\n",
       "      <td>1,428.000</td>\n",
       "      <td>39,709.000</td>\n",
       "      <td>4,154.000</td>\n",
       "      <td>9.420</td>\n",
       "      <td>27.190</td>\n",
       "      <td>1,580,000,000.000</td>\n",
       "      <td>10.589</td>\n",
       "      <td>7.264</td>\n",
       "    </tr>\n",
       "  </tbody>\n",
       "</table>\n",
       "</div>"
      ],
      "text/plain": [
       "             rd      sales   profits  rdintens  profmarg           salessq  \\\n",
       "count    32.000     32.000    32.000    32.000    32.000            32.000   \n",
       "mean    153.681  3,797.012   370.503     3.266     9.822    70,295,365.277   \n",
       "std     324.636  7,587.992   830.930     1.874     7.242   284,212,761.613   \n",
       "min       1.700     42.000    -4.300     1.030    -3.220         1,764.000   \n",
       "25%      10.850    507.825    42.125     2.027     4.075       257,896.800   \n",
       "50%      42.600  1,332.500   111.700     2.640     8.760     1,790,004.000   \n",
       "75%      78.850  2,856.625   295.675     3.967    16.455     8,162,433.000   \n",
       "max   1,428.000 39,709.000 4,154.000     9.420    27.190 1,580,000,000.000   \n",
       "\n",
       "       lsales    lrd  \n",
       "count  32.000 32.000  \n",
       "mean    7.165  3.603  \n",
       "std     1.538  1.734  \n",
       "min     3.738  0.531  \n",
       "25%     6.230  2.384  \n",
       "50%     7.191  3.750  \n",
       "75%     7.957  4.363  \n",
       "max    10.589  7.264  "
      ]
     },
     "execution_count": 12,
     "metadata": {},
     "output_type": "execute_result"
    }
   ],
   "source": [
    "df.describe()"
   ]
  },
  {
   "cell_type": "markdown",
   "id": "9feba139-d20d-4a60-93a3-53ad15a3ce8c",
   "metadata": {
    "editable": true,
    "slideshow": {
     "slide_type": ""
    },
    "tags": []
   },
   "source": [
    "(a)"
   ]
  },
  {
   "cell_type": "markdown",
   "id": "7c5f09dc-3f30-46aa-8f61-4e2f65e4f385",
   "metadata": {
    "editable": true,
    "slideshow": {
     "slide_type": ""
    },
    "tags": []
   },
   "source": [
    "##### Generating variables"
   ]
  },
  {
   "cell_type": "markdown",
   "id": "47126c7f-d68f-49ec-a9d0-fd9ce0965e54",
   "metadata": {},
   "source": [
    "I generate the logs of the variable"
   ]
  },
  {
   "cell_type": "code",
   "execution_count": 13,
   "id": "157b6e5b-d43c-4c34-82d3-07ac1b12d41f",
   "metadata": {},
   "outputs": [],
   "source": [
    "df['y'] = np.log(df['rd'])"
   ]
  },
  {
   "cell_type": "code",
   "execution_count": 14,
   "id": "7f25750d-5119-487d-aa41-1e7b03365b31",
   "metadata": {},
   "outputs": [],
   "source": [
    "df['x'] = np.log(df['sales'])"
   ]
  },
  {
   "cell_type": "markdown",
   "id": "a7c80b13-e1c7-49fb-95c1-674f66e35a82",
   "metadata": {},
   "source": [
    "The distribution does change a lot"
   ]
  },
  {
   "cell_type": "code",
   "execution_count": 15,
   "id": "cc100478-3108-48e6-bc95-b4e4bf3ef90c",
   "metadata": {},
   "outputs": [
    {
     "data": {
      "text/html": [
       "<div>\n",
       "<style scoped>\n",
       "    .dataframe tbody tr th:only-of-type {\n",
       "        vertical-align: middle;\n",
       "    }\n",
       "\n",
       "    .dataframe tbody tr th {\n",
       "        vertical-align: top;\n",
       "    }\n",
       "\n",
       "    .dataframe thead th {\n",
       "        text-align: right;\n",
       "    }\n",
       "</style>\n",
       "<table border=\"1\" class=\"dataframe\">\n",
       "  <thead>\n",
       "    <tr style=\"text-align: right;\">\n",
       "      <th></th>\n",
       "      <th>y</th>\n",
       "      <th>rd</th>\n",
       "    </tr>\n",
       "  </thead>\n",
       "  <tbody>\n",
       "    <tr>\n",
       "      <th>count</th>\n",
       "      <td>32.000</td>\n",
       "      <td>32.000</td>\n",
       "    </tr>\n",
       "    <tr>\n",
       "      <th>mean</th>\n",
       "      <td>3.603</td>\n",
       "      <td>153.681</td>\n",
       "    </tr>\n",
       "    <tr>\n",
       "      <th>std</th>\n",
       "      <td>1.734</td>\n",
       "      <td>324.636</td>\n",
       "    </tr>\n",
       "    <tr>\n",
       "      <th>min</th>\n",
       "      <td>0.531</td>\n",
       "      <td>1.700</td>\n",
       "    </tr>\n",
       "    <tr>\n",
       "      <th>25%</th>\n",
       "      <td>2.384</td>\n",
       "      <td>10.850</td>\n",
       "    </tr>\n",
       "    <tr>\n",
       "      <th>50%</th>\n",
       "      <td>3.750</td>\n",
       "      <td>42.600</td>\n",
       "    </tr>\n",
       "    <tr>\n",
       "      <th>75%</th>\n",
       "      <td>4.363</td>\n",
       "      <td>78.850</td>\n",
       "    </tr>\n",
       "    <tr>\n",
       "      <th>max</th>\n",
       "      <td>7.264</td>\n",
       "      <td>1,428.000</td>\n",
       "    </tr>\n",
       "  </tbody>\n",
       "</table>\n",
       "</div>"
      ],
      "text/plain": [
       "           y        rd\n",
       "count 32.000    32.000\n",
       "mean   3.603   153.681\n",
       "std    1.734   324.636\n",
       "min    0.531     1.700\n",
       "25%    2.384    10.850\n",
       "50%    3.750    42.600\n",
       "75%    4.363    78.850\n",
       "max    7.264 1,428.000"
      ]
     },
     "execution_count": 15,
     "metadata": {},
     "output_type": "execute_result"
    }
   ],
   "source": [
    "df[['y', 'rd']].describe()"
   ]
  },
  {
   "cell_type": "code",
   "execution_count": 16,
   "id": "39827d26-0cff-4df5-b491-103531b7c362",
   "metadata": {},
   "outputs": [
    {
     "data": {
      "text/plain": [
       "<seaborn.axisgrid.PairGrid at 0x7f8e5647a610>"
      ]
     },
     "execution_count": 16,
     "metadata": {},
     "output_type": "execute_result"
    },
    {
     "data": {
      "image/png": "[encoded data removed]",
      "text/plain": [
       "<Figure size 500x500 with 6 Axes>"
      ]
     },
     "metadata": {},
     "output_type": "display_data"
    }
   ],
   "source": [
    "sns.pairplot(df[['rd', 'y']], diag_kind='kde')"
   ]
  },
  {
   "cell_type": "code",
   "execution_count": 17,
   "id": "555b9f96-fb30-4d83-867e-733da4c84c3f",
   "metadata": {},
   "outputs": [
    {
     "data": {
      "text/html": [
       "<div>\n",
       "<style scoped>\n",
       "    .dataframe tbody tr th:only-of-type {\n",
       "        vertical-align: middle;\n",
       "    }\n",
       "\n",
       "    .dataframe tbody tr th {\n",
       "        vertical-align: top;\n",
       "    }\n",
       "\n",
       "    .dataframe thead th {\n",
       "        text-align: right;\n",
       "    }\n",
       "</style>\n",
       "<table border=\"1\" class=\"dataframe\">\n",
       "  <thead>\n",
       "    <tr style=\"text-align: right;\">\n",
       "      <th></th>\n",
       "      <th>x</th>\n",
       "      <th>sales</th>\n",
       "    </tr>\n",
       "  </thead>\n",
       "  <tbody>\n",
       "    <tr>\n",
       "      <th>count</th>\n",
       "      <td>32.000</td>\n",
       "      <td>32.000</td>\n",
       "    </tr>\n",
       "    <tr>\n",
       "      <th>mean</th>\n",
       "      <td>7.165</td>\n",
       "      <td>3,797.012</td>\n",
       "    </tr>\n",
       "    <tr>\n",
       "      <th>std</th>\n",
       "      <td>1.538</td>\n",
       "      <td>7,587.992</td>\n",
       "    </tr>\n",
       "    <tr>\n",
       "      <th>min</th>\n",
       "      <td>3.738</td>\n",
       "      <td>42.000</td>\n",
       "    </tr>\n",
       "    <tr>\n",
       "      <th>25%</th>\n",
       "      <td>6.230</td>\n",
       "      <td>507.825</td>\n",
       "    </tr>\n",
       "    <tr>\n",
       "      <th>50%</th>\n",
       "      <td>7.191</td>\n",
       "      <td>1,332.500</td>\n",
       "    </tr>\n",
       "    <tr>\n",
       "      <th>75%</th>\n",
       "      <td>7.957</td>\n",
       "      <td>2,856.625</td>\n",
       "    </tr>\n",
       "    <tr>\n",
       "      <th>max</th>\n",
       "      <td>10.589</td>\n",
       "      <td>39,709.000</td>\n",
       "    </tr>\n",
       "  </tbody>\n",
       "</table>\n",
       "</div>"
      ],
      "text/plain": [
       "           x      sales\n",
       "count 32.000     32.000\n",
       "mean   7.165  3,797.012\n",
       "std    1.538  7,587.992\n",
       "min    3.738     42.000\n",
       "25%    6.230    507.825\n",
       "50%    7.191  1,332.500\n",
       "75%    7.957  2,856.625\n",
       "max   10.589 39,709.000"
      ]
     },
     "execution_count": 17,
     "metadata": {},
     "output_type": "execute_result"
    }
   ],
   "source": [
    "df[['x', 'sales']].describe()"
   ]
  },
  {
   "cell_type": "code",
   "execution_count": 18,
   "id": "82c43abc-7e1c-40d4-aefa-99848ea6871c",
   "metadata": {},
   "outputs": [
    {
     "data": {
      "text/plain": [
       "<seaborn.axisgrid.PairGrid at 0x7f8e4de88c50>"
      ]
     },
     "execution_count": 18,
     "metadata": {},
     "output_type": "execute_result"
    },
    {
     "data": {
      "image/png": "[encoded data removed]",
      "text/plain": [
       "<Figure size 500x500 with 6 Axes>"
      ]
     },
     "metadata": {},
     "output_type": "display_data"
    }
   ],
   "source": [
    "sns.pairplot(df[['sales', 'x']], diag_kind='kde')"
   ]
  },
  {
   "cell_type": "markdown",
   "id": "b58c8592-fa40-4cf6-b25b-3e60068082ff",
   "metadata": {},
   "source": [
    "(b)"
   ]
  },
  {
   "cell_type": "markdown",
   "id": "47319695-bc7c-45bb-9b67-324a8e071d15",
   "metadata": {},
   "source": [
    "##### Plotting variables"
   ]
  },
  {
   "cell_type": "code",
   "execution_count": 19,
   "id": "5d1d9bca-53b8-41d6-9456-c4858ed0a519",
   "metadata": {},
   "outputs": [
    {
     "data": {
      "text/plain": [
       "<Axes: xlabel='x', ylabel='y'>"
      ]
     },
     "execution_count": 19,
     "metadata": {},
     "output_type": "execute_result"
    },
    {
     "data": {
      "image/png": "[encoded data removed]",
      "text/plain": [
       "<Figure size 640x480 with 1 Axes>"
      ]
     },
     "metadata": {},
     "output_type": "display_data"
    }
   ],
   "source": [
    "sns.scatterplot(x = df['x'], y = df['y'])"
   ]
  },
  {
   "cell_type": "markdown",
   "id": "33e3b3d6-8fa6-4fc6-a6da-b8572dc3c9d9",
   "metadata": {},
   "source": [
    "(c)"
   ]
  },
  {
   "cell_type": "markdown",
   "id": "840dad5c-b2fb-4797-9a27-e4efb57ee76f",
   "metadata": {},
   "source": [
    "##### Estimating $\\beta$"
   ]
  },
  {
   "cell_type": "markdown",
   "id": "4e6394c0-7a5c-49fb-860e-d6ab683a3a2c",
   "metadata": {},
   "source": [
    "We are trying to estimate $$log(rd) = \\beta_0 + \\beta_1 log(sales) + e$$\n",
    "$$Y = \\beta_0 + \\beta_1 X + e$$\n"
   ]
  },
  {
   "cell_type": "markdown",
   "id": "fe83df04-9ace-47ad-a445-3b0f55bb75b8",
   "metadata": {},
   "source": [
    "Retrieveng only the need variables"
   ]
  },
  {
   "cell_type": "code",
   "execution_count": 20,
   "id": "6c61190b-bcd2-4ccb-a72a-ed0c799d8354",
   "metadata": {},
   "outputs": [],
   "source": [
    "df = df[['y','x']]"
   ]
  },
  {
   "cell_type": "code",
   "execution_count": 21,
   "id": "ec783a22-e715-473e-9516-74f94a6f4650",
   "metadata": {},
   "outputs": [],
   "source": [
    "df['const'] = 1"
   ]
  },
  {
   "cell_type": "markdown",
   "id": "8beacf0e-7309-4571-96b5-1ea03d2b4214",
   "metadata": {},
   "source": [
    "Getting matrices"
   ]
  },
  {
   "cell_type": "code",
   "execution_count": 22,
   "id": "7f0fa99b-9588-43bb-bd4c-e12acccee806",
   "metadata": {},
   "outputs": [],
   "source": [
    "Y = df[['y']].to_numpy()\n",
    "X = df[['const','x']].to_numpy()"
   ]
  },
  {
   "cell_type": "markdown",
   "id": "6ab8c993-d90c-4be5-a10c-4a1b53966c2c",
   "metadata": {},
   "source": [
    "Running regressions"
   ]
  },
  {
   "cell_type": "code",
   "execution_count": 23,
   "id": "c0ba8a0a-5a48-4416-a8a9-f9fc00ad5def",
   "metadata": {},
   "outputs": [],
   "source": [
    "beta = np.matmul(\n",
    "    np.linalg.inv(np.matmul(np.transpose(X), X)),\n",
    "    np.matmul(np.transpose(X),Y)\n",
    ")"
   ]
  },
  {
   "cell_type": "code",
   "execution_count": 24,
   "id": "72b65469-125f-479d-8f5d-7d2c96b0e07a",
   "metadata": {},
   "outputs": [
    {
     "name": "stdout",
     "output_type": "stream",
     "text": [
      "Constant log(sales)\n",
      "[[-4.105  1.076]]\n"
     ]
    }
   ],
   "source": [
    "print(\"Constant log(sales)\")\n",
    "print(beta.T)"
   ]
  },
  {
   "cell_type": "markdown",
   "id": "5fa72d4c-d691-4083-90d4-65f7d5ef04da",
   "metadata": {},
   "source": [
    "The value estimated for $\\beta_1$ is 1.076, which could be interpreted as the constant elasticity of $rd$ respect to $sales$."
   ]
  },
  {
   "cell_type": "markdown",
   "id": "4737db41-2c54-48f0-ace6-3c72ea08acb0",
   "metadata": {},
   "source": [
    "##### Creating other relevant matrices"
   ]
  },
  {
   "cell_type": "markdown",
   "id": "9d56b4ed-dfd4-4c9b-9e8a-193b694f8dec",
   "metadata": {},
   "source": [
    "Observations and number of variables"
   ]
  },
  {
   "cell_type": "code",
   "execution_count": 25,
   "id": "92c0e675-1895-4505-91c1-d3e7e79a37e4",
   "metadata": {},
   "outputs": [],
   "source": [
    "n, k = X.shape"
   ]
  },
  {
   "cell_type": "markdown",
   "id": "e4b27589-7214-464c-8aa2-c2091d450ccf",
   "metadata": {},
   "source": [
    "Projection matrix"
   ]
  },
  {
   "cell_type": "code",
   "execution_count": 26,
   "id": "b85a492d-6280-4766-8534-5b5e20e5e9f6",
   "metadata": {},
   "outputs": [],
   "source": [
    "P = X @ np.linalg.inv(np.transpose(X) @ X) @ np.transpose(X)"
   ]
  },
  {
   "cell_type": "markdown",
   "id": "2463b50e-623b-4050-a155-f8cc318ed416",
   "metadata": {},
   "source": [
    "Annihilator matrix"
   ]
  },
  {
   "cell_type": "code",
   "execution_count": 27,
   "id": "7df9cebf-b940-4687-b617-1133d7146466",
   "metadata": {},
   "outputs": [],
   "source": [
    "M = np.eye(n) - P"
   ]
  },
  {
   "cell_type": "markdown",
   "id": "f31fef5b-57b5-4d78-a86c-ab68c2db2e92",
   "metadata": {},
   "source": [
    "Getting the errors"
   ]
  },
  {
   "cell_type": "code",
   "execution_count": 28,
   "id": "d5bd5a2a-ca3c-4ff6-92c7-8b81a7f39354",
   "metadata": {},
   "outputs": [],
   "source": [
    "e = M @ Y"
   ]
  },
  {
   "cell_type": "code",
   "execution_count": 29,
   "id": "7c11c806-5bca-4759-acec-89ab86768457",
   "metadata": {},
   "outputs": [],
   "source": [
    "df['e'] = e "
   ]
  },
  {
   "cell_type": "markdown",
   "id": "39474057-60f7-49d3-a7cf-d5a619dbd83d",
   "metadata": {},
   "source": [
    "##### Estimating standard errors"
   ]
  },
  {
   "cell_type": "markdown",
   "id": "6ebf33e3-4732-44a1-bcc0-b8bd8bf4bbe9",
   "metadata": {},
   "source": [
    "Getting the estimated variance of the errors under "
   ]
  },
  {
   "cell_type": "code",
   "execution_count": 30,
   "id": "4bf09518-8440-4bff-a3df-76e4f6c0ffa1",
   "metadata": {},
   "outputs": [],
   "source": [
    "var_e = (np.transpose(e) @ e)/(n-k)"
   ]
  },
  {
   "cell_type": "markdown",
   "id": "9b3d9380-668e-4d86-bd3f-bab252e87d86",
   "metadata": {},
   "source": [
    "The  estimator of the standard errors under homoscedasticity is:\n",
    "$Var(\\hat \\beta) = \\hat \\sigma^2_e (X'X)^{-1}$"
   ]
  },
  {
   "cell_type": "code",
   "execution_count": 31,
   "id": "20e97eec-f064-4fc1-8359-4993e4bccdd1",
   "metadata": {},
   "outputs": [],
   "source": [
    "var_b = var_e * np.linalg.inv(np.transpose(X) @ X)"
   ]
  },
  {
   "cell_type": "code",
   "execution_count": 32,
   "id": "4dbd350e-9a33-4867-b378-b8245e540452",
   "metadata": {},
   "outputs": [
    {
     "data": {
      "text/plain": [
       "array([[ 0.205, -0.027],\n",
       "       [-0.027,  0.004]])"
      ]
     },
     "execution_count": 32,
     "metadata": {},
     "output_type": "execute_result"
    }
   ],
   "source": [
    "var_b"
   ]
  },
  {
   "cell_type": "code",
   "execution_count": 33,
   "id": "a558de54-1c09-41a1-ae2e-b0a6956df3db",
   "metadata": {},
   "outputs": [
    {
     "data": {
      "text/plain": [
       "0.062"
      ]
     },
     "execution_count": 33,
     "metadata": {},
     "output_type": "execute_result"
    }
   ],
   "source": [
    "var_b[1,1]**0.5"
   ]
  },
  {
   "cell_type": "markdown",
   "id": "58c3d998-b99e-4d38-b2e9-24c22ff58c29",
   "metadata": {},
   "source": [
    "If we don't assume homoscedasticity and only uncorrelated observation, we can use the White/Huberman variance:\n",
    "\n",
    "$Var(\\hat \\beta) = (X'X)^{-1} (\\sum_i X_i X_i' \\hat e_i^2)  (X'X)^{-1}$"
   ]
  },
  {
   "cell_type": "code",
   "execution_count": 34,
   "id": "5f2cc603-eb74-4f07-b559-a63b6947a0e6",
   "metadata": {},
   "outputs": [],
   "source": [
    "var_b_robust = (np.linalg.inv(np.transpose(X) @ X) \n",
    "                @ np.transpose(X) @ (np.diag(e @ np.transpose(e) ) * np.eye(n)) @ X\n",
    "                @ np.linalg.inv(np.transpose(X) @ X))"
   ]
  },
  {
   "cell_type": "code",
   "execution_count": 35,
   "id": "24671593-1bb7-4ef8-9330-ba44cf0b712a",
   "metadata": {
    "scrolled": true
   },
   "outputs": [
    {
     "data": {
      "text/plain": [
       "array([[ 0.166, -0.022],\n",
       "       [-0.022,  0.003]])"
      ]
     },
     "execution_count": 35,
     "metadata": {},
     "output_type": "execute_result"
    }
   ],
   "source": [
    "var_b_robust"
   ]
  },
  {
   "cell_type": "code",
   "execution_count": 36,
   "id": "c8b5ad4d-708e-4b12-9a7f-b310b3da54a6",
   "metadata": {},
   "outputs": [
    {
     "data": {
      "text/plain": [
       "0.055"
      ]
     },
     "execution_count": 36,
     "metadata": {},
     "output_type": "execute_result"
    }
   ],
   "source": [
    "var_b_robust[1,1]**0.5"
   ]
  },
  {
   "cell_type": "markdown",
   "id": "bfe1b578-d6f1-4931-9003-6d41ee2f3ee7",
   "metadata": {},
   "source": [
    "##### What is the estimated constant elasticity of $rd$ with respect to $sales$? What is the standard deviation of this estimated parameter? "
   ]
  },
  {
   "cell_type": "code",
   "execution_count": 37,
   "id": "a1f76dc4-e2bf-494a-b915-d2df8af77023",
   "metadata": {},
   "outputs": [
    {
     "name": "stdout",
     "output_type": "stream",
     "text": [
      "The estimated value of the parameter is [1.076]\n",
      "The standard deviation if we assume homoscedasticity is 0.06182751756478224\n"
     ]
    }
   ],
   "source": [
    "print(f\"The estimated value of the parameter is {beta[1]}\")\n",
    "print(f\"The standard deviation if we assume homoscedasticity is {var_b[1,1]**0.5}\")"
   ]
  },
  {
   "cell_type": "markdown",
   "id": "10abaf0b-6a5a-4380-89fe-698165c34904",
   "metadata": {},
   "source": [
    "(d)"
   ]
  },
  {
   "cell_type": "markdown",
   "id": "e4da9459-f75f-406b-b243-2ecfdf203b03",
   "metadata": {},
   "source": [
    "##### Getting the prediction of $Y$ using the projection matrix $P$"
   ]
  },
  {
   "cell_type": "code",
   "execution_count": 38,
   "id": "eb6a36f0-3de2-44d2-a3c6-8dc1d7ec8fea",
   "metadata": {
    "scrolled": true
   },
   "outputs": [],
   "source": [
    "df['y_hat'] = P @ Y"
   ]
  },
  {
   "cell_type": "markdown",
   "id": "cfe5c1d0-9290-40eb-ae65-6533a7bb3b5d",
   "metadata": {},
   "source": [
    "##### Plotting the prediction against X"
   ]
  },
  {
   "cell_type": "code",
   "execution_count": 39,
   "id": "85d8b793-bab3-45b1-b113-655f7d0480a9",
   "metadata": {},
   "outputs": [
    {
     "data": {
      "text/plain": [
       "<Axes: xlabel='x', ylabel='y_hat'>"
      ]
     },
     "execution_count": 39,
     "metadata": {},
     "output_type": "execute_result"
    },
    {
     "data": {
      "image/png": "[encoded data removed]",
      "text/plain": [
       "<Figure size 640x480 with 1 Axes>"
      ]
     },
     "metadata": {},
     "output_type": "display_data"
    }
   ],
   "source": [
    "sns.scatterplot(x = df['x'], y = df['y_hat'])"
   ]
  },
  {
   "cell_type": "markdown",
   "id": "c520a780-8593-41cf-922b-d1c4e2a2c3fc",
   "metadata": {},
   "source": [
    "##### What do you see? Do you expect this?"
   ]
  },
  {
   "cell_type": "markdown",
   "id": "283638be-ef7d-4ab9-8fb0-b80971fc201f",
   "metadata": {},
   "source": [
    "We observe the values of $\\hat y$ are linear on $x$. As the model we estimated is assumed to be $y = \\beta_0 + \\beta_1$, it is expected that this relationship should linear."
   ]
  },
  {
   "cell_type": "markdown",
   "id": "bc875686-320a-4fd7-a2bc-a6e4c8433295",
   "metadata": {},
   "source": [
    "(e)"
   ]
  },
  {
   "cell_type": "markdown",
   "id": "c32ad0f1-e1d2-4326-9f29-62863e638abd",
   "metadata": {},
   "source": [
    "##### Plotting the errors against the $X$ variable"
   ]
  },
  {
   "cell_type": "code",
   "execution_count": 40,
   "id": "6b040e15-3202-453c-a969-ad4bc9ecd68b",
   "metadata": {},
   "outputs": [
    {
     "data": {
      "text/plain": [
       "<Axes: xlabel='x', ylabel='e'>"
      ]
     },
     "execution_count": 40,
     "metadata": {},
     "output_type": "execute_result"
    },
    {
     "data": {
      "image/png": "[encoded data removed]",
      "text/plain": [
       "<Figure size 640x480 with 1 Axes>"
      ]
     },
     "metadata": {},
     "output_type": "display_data"
    }
   ],
   "source": [
    "sns.scatterplot(x = df['x'], y = df['e'])"
   ]
  },
  {
   "cell_type": "markdown",
   "id": "0f9b354d-2159-46dd-a408-5fb8cf715041",
   "metadata": {},
   "source": [
    "##### What do you see? Do you expect this? "
   ]
  },
  {
   "cell_type": "markdown",
   "id": "00247577-48dd-4882-b1a0-45753c553082",
   "metadata": {},
   "source": [
    "As we observe the errors and the variable $X$ seems to be uncorrelated. We can check this from the following:\n",
    "$X'e = X'MY = X' (I - X(X'X)^{-1}X') Y = 0$\n"
   ]
  },
  {
   "cell_type": "code",
   "execution_count": 41,
   "id": "192c0fa2-4185-4b59-8696-c6bd83685e76",
   "metadata": {},
   "outputs": [
    {
     "data": {
      "text/html": [
       "<div>\n",
       "<style scoped>\n",
       "    .dataframe tbody tr th:only-of-type {\n",
       "        vertical-align: middle;\n",
       "    }\n",
       "\n",
       "    .dataframe tbody tr th {\n",
       "        vertical-align: top;\n",
       "    }\n",
       "\n",
       "    .dataframe thead th {\n",
       "        text-align: right;\n",
       "    }\n",
       "</style>\n",
       "<table border=\"1\" class=\"dataframe\">\n",
       "  <thead>\n",
       "    <tr style=\"text-align: right;\">\n",
       "      <th></th>\n",
       "      <th>x</th>\n",
       "      <th>e</th>\n",
       "    </tr>\n",
       "  </thead>\n",
       "  <tbody>\n",
       "    <tr>\n",
       "      <th>x</th>\n",
       "      <td>2.365</td>\n",
       "      <td>-0.000</td>\n",
       "    </tr>\n",
       "    <tr>\n",
       "      <th>e</th>\n",
       "      <td>-0.000</td>\n",
       "      <td>0.271</td>\n",
       "    </tr>\n",
       "  </tbody>\n",
       "</table>\n",
       "</div>"
      ],
      "text/plain": [
       "       x      e\n",
       "x  2.365 -0.000\n",
       "e -0.000  0.271"
      ]
     },
     "execution_count": 41,
     "metadata": {},
     "output_type": "execute_result"
    }
   ],
   "source": [
    "df[['x','e']].cov()"
   ]
  },
  {
   "cell_type": "markdown",
   "id": "9a42510b-fad2-415b-9ea3-bc8e4a77cfd3",
   "metadata": {},
   "source": [
    "(f)"
   ]
  },
  {
   "cell_type": "markdown",
   "id": "2cec31ad-ca82-4741-a790-cedf4acfebb5",
   "metadata": {},
   "source": [
    "##### Running the regression of the errors on $X$"
   ]
  },
  {
   "cell_type": "code",
   "execution_count": 42,
   "id": "52c94748-ec69-4257-94f3-212e2d002aa2",
   "metadata": {},
   "outputs": [],
   "source": [
    "beta_ex = np.linalg.inv(np.transpose(X) @ X) @ np.transpose(X) @ e"
   ]
  },
  {
   "cell_type": "markdown",
   "id": "31778bd9-e5c9-4332-ab59-867ec5d96ce1",
   "metadata": {},
   "source": [
    "The values of beta are 0."
   ]
  },
  {
   "cell_type": "code",
   "execution_count": 43,
   "id": "14a6f8d5-b032-43f7-9c9b-f567e0d2e4c9",
   "metadata": {},
   "outputs": [
    {
     "name": "stdout",
     "output_type": "stream",
     "text": [
      "[[ 5.385e-15 -1.388e-17]]\n"
     ]
    }
   ],
   "source": [
    "print(beta_ex.T)"
   ]
  },
  {
   "cell_type": "markdown",
   "id": "19202839-0eaf-4452-804a-9c25f545bef2",
   "metadata": {},
   "source": [
    "This $\\hat \\beta_{ex}$ is estimated as: \n",
    "\n",
    "$\\hat \\beta_{ex} = (X'X)X'e = (X'X)X'MY = 0$ \n",
    "\n",
    "The last equality holds as $X'M = 0 $"
   ]
  },
  {
   "cell_type": "markdown",
   "id": "42444128-b2ba-4154-9da7-f395dda58d97",
   "metadata": {},
   "source": [
    "##### Calculating $R^2$"
   ]
  },
  {
   "cell_type": "markdown",
   "id": "29061620-d8b6-464b-9c1e-8665bf646815",
   "metadata": {},
   "source": [
    "Creating matrix M_0, which demeans the variables"
   ]
  },
  {
   "cell_type": "code",
   "execution_count": 44,
   "id": "726f3d57-75ac-41aa-a52c-2fbb95443bf7",
   "metadata": {},
   "outputs": [],
   "source": [
    "M_0 = np.eye(n) - np.ones([n,1]) @ np.ones([1,n])/n"
   ]
  },
  {
   "cell_type": "markdown",
   "id": "b92d3c24-b652-42c7-97a4-42ec1cf0dbda",
   "metadata": {},
   "source": [
    "The $R^2$ is also 0, as the predicted values are equal to 0."
   ]
  },
  {
   "cell_type": "code",
   "execution_count": 45,
   "id": "a4fbd352-742c-44ec-befb-4153503cbb84",
   "metadata": {},
   "outputs": [
    {
     "name": "stdout",
     "output_type": "stream",
     "text": [
      "R2 is [[4.518e-31]]\n"
     ]
    }
   ],
   "source": [
    "R_2_ex = (np.transpose(X @ beta_ex) @ M_0 @ X @ beta_ex) / np.transpose(e) @ M_0 @ e\n",
    "\n",
    "print(f\"R2 is {R_2_ex}\")"
   ]
  },
  {
   "cell_type": "markdown",
   "id": "d96c5267-5659-4b69-9fa8-bd827b6b3c21",
   "metadata": {},
   "source": [
    "##### What are the regression parameter estimates? Do you expect these numbers? What is the $R^2$ from this regression? Do you expect this?\n"
   ]
  },
  {
   "cell_type": "markdown",
   "id": "8f6cfaf0-5049-4766-8545-3aa10e7d8564",
   "metadata": {},
   "source": [
    "The estimates are zero. The $R^2$ is also zero. We expected this as the errors are uncorrelated with $X$. As the prediction are equal to 0 and constant, the $R^2$ it is also zero."
   ]
  },
  {
   "cell_type": "markdown",
   "id": "a21c1544-177d-4d2b-98c9-66d6ac439e53",
   "metadata": {},
   "source": [
    "(g)"
   ]
  },
  {
   "cell_type": "markdown",
   "id": "91a4c0b1-82bd-4611-b374-87f076ce765e",
   "metadata": {},
   "source": [
    "##### Estimating the converse regression $X = \\alpha_0 + \\alpha_1 Y$"
   ]
  },
  {
   "cell_type": "code",
   "execution_count": 46,
   "id": "c3725741-63ed-4b09-be9c-6a47b659269e",
   "metadata": {},
   "outputs": [
    {
     "name": "stdout",
     "output_type": "stream",
     "text": [
      "[[4.118 0.846]]\n"
     ]
    }
   ],
   "source": [
    "Y_rev = df[['const','y']].to_numpy()\n",
    "X_rev = df[['x']].to_numpy()\n",
    "\n",
    "alpha = np.linalg.inv(np.transpose(Y_rev) @ Y_rev) @ np.transpose(Y_rev) @ X_rev\n",
    "\n",
    "print(alpha.T)"
   ]
  },
  {
   "cell_type": "markdown",
   "id": "b38583ef-fc63-4553-b34b-0573665dbbbc",
   "metadata": {},
   "source": [
    "##### Comparing estimates"
   ]
  },
  {
   "cell_type": "code",
   "execution_count": 47,
   "id": "888fb5bc-8d9e-41a4-ab7c-48cf7fe89481",
   "metadata": {},
   "outputs": [
    {
     "name": "stdout",
     "output_type": "stream",
     "text": [
      "Value of beta: [1.076]\n",
      "Value of 1/beta: [0.93]\n",
      "Value of alpha: [0.846]\n"
     ]
    }
   ],
   "source": [
    "print(f\"Value of beta: {beta[1]}\")\n",
    "print(f\"Value of 1/beta: {1/beta[1]}\")\n",
    "print(f\"Value of alpha: {alpha[1]}\")"
   ]
  },
  {
   "cell_type": "markdown",
   "id": "593e9755-50b4-46d4-95aa-64a2dca3b7f0",
   "metadata": {},
   "source": [
    "##### Is it true that $\\hat\\beta_1 = 1/\\hat\\alpha_1$? Explain why."
   ]
  },
  {
   "cell_type": "markdown",
   "id": "f96a7fc7-e242-4f09-89a3-0cb6a8a2888e",
   "metadata": {},
   "source": [
    "As we observe $\\alpha \\ne 1/\\beta$."
   ]
  },
  {
   "cell_type": "markdown",
   "id": "138a2924-6784-400a-a857-b3ab7197e32b",
   "metadata": {},
   "source": [
    "##### Explanation of the relationship between $\\beta_1$ and $\\alpha_1$"
   ]
  },
  {
   "cell_type": "markdown",
   "id": "cdad9d6b-eb87-452c-8221-1577225028ee",
   "metadata": {},
   "source": [
    "$\\hat \\beta$ is not equivalent to $1/\\hat \\alpha$.\n",
    "\n",
    "The formula for the calculation of each one in the presence of an intercept and only one variable is:\n",
    "\n",
    "$$\\hat \\beta = \\frac{\\hat{Cov(x,y)}}{\\hat{Var(x)}}$$\n",
    "$$\\hat \\alpha = \\frac{\\hat{Cov(x,y)}}{\\hat{Var(y)}}$$\n",
    "\n",
    "\n",
    "So, without the presence of any other variables, we can observe that the relationship between this two estimates is:\n",
    "\n",
    "$$\\hat \\alpha = \\hat \\beta \\frac{\\hat{Var(x)}}{\\hat{Var(y)}}$$"
   ]
  },
  {
   "cell_type": "markdown",
   "id": "3b026bb4-e413-4951-9333-ea21b514442a",
   "metadata": {},
   "source": [
    "Checking the formula"
   ]
  },
  {
   "cell_type": "markdown",
   "id": "6c93f96d-af4b-4389-be5a-785c1ac25473",
   "metadata": {},
   "source": [
    "$\\hat \\beta \\frac{\\hat{Var(x)}}{\\hat{Var(y)}}$"
   ]
  },
  {
   "cell_type": "code",
   "execution_count": 48,
   "id": "569d49d6-62e6-4ce6-95f2-e1c536881607",
   "metadata": {},
   "outputs": [
    {
     "name": "stdout",
     "output_type": "stream",
     "text": [
      "[0.846]\n"
     ]
    }
   ],
   "source": [
    "print(beta[1] * df[['x','y']].cov()['x']['x']/df[['x','y']].cov()['y']['y'])"
   ]
  },
  {
   "cell_type": "markdown",
   "id": "9ae6fb48-383a-46e5-acfa-e44031ff9d6c",
   "metadata": {},
   "source": [
    "$\\hat \\alpha$"
   ]
  },
  {
   "cell_type": "code",
   "execution_count": 49,
   "id": "2fe8e649-c6ca-4a04-8adc-1f82263c09b2",
   "metadata": {},
   "outputs": [
    {
     "name": "stdout",
     "output_type": "stream",
     "text": [
      "[0.846]\n"
     ]
    }
   ],
   "source": [
    "print(alpha[1])"
   ]
  },
  {
   "cell_type": "markdown",
   "id": "54ea48b3-a1c4-492a-bd06-c68aae001aa3",
   "metadata": {},
   "source": [
    "(h)"
   ]
  },
  {
   "cell_type": "markdown",
   "id": "43fae34d-bb1b-4331-b273-a310b89516db",
   "metadata": {},
   "source": [
    "##### Computation of $R^2$ in both regressions"
   ]
  },
  {
   "cell_type": "markdown",
   "id": "79be77d7-afa2-4e9c-ac76-d6ad053b9897",
   "metadata": {},
   "source": [
    "The $R^2$ for the original regression is:\n",
    "\n",
    "$$R^2 = \\frac{\\beta'X'M_0X\\beta}{Y'M_0Y}$$\n",
    "\n",
    "Where $M_0$ is the demean matrix\n",
    "\n",
    "In the converse case:\n",
    "\n",
    "$$R^2_r = \\frac{\\alpha'Y'M_0Y\\alpha}{X'M_0X}$$"
   ]
  },
  {
   "cell_type": "code",
   "execution_count": 50,
   "id": "dec8522d-f169-4fea-ab29-15674b18685c",
   "metadata": {},
   "outputs": [
    {
     "name": "stdout",
     "output_type": "stream",
     "text": [
      "R2 of the normal regression: 0.9098345170947126\n",
      "R2 of the reverse regression: 0.9098345170947094\n"
     ]
    }
   ],
   "source": [
    "R2 = np.transpose(X @ beta) @ M_0 @ X @ beta / (np.transpose(Y) @ M_0 @ Y)\n",
    "\n",
    "R2_inv = (np.transpose(Y_rev @ alpha) @ M_0 @ Y_rev @ alpha) / (np.transpose(X_rev) @ M_0 @ X_rev)\n",
    "\n",
    "print(f\"R2 of the normal regression: {R2[0][0]}\")\n",
    "print(f\"R2 of the reverse regression: {R2_inv[0][0]}\")"
   ]
  },
  {
   "cell_type": "markdown",
   "id": "5d656a47-7e05-427b-8ba3-0278c78c5b6f",
   "metadata": {},
   "source": [
    "##### Do you see any relation between the two $R^2$'s? Can you explain it?"
   ]
  },
  {
   "cell_type": "markdown",
   "id": "6e8cc211-314d-40ba-861e-7bb603611ddd",
   "metadata": {},
   "source": [
    "Both $R^2$ are equivalent."
   ]
  },
  {
   "cell_type": "markdown",
   "id": "4a8980b6-f529-4d1e-8a47-6e5844313f06",
   "metadata": {},
   "source": [
    "##### Explanation of the equivalance"
   ]
  },
  {
   "cell_type": "markdown",
   "id": "1dd1ff22-3f3e-4637-92f5-2716a830c38d",
   "metadata": {},
   "source": [
    "It is easy to prove that a regression with one variable and a constant, the estimates are:\n",
    "\n",
    "$$\\hat \\beta_1 = \\frac{\\hat{\\sigma_{X,Y}}}{\\hat{\\sigma_{X}^2}}$$\n",
    "$$\\hat \\beta_0 = \\mu_Y - \\frac{\\hat{\\sigma_{X,Y}}}{\\hat{\\sigma_{X}^2}} \\mu_X$$\n",
    "\n",
    "The prediction for a value $X_i$ is:\n",
    "\n",
    "$$\\hat Y_i = \\mu_Y + \\frac{\\hat{\\sigma_{X,Y}}}{\\hat{\\sigma_{X}^2}} ( X_i - \\mu_X) $$\n",
    "\n",
    "The mean of $\\hat Y_i $ is $\\mu_Y$ and the variance is:\n",
    "\n",
    "$$\\frac{1}{n} \\sum_i (\\hat Y_i - \\mu_Y)^2 = \\frac{1}{n} \\sum_i (\\frac{\\hat{\\sigma_{X,Y}}}{\\hat{\\sigma_{X}^2}})^2 ( X_i - \\mu_X)^2$$\n",
    "$$\\frac{1}{n} \\sum_i (\\hat Y_i - \\mu_Y)^2 = \\frac{\\hat{\\sigma_{X,Y}}^2}{\\hat{\\sigma_{X}^2}}$$\n",
    "\n",
    "And the $R^2$ is:\n",
    "\n",
    "$$R^2= \\frac{n^{-1}\\sum_i (\\hat Y_i - \\mu_Y)^2}{n^{-1}\\sum_i (Y_i - \\mu_Y)^2}$$\n",
    "\n",
    "But, by definition:\n",
    "\n",
    "$$\\frac{1}{n} \\sum_i (Y_i - \\mu_Y)^2 = \\hat{\\sigma_Y^2}$$\n",
    "\n",
    "\n",
    "Then $R^2$ becomes:\n",
    "\n",
    "$$R^2 = (\\frac{\\hat{\\sigma_{X,Y}}^2}{\\hat{\\sigma_{Y}^2}\\hat{\\sigma_{X}^2}})$$\n",
    "\n",
    "\n",
    "\n",
    "In the converse case, we have the following:\n",
    "\n",
    "$$\\hat \\alpha_1 = \\frac{\\hat{\\sigma_{X,Y}}}{\\hat{\\sigma_{Y}^2}}$$\n",
    "$$\\hat \\alpha_0 = \\mu_X - \\frac{\\hat{\\sigma_{X,Y}}}{\\hat{\\sigma_{Y}^2}} \\mu_Y$$\n",
    "\n",
    "If we apply the same logic that before, we will obtain the following:\n",
    "\n",
    "$$\\frac{1}{n} \\sum_i (\\hat X_i - \\mu_X)^2 = \\frac{1}{n} \\sum_i (\\frac{\\hat{\\sigma_{X,Y}}}{\\hat{\\sigma_{Y}^2}})^2 ( Y_i - \\mu_Y)^2$$\n",
    "$$\\frac{1}{n} \\sum_i (\\hat X_i - \\mu_X)^2 = \\frac{\\hat{\\sigma_{X,Y}}^2}{\\hat{\\sigma_{Y}^2}}$$\n",
    "\n",
    "And the $R^2_r$ of this converse regression is the same as the original, as:\n",
    "\n",
    "$$R^2_r= \\frac{n^{-1}\\sum_i (\\hat X_i - \\mu_X)^2}{n^{-1}\\sum_i (X_i - \\mu_X)^2}$$\n",
    "$$R^2_r= (\\frac{\\hat{\\sigma_{X,Y}}^2}{\\hat{\\sigma_{Y}^2}\\hat{\\sigma_{X}^2}})$$"
   ]
  },
  {
   "cell_type": "markdown",
   "id": "10f51731-82e7-47c9-87f0-e1d03c0847d9",
   "metadata": {},
   "source": [
    "From the variance covariance matrix, is easy to check the same"
   ]
  },
  {
   "cell_type": "code",
   "execution_count": 51,
   "id": "444a9a7e-c854-40e0-b870-7b300eb8f54b",
   "metadata": {
    "scrolled": true
   },
   "outputs": [
    {
     "data": {
      "text/plain": [
       "0.910"
      ]
     },
     "execution_count": 51,
     "metadata": {},
     "output_type": "execute_result"
    }
   ],
   "source": [
    "df[['x','y']].cov().pipe(lambda df: df['x']['y']**2/(df['x']['x']*df['y']['y']))"
   ]
  },
  {
   "cell_type": "markdown",
   "id": "5c3f3a4b-fdf2-45be-92be-ef6b083147d1",
   "metadata": {},
   "source": [
    "### Question 3"
   ]
  },
  {
   "cell_type": "code",
   "execution_count": 52,
   "id": "7b74dd9b-4e90-4650-9022-efffdde9dae7",
   "metadata": {},
   "outputs": [],
   "source": [
    "df = pd.read_csv(\"../data/web-browsers.csv\")"
   ]
  },
  {
   "cell_type": "code",
   "execution_count": 53,
   "id": "8ce8ec5b-ae53-480f-9fc0-edcd9ec9015f",
   "metadata": {},
   "outputs": [],
   "source": [
    "df['lspend'] = np.log(df['spend'])\n",
    "df['const'] = 1"
   ]
  },
  {
   "cell_type": "markdown",
   "id": "62db440a-6ef8-4081-8b74-bc7fa8ccaf73",
   "metadata": {},
   "source": [
    "(a)"
   ]
  },
  {
   "cell_type": "markdown",
   "id": "30944cbc-218a-4e27-9910-72309f77dcee",
   "metadata": {},
   "source": [
    "##### Getting the estimates"
   ]
  },
  {
   "cell_type": "code",
   "execution_count": 54,
   "id": "8bceee91-6f70-4ea2-a4e7-ef875a8261d0",
   "metadata": {},
   "outputs": [
    {
     "name": "stdout",
     "output_type": "stream",
     "text": [
      "constant broadband anychildren\n",
      "[[5.685 0.553 0.082]]\n"
     ]
    }
   ],
   "source": [
    "Y = df[['lspend']].to_numpy()\n",
    "X = df[['const','broadband','anychildren']].to_numpy()\n",
    "\n",
    "n, k = X.shape\n",
    "\n",
    "beta = np.linalg.inv(np.transpose(X) @ X) @ np.transpose(X) @ Y\n",
    "print(\"constant\", \"broadband\", \"anychildren\")\n",
    "print(beta.T)"
   ]
  },
  {
   "cell_type": "markdown",
   "id": "1b18f7db-a1b9-49c1-940b-7e7c2dc443f6",
   "metadata": {},
   "source": [
    "##### Computing additional matrices"
   ]
  },
  {
   "cell_type": "code",
   "execution_count": 55,
   "id": "c18c6090-3196-4e29-8f83-5e77a1adb2e4",
   "metadata": {},
   "outputs": [],
   "source": [
    "P = X @ np.linalg.inv(np.transpose(X) @ X) @ np.transpose(X)\n",
    "M = np.eye(n) - P"
   ]
  },
  {
   "cell_type": "markdown",
   "id": "9482aea3-e9ae-40e2-a46e-9a9a292ea3ac",
   "metadata": {},
   "source": [
    "##### Getting the error"
   ]
  },
  {
   "cell_type": "code",
   "execution_count": 56,
   "id": "da220b12-eafc-4cc9-a047-98e718449d99",
   "metadata": {},
   "outputs": [],
   "source": [
    "e = M @ Y"
   ]
  },
  {
   "cell_type": "markdown",
   "id": "4f2a77b6-7087-47f8-96d7-0d5cc18f4aab",
   "metadata": {},
   "source": [
    "##### Estimating standard errors"
   ]
  },
  {
   "cell_type": "code",
   "execution_count": 57,
   "id": "427d7712-972d-417a-9d96-1051fb1870f8",
   "metadata": {},
   "outputs": [
    {
     "name": "stdout",
     "output_type": "stream",
     "text": [
      "Variance of the error\n",
      "2.73746\n",
      "\n"
     ]
    }
   ],
   "source": [
    "sigma2_e = e.T @ e / (n - k)\n",
    "print(\"Variance of the error\")\n",
    "print(f\"{sigma2_e[0][0]:0.5f}\")\n",
    "print()"
   ]
  },
  {
   "cell_type": "code",
   "execution_count": 58,
   "id": "a4b55157-7a97-4d73-8fae-b309a2de0540",
   "metadata": {},
   "outputs": [
    {
     "name": "stdout",
     "output_type": "stream",
     "text": [
      "SE Constant\n",
      "0.04403\n",
      "SE broadband\n",
      "0.04357\n",
      "SE anychildren\n",
      "0.03380\n"
     ]
    }
   ],
   "source": [
    "var_b = np.linalg.inv(X.T @ X) * sigma2_e\n",
    "\n",
    "var_b\n",
    "print(\"SE Constant\")\n",
    "print(f\"{var_b[0,0]** 0.5:0.5f}\")\n",
    "print(\"SE broadband\")\n",
    "print(f\"{var_b[1,1]** 0.5:0.5f}\")\n",
    "print(\"SE anychildren\")\n",
    "print(f\"{var_b[2,2]** 0.5:0.5f}\")"
   ]
  },
  {
   "cell_type": "markdown",
   "id": "fba5708f-8b13-4f1a-b0ca-cfa78124529e",
   "metadata": {},
   "source": [
    "(b)"
   ]
  },
  {
   "cell_type": "markdown",
   "id": "d1ca0c81-67b7-4e9a-93d4-6df2f3e8feb0",
   "metadata": {},
   "source": [
    "##### Regression using predefined packages"
   ]
  },
  {
   "cell_type": "code",
   "execution_count": 59,
   "id": "6f655cb3-e8c0-412f-a8cf-4f1193bd1152",
   "metadata": {},
   "outputs": [
    {
     "name": "stdout",
     "output_type": "stream",
     "text": [
      "                            OLS Regression Results                            \n",
      "==============================================================================\n",
      "Dep. Variable:                 lspend   R-squared:                       0.017\n",
      "Model:                            OLS   Adj. R-squared:                  0.016\n",
      "Method:                 Least Squares   F-statistic:                     84.37\n",
      "Date:                Thu, 19 Oct 2023   Prob (F-statistic):           4.63e-37\n",
      "Time:                        00:38:12   Log-Likelihood:                -19223.\n",
      "No. Observations:               10000   AIC:                         3.845e+04\n",
      "Df Residuals:                    9997   BIC:                         3.847e+04\n",
      "Df Model:                           2                                         \n",
      "Covariance Type:            nonrobust                                         \n",
      "===============================================================================\n",
      "                  coef    std err          t      P>|t|      [0.025      0.975]\n",
      "-------------------------------------------------------------------------------\n",
      "const           5.6851      0.044    129.119      0.000       5.599       5.771\n",
      "broadband       0.5528      0.044     12.689      0.000       0.467       0.638\n",
      "anychildren     0.0822      0.034      2.431      0.015       0.016       0.148\n",
      "==============================================================================\n",
      "Omnibus:                        8.647   Durbin-Watson:                   1.970\n",
      "Prob(Omnibus):                  0.013   Jarque-Bera (JB):                8.589\n",
      "Skew:                          -0.062   Prob(JB):                       0.0136\n",
      "Kurtosis:                       2.928   Cond. No.                         5.26\n",
      "==============================================================================\n",
      "\n",
      "Notes:\n",
      "[1] Standard Errors assume that the covariance matrix of the errors is correctly specified.\n"
     ]
    }
   ],
   "source": [
    "import statsmodels.api as sm\n",
    "\n",
    "mod = sm.OLS(df.lspend, df[['const','broadband','anychildren']])\n",
    "res = mod.fit()\n",
    "res.cov_HC2\n",
    "print(res.summary())"
   ]
  },
  {
   "cell_type": "markdown",
   "id": "8da17159-36cf-4ead-bc5b-ca7380a12d6b",
   "metadata": {},
   "source": [
    "(c)"
   ]
  },
  {
   "cell_type": "markdown",
   "id": "5b021d4c-f852-43c1-9de3-2e56d1a83121",
   "metadata": {},
   "source": [
    "##### Predefining the partition"
   ]
  },
  {
   "cell_type": "code",
   "execution_count": 60,
   "id": "a112b3e1-1d1d-4c2c-af82-c72306b3e126",
   "metadata": {},
   "outputs": [],
   "source": [
    "Y = df[['lspend']].to_numpy()\n",
    "X_1 = df[['const','broadband']].to_numpy()\n",
    "X_2 = df[['anychildren']].to_numpy()\n",
    "\n",
    "n, k_1 = X_1.shape\n",
    "\n",
    "_, k_2 = X_2.shape\n",
    "\n",
    "P_1 = X_1 @ np.linalg.inv(np.transpose(X_1) @ X_1) @ np.transpose(X_1)\n",
    "M_1 = np.eye(n) - P_1"
   ]
  },
  {
   "cell_type": "markdown",
   "id": "7528a9fd-d1bd-4061-a499-569562950018",
   "metadata": {},
   "source": [
    "(c.1)"
   ]
  },
  {
   "cell_type": "markdown",
   "id": "76f8920c-5455-4196-b99b-d8a5656ab966",
   "metadata": {},
   "source": [
    "##### Get the coefficients"
   ]
  },
  {
   "cell_type": "code",
   "execution_count": 61,
   "id": "77cfd3e2-d856-4f13-88cd-3bab689e197c",
   "metadata": {},
   "outputs": [
    {
     "name": "stdout",
     "output_type": "stream",
     "text": [
      "constant anychildren\n",
      "[[5.732 0.556]]\n"
     ]
    }
   ],
   "source": [
    "beta_y1 = np.linalg.inv(np.transpose(X_1) @ X_1) @ np.transpose(X_1) @ Y\n",
    "print(\"constant\", \"anychildren\")\n",
    "print(beta_y1.T)"
   ]
  },
  {
   "cell_type": "markdown",
   "id": "3a23cdaa-c1b8-44fd-8c38-39fa745c755b",
   "metadata": {},
   "source": [
    "##### Get the residuals"
   ]
  },
  {
   "cell_type": "code",
   "execution_count": 62,
   "id": "8ef56e31-164a-49f2-9310-746678862247",
   "metadata": {},
   "outputs": [
    {
     "data": {
      "text/plain": [
       "<Axes: ylabel='Density'>"
      ]
     },
     "execution_count": 62,
     "metadata": {},
     "output_type": "execute_result"
    },
    {
     "data": {
      "image/png": "[encoded data removed]",
      "text/plain": [
       "<Figure size 640x480 with 1 Axes>"
      ]
     },
     "metadata": {},
     "output_type": "display_data"
    }
   ],
   "source": [
    "e_1 = M_1 @ Y\n",
    "sns.kdeplot(e_1)"
   ]
  },
  {
   "cell_type": "markdown",
   "id": "7bf7d406-0345-4833-b697-b1a770e9e9f9",
   "metadata": {},
   "source": [
    "(c.2)"
   ]
  },
  {
   "cell_type": "markdown",
   "id": "b6ecc5fe-92bb-4534-8017-ca04981dfc49",
   "metadata": {},
   "source": [
    "##### Getting the coefficients"
   ]
  },
  {
   "cell_type": "code",
   "execution_count": 63,
   "id": "411b4f8c-f1b3-4f82-97f4-0c854c349d45",
   "metadata": {},
   "outputs": [
    {
     "name": "stdout",
     "output_type": "stream",
     "text": [
      "constant anychildren\n",
      "[[0.572 0.035]]\n"
     ]
    }
   ],
   "source": [
    "beta_21 = np.linalg.inv(np.transpose(X_1) @ X_1) @ np.transpose(X_1) @ X_2\n",
    "print(\"constant\", \"anychildren\")\n",
    "print(beta_21.T)"
   ]
  },
  {
   "cell_type": "markdown",
   "id": "da8ec48d-f3a7-48fb-a83d-2ce491cf70ac",
   "metadata": {},
   "source": [
    "##### Getting the residuals"
   ]
  },
  {
   "cell_type": "code",
   "execution_count": 64,
   "id": "ab7aa95c-ecd3-4c14-bf66-e0a72ebabbe2",
   "metadata": {},
   "outputs": [
    {
     "data": {
      "text/plain": [
       "<Axes: ylabel='Density'>"
      ]
     },
     "execution_count": 64,
     "metadata": {},
     "output_type": "execute_result"
    },
    {
     "data": {
      "image/png": "[encoded data removed]",
      "text/plain": [
       "<Figure size 640x480 with 1 Axes>"
      ]
     },
     "metadata": {},
     "output_type": "display_data"
    }
   ],
   "source": [
    "e_2 = M_1 @ X_2\n",
    "sns.kdeplot(e_2)"
   ]
  },
  {
   "cell_type": "markdown",
   "id": "e4c7c3e4-e31a-4298-a46e-9683e1157008",
   "metadata": {},
   "source": [
    "(c.3)"
   ]
  },
  {
   "cell_type": "markdown",
   "id": "5ad324cb-7647-4977-9f17-e55abf0196a2",
   "metadata": {},
   "source": [
    "##### Getting the coefficients and comparing with the first estimation"
   ]
  },
  {
   "cell_type": "code",
   "execution_count": 65,
   "id": "c7df18f3-bd04-4277-a517-779162c9c23f",
   "metadata": {},
   "outputs": [
    {
     "name": "stdout",
     "output_type": "stream",
     "text": [
      "Partitioned\n",
      "0.08216\n",
      "Previous\n",
      "0.08216\n"
     ]
    }
   ],
   "source": [
    "beta_partitioned = np.linalg.inv(np.transpose(e_2) @ e_2) @ np.transpose(e_2) @ e_1\n",
    "print(\"Partitioned\")\n",
    "print(f\"{beta_partitioned[0][0]:0.5f}\")\n",
    "print(\"Previous\")\n",
    "print(f\"{beta[2,0]:0.5f}\")"
   ]
  },
  {
   "cell_type": "markdown",
   "id": "59cf3627-b1d5-4c59-b68e-4eb04b47013c",
   "metadata": {},
   "source": [
    "##### Annihilator matrix for the $e_2$"
   ]
  },
  {
   "cell_type": "code",
   "execution_count": 66,
   "id": "c9660111-9129-4af3-9439-8b9876bf6d4a",
   "metadata": {},
   "outputs": [],
   "source": [
    "M_e2 = np.eye(n) - e_2 @ np.linalg.inv(np.transpose(e_2) @ e_2) @ np.transpose(e_2)\n",
    "e_partitioned = M_e2 @ e_1"
   ]
  },
  {
   "cell_type": "markdown",
   "id": "c8b02504-cd89-4597-9245-5c31386fd9c3",
   "metadata": {},
   "source": [
    "##### Comparing residuals"
   ]
  },
  {
   "cell_type": "markdown",
   "id": "8f0d46d3-d652-436e-b6e7-c658e0399ebb",
   "metadata": {},
   "source": [
    "Both errors are the same"
   ]
  },
  {
   "cell_type": "code",
   "execution_count": 67,
   "id": "08ca5c74-564c-41e0-abfc-9ed3ca6ef6ef",
   "metadata": {},
   "outputs": [
    {
     "data": {
      "text/plain": [
       "<Axes: >"
      ]
     },
     "execution_count": 67,
     "metadata": {},
     "output_type": "execute_result"
    },
    {
     "data": {
      "image/png": "[encoded data removed]",
      "text/plain": [
       "<Figure size 640x480 with 1 Axes>"
      ]
     },
     "metadata": {},
     "output_type": "display_data"
    }
   ],
   "source": [
    "sns.scatterplot(x = e_partitioned[:,0], y = e[:,0])"
   ]
  },
  {
   "cell_type": "markdown",
   "id": "9fbe1983-bb8a-48ef-8f3f-1a45c982bf18",
   "metadata": {},
   "source": [
    "##### Getting the standard errors"
   ]
  },
  {
   "cell_type": "code",
   "execution_count": 68,
   "id": "0f7cfde8-ebe0-4cbe-bdcd-5f7065aa6d64",
   "metadata": {},
   "outputs": [],
   "source": [
    "sigma2_ep = e_partitioned.T @ e_partitioned / (n - k_2)"
   ]
  },
  {
   "cell_type": "markdown",
   "id": "f08ce9e0-7afb-4e8c-a546-04bba2ff89e9",
   "metadata": {},
   "source": [
    "Variance of the error"
   ]
  },
  {
   "cell_type": "code",
   "execution_count": 69,
   "id": "3675d2f9-d398-48ca-9d05-dacca1e293e6",
   "metadata": {},
   "outputs": [
    {
     "data": {
      "text/plain": [
       "2.737"
      ]
     },
     "execution_count": 69,
     "metadata": {},
     "output_type": "execute_result"
    }
   ],
   "source": [
    "sigma2_ep[0][0]"
   ]
  },
  {
   "cell_type": "markdown",
   "id": "900eca90-7279-48b0-a971-5c5e047111e0",
   "metadata": {},
   "source": [
    "Variance of $\\hat \\beta_p$"
   ]
  },
  {
   "cell_type": "code",
   "execution_count": 70,
   "id": "fb57c86b-77eb-43e8-b4e3-3a63b6b04741",
   "metadata": {},
   "outputs": [
    {
     "name": "stdout",
     "output_type": "stream",
     "text": [
      "[[0.001]]\n"
     ]
    }
   ],
   "source": [
    "var_bp = np.linalg.inv(e_2.T @ e_2) * sigma2_ep\n",
    "print(var_bp)"
   ]
  },
  {
   "cell_type": "markdown",
   "id": "aa1b001e-4319-4f20-ba45-9ecb25839ac5",
   "metadata": {},
   "source": [
    "Standard deviation for the estimated $\\hat \\beta_p$ and comparison with previous result"
   ]
  },
  {
   "cell_type": "code",
   "execution_count": 71,
   "id": "f83e5d58-e7d5-49a0-b131-e7a8e3ff701c",
   "metadata": {},
   "outputs": [
    {
     "name": "stdout",
     "output_type": "stream",
     "text": [
      "beta - Partitioned\n",
      "0.08216\n",
      "beta - Previous\n",
      "0.08216\n",
      "Partitioned SD\n",
      "0.03380\n",
      "Previous SD\n",
      "0.03380\n"
     ]
    }
   ],
   "source": [
    "print(\"beta - Partitioned\")\n",
    "print(f\"{beta_partitioned[0][0]:0.5f}\")\n",
    "print(\"beta - Previous\")\n",
    "print(f\"{beta[2,0]:0.5f}\")\n",
    "\n",
    "print(\"Partitioned SD\")\n",
    "print(f\"{var_bp[0,0]**0.5:0.5f}\")\n",
    "print(\"Previous SD\")\n",
    "print(f\"{var_b[2,2]**0.5:0.5f}\")"
   ]
  },
  {
   "cell_type": "markdown",
   "id": "a6804ffb-609b-4c55-9464-080df7836bd3",
   "metadata": {},
   "source": [
    "##### Compare them to the previous coefficient and its standard errors on anychildren in the long regression from the glm output. Are they different from each other?"
   ]
  },
  {
   "cell_type": "markdown",
   "id": "4104893d-a98b-4d6b-8351-c852691fa859",
   "metadata": {},
   "source": [
    "Both estimates are the same at first glance"
   ]
  },
  {
   "cell_type": "markdown",
   "id": "53876a53-f726-4f25-a6f2-a070db8dbd6c",
   "metadata": {},
   "source": [
    "##### Explanation of the result"
   ]
  },
  {
   "cell_type": "markdown",
   "id": "fa195e02-23d5-4435-b7a7-0a43b9d70e6b",
   "metadata": {},
   "source": [
    "##### Estimated $\\beta$"
   ]
  },
  {
   "cell_type": "markdown",
   "id": "3397df17-f95c-4dc4-961a-1fbd7870216f",
   "metadata": {},
   "source": [
    "In the case of the estimate of $\\beta$, the result is straightforward as:\n",
    "\n",
    "$$Y =  X_1 \\hat \\beta_1 +  X_2 \\hat \\beta_2 + \\hat e$$\n",
    "\n",
    "If we multiply this expression using the annihilator matrix $M_1 = (I - X_1(X_1'X_1)^{-1}X_1')$, it gives the following expression:\n",
    "\n",
    "$$M_1 Y =  M_1 X_1 \\hat \\beta_1 +  M_1 X_2 \\hat \\beta_2 + M_1 \\hat e$$\n",
    "\n",
    "But $M_1 X_1 = 0$ and $M_1 \\hat e = \\hat e$. The last result is because the error is orthogonal to X, and the residuals of the projection of this variable in $X$ are the same:\n",
    "\n",
    "$$M_1 Y =  M_1 X_2 \\hat \\beta_2 + \\hat e$$\n",
    "\n",
    "From this regression, we can easily obtain the value of $\\hat \\beta_2$:\n",
    "\n",
    "$$\\hat \\beta_2 = ((M_1 X_2)' M_1 X_2)^{-1}(M_1 X_2)'Y$$\n",
    "$$\\hat \\beta_2 = (X_2' M_1 X_2)^{-1}(X_2 M_1 Y)$$\n",
    "\n",
    "Each element of this regression is the residual of the regression we run using $X_1$ as independent variables. But it is also the value of the regression in the first equation from Frisch-Waugh-Lowell theorem. "
   ]
  },
  {
   "cell_type": "markdown",
   "id": "c024a08e-f534-4c7f-994f-b7fab18f7498",
   "metadata": {},
   "source": [
    "##### Standard deviation"
   ]
  },
  {
   "cell_type": "markdown",
   "id": "485c42dd-3650-41bb-9115-c03cd9e11f2b",
   "metadata": {},
   "source": [
    "\n",
    "We are going to analyze each term of the variance of the $\\beta$. As we know, the variance of the complete regression is:\n",
    "\n",
    "$$Var(\\hat \\beta) = (X'X)^{-1} \\sigma^2_e$$\n",
    "\n",
    "If we consider the partitioned regression, the first term is:\n",
    "\n",
    "\\begin{align}\n",
    "X =  \n",
    "\\begin{bmatrix}\n",
    "X_1 & X_2\n",
    "\\end{bmatrix}\n",
    "\\end{align}\n",
    "\n",
    "\\begin{align}\n",
    "X'X =  \n",
    "\\begin{bmatrix}\n",
    "X_1'X_1 & X_1'X_2\\\\\n",
    "X_2'X_1 & X_2'X_2 \\\\\n",
    "\\end{bmatrix}\n",
    "\\end{align}\n",
    "\n",
    "\\begin{align}\n",
    "(X'X)^{-1} =  \n",
    "\\begin{bmatrix}\n",
    "(X_1'(I - X_2(X_2'X_2)^{-1}X_2')X_1)^{-1} & - (X_1' X_1) ^{-1}(X_1'X_2)(X_2'(I - X_1(X_1'X_1)^{-1}X_1')X_2)^{-1}\\\\\n",
    "(X_2' X_2)^{-1}(X_2'X_1)(X_1'(I - X_2(X_2'X_2)^{-1}X_2')X_1)^{-1} & (X_2'(I - X_1(X_1'X_1)^{-1}X_1')X_2)^{-1} \\\\\n",
    "\\end{bmatrix}\n",
    "\\end{align}\n",
    "\n",
    "Using the notation of the annihilator matrices:\n",
    "\n",
    "\\begin{align}\n",
    "(X'X)^{-1} =  \n",
    "\\begin{bmatrix}\n",
    "(X_1'M_2 X_1)^{-1} & -(X_1' X_1)^{-1}(X_1'X_2)(X_2'M_1X_2)^{-1}\\\\\n",
    "-(X_2' X_2)^{-1}(X_2'X_1)(X_1'M_2 X_1)^{-1} & (X_2'M_1X_2)^{-1}\\\\\n",
    "\\end{bmatrix}\n",
    "\\end{align}\n",
    "\n",
    "\n",
    "\\begin{align}\n",
    "Var(\\hat \\beta) = (X'X)^{-1} \\sigma^2_e =\n",
    "\\begin{bmatrix}\n",
    "(X_1'M_2 X_1)^{-1} & -(X_1' X_1)^{-1}(X_1'X_2)(X_2'M_1X_2)^{-1}\\\\\n",
    "-(X_2' X_2)^{-1}(X_2'X_1)(X_1'M_2 X_1)^{-1} & (X_2'M_1X_2)^{-1}\\\\\n",
    "\\end{bmatrix}\n",
    "\\sigma^2_e\n",
    "\\end{align}\n",
    "\n",
    "In the case of the partitioned regression, we have that the variance of the estimated value is:\n",
    "\n",
    "$$Var(\\hat \\beta_p) = ((M_1X_2)'(M_1X_2))^{-1} \\sigma^2_e$$\n",
    "$$Var(\\hat \\beta_p) = (X_2'M_1X_2)^{-1} \\sigma^2_e$$\n",
    "\n",
    "If we use the same value for $\\sigma^2_e$ we will have the same value for variance in both estimations.\n"
   ]
  },
  {
   "cell_type": "markdown",
   "id": "7668e25c-e4e0-4b08-860a-17fa3bb7097e",
   "metadata": {
    "editable": true,
    "slideshow": {
     "slide_type": ""
    },
    "tags": []
   },
   "source": [
    "# Appendix"
   ]
  },
  {
   "cell_type": "markdown",
   "id": "3d42a4a9-b7e6-4b20-832f-a5bf413d1696",
   "metadata": {
    "editable": true,
    "slideshow": {
     "slide_type": ""
    },
    "tags": []
   },
   "source": [
    "### Question 1"
   ]
  },
  {
   "cell_type": "markdown",
   "id": "27037fae-e99b-409b-a249-42b0f3fcd323",
   "metadata": {
    "editable": true,
    "slideshow": {
     "slide_type": ""
    },
    "tags": []
   },
   "source": [
    "##### Check the estimated value"
   ]
  },
  {
   "cell_type": "code",
   "execution_count": 72,
   "id": "b8559c0b-cdb3-4631-a8fa-e0d3627bc32a",
   "metadata": {
    "editable": true,
    "slideshow": {
     "slide_type": ""
    },
    "tags": []
   },
   "outputs": [
    {
     "name": "stdout",
     "output_type": "stream",
     "text": [
      "                                 OLS Regression Results                                \n",
      "=======================================================================================\n",
      "Dep. Variable:                      M   R-squared (uncentered):                   0.108\n",
      "Model:                            OLS   Adj. R-squared (uncentered):              0.108\n",
      "Method:                 Least Squares   F-statistic:                          1.213e+06\n",
      "Date:                Thu, 19 Oct 2023   Prob (F-statistic):                        0.00\n",
      "Time:                        00:38:20   Log-Likelihood:                     -2.9293e+07\n",
      "No. Observations:            10000000   AIC:                                  5.859e+07\n",
      "Df Residuals:                 9999999   BIC:                                  5.859e+07\n",
      "Df Model:                           1                                                  \n",
      "Covariance Type:            nonrobust                                                  \n",
      "==============================================================================\n",
      "                 coef    std err          t      P>|t|      [0.025      0.975]\n",
      "------------------------------------------------------------------------------\n",
      "N2             0.0622   5.65e-05   1101.309      0.000       0.062       0.062\n",
      "==============================================================================\n",
      "Omnibus:                   841477.327   Durbin-Watson:                   1.083\n",
      "Prob(Omnibus):                  0.000   Jarque-Bera (JB):          1239005.767\n",
      "Skew:                          -0.673   Prob(JB):                         0.00\n",
      "Kurtosis:                       4.078   Cond. No.                         1.00\n",
      "==============================================================================\n",
      "\n",
      "Notes:\n",
      "[1] R² is computed without centering (uncentered) since the model does not contain a constant.\n",
      "[2] Standard Errors assume that the covariance matrix of the errors is correctly specified.\n"
     ]
    }
   ],
   "source": [
    "mean = [1, 3, 2]\n",
    "\n",
    "cov = [[4, 1, 0], [1, 2, 0], [0, 0, 3]]\n",
    "\n",
    "df = pd.DataFrame(np.random.multivariate_normal(mean, cov, 10000000), columns = ['X', 'Y', 'Z'])\n",
    "\n",
    "df['M'] = df['Z'] -df['X'] + df['Y']\n",
    "df['N'] = -df['Z'] + df['X'] + df['Y']\n",
    "df['N2'] =df['N'] ** 2 \n",
    "\n",
    "import statsmodels.api as sm\n",
    "\n",
    "mod_sq = sm.OLS(df.M, df[['N2']], hasconst=False)\n",
    "\n",
    "res_sq = mod_sq.fit()\n",
    "\n",
    "print(res_sq.summary())"
   ]
  },
  {
   "cell_type": "markdown",
   "id": "690a5c96-8ae2-4722-bd4d-d8064789369b",
   "metadata": {
    "editable": true,
    "slideshow": {
     "slide_type": ""
    },
    "tags": []
   },
   "source": [
    "##### Check when including the constant"
   ]
  },
  {
   "cell_type": "code",
   "execution_count": 73,
   "id": "e7993ccb-52bf-4f0b-86e3-82c572c2882b",
   "metadata": {
    "editable": true,
    "slideshow": {
     "slide_type": ""
    },
    "tags": []
   },
   "outputs": [
    {
     "name": "stdout",
     "output_type": "stream",
     "text": [
      "                            OLS Regression Results                            \n",
      "==============================================================================\n",
      "Dep. Variable:                      M   R-squared:                       0.137\n",
      "Model:                            OLS   Adj. R-squared:                  0.137\n",
      "Method:                 Least Squares   F-statistic:                 1.584e+06\n",
      "Date:                Thu, 19 Oct 2023   Prob (F-statistic):               0.00\n",
      "Time:                        00:38:24   Log-Likelihood:            -2.3189e+07\n",
      "No. Observations:            10000000   AIC:                         4.638e+07\n",
      "Df Residuals:                 9999998   BIC:                         4.638e+07\n",
      "Df Model:                           1                                         \n",
      "Covariance Type:            nonrobust                                         \n",
      "==============================================================================\n",
      "                 coef    std err          t      P>|t|      [0.025      0.975]\n",
      "------------------------------------------------------------------------------\n",
      "N2            -0.0478    3.8e-05  -1258.431      0.000      -0.048      -0.048\n",
      "constant       4.7185      0.001   4892.254      0.000       4.717       4.720\n",
      "==============================================================================\n",
      "Omnibus:                   137446.162   Durbin-Watson:                   2.000\n",
      "Prob(Omnibus):                  0.000   Jarque-Bera (JB):           157879.422\n",
      "Skew:                           0.241   Prob(JB):                         0.00\n",
      "Kurtosis:                       3.384   Cond. No.                         31.5\n",
      "==============================================================================\n",
      "\n",
      "Notes:\n",
      "[1] Standard Errors assume that the covariance matrix of the errors is correctly specified.\n"
     ]
    }
   ],
   "source": [
    "mean = [1, 3, 2]\n",
    "\n",
    "cov = [[4, 1, 0], [1, 2, 0], [0, 0, 3]]\n",
    "\n",
    "df = pd.DataFrame(np.random.multivariate_normal(mean, cov, 10000000), columns = ['X', 'Y', 'Z'])\n",
    "\n",
    "df['M'] = df['Z'] -df['X'] + df['Y']\n",
    "df['N'] = -df['Z'] + df['X'] + df['Y']\n",
    "df['N2'] =df['N'] ** 2 \n",
    "df['constant'] = 1\n",
    "import statsmodels.api as sm\n",
    "\n",
    "mod_sq = sm.OLS(df.M, df[['N2', 'constant']], hasconst=True)\n",
    "\n",
    "res_sq = mod_sq.fit()\n",
    "\n",
    "print(res_sq.summary())"
   ]
  }
 ],
 "metadata": {
  "kernelspec": {
   "display_name": "Python 3 (ipykernel)",
   "language": "python",
   "name": "python3"
  },
  "language_info": {
   "codemirror_mode": {
    "name": "ipython",
    "version": 3
   },
   "file_extension": ".py",
   "mimetype": "text/x-python",
   "name": "python",
   "nbconvert_exporter": "python",
   "pygments_lexer": "ipython3",
   "version": "3.11.6"
  }
 },
 "nbformat": 4,
 "nbformat_minor": 5
}
