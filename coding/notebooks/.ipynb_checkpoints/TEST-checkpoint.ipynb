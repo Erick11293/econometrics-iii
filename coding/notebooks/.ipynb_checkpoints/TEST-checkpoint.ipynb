{
 "cells": [
  {
   "cell_type": "code",
   "execution_count": 1,
   "id": "f8b6cea1-f2e0-49e6-a505-465395478a96",
   "metadata": {},
   "outputs": [],
   "source": [
    "import numpy as np"
   ]
  },
  {
   "cell_type": "code",
   "execution_count": 2,
   "id": "2b554593-34b6-41de-9ebb-5dcb8a8321f4",
   "metadata": {},
   "outputs": [],
   "source": [
    "import pandas as pd"
   ]
  },
  {
   "cell_type": "code",
   "execution_count": 3,
   "id": "1404ee3e-b792-431a-8971-a7d073ad679d",
   "metadata": {},
   "outputs": [],
   "source": [
    "from statsmodels.api import OLS"
   ]
  },
  {
   "cell_type": "code",
   "execution_count": 4,
   "id": "310214fb-8572-4b45-b5d1-93ec9c08097b",
   "metadata": {},
   "outputs": [],
   "source": [
    "var_v = 10\n",
    "var_u = 1"
   ]
  },
  {
   "cell_type": "code",
   "execution_count": 5,
   "id": "9593f28a-a1cc-4df0-a61a-d690ddfc8b13",
   "metadata": {},
   "outputs": [],
   "source": [
    "beta = 1\n",
    "alpha = 2"
   ]
  },
  {
   "cell_type": "code",
   "execution_count": 6,
   "id": "ec267c9b-03fb-4a48-9095-b0dccc123ec2",
   "metadata": {},
   "outputs": [],
   "source": [
    "N = 10"
   ]
  },
  {
   "cell_type": "code",
   "execution_count": 7,
   "id": "f5a7e563-e472-4eb0-bf46-c9bfbb64e481",
   "metadata": {},
   "outputs": [],
   "source": [
    "def get_estimation(beta, alpha, var_v, var_u, N):\n",
    "    error1 = np.random.normal(0,var_v,N)\n",
    "    error0 = np.random.normal(0,var_v,N)\n",
    "    u = np.random.normal(0,var_u,N)\n",
    "    \n",
    "    \n",
    "    y0 = error0 + alpha + u\n",
    "    y1 = error1 + alpha + beta + u\n",
    "    \n",
    "    data = pd.concat([pd.Series(y0), pd.Series(y1)], axis = 1)\n",
    "    \n",
    "    data = data.stack().rename(\"y\")\n",
    "    \n",
    "    data.index.names = ['i', 't']\n",
    "    \n",
    "    data = data.reset_index()\n",
    "    data['groups'] = data['i']\n",
    "    \n",
    "    r1 = OLS.from_formula(\"y ~ t\", data = data).fit(cov_type=\"cluster\", cov_kwds={'groups': data['i']})\n",
    "    \n",
    "    r2 = OLS.from_formula(\"y ~ t + C(i)\", data = data).fit()\n",
    "\n",
    "    return (r1.params['t'], r2.params['t'], )"
   ]
  },
  {
   "cell_type": "code",
   "execution_count": 8,
   "id": "8cf1e148-3005-4b55-a881-09d79634ffb6",
   "metadata": {},
   "outputs": [],
   "source": [
    "data = map(lambda y: get_estimation(beta, alpha, var_v, var_u, N), range(0,100))"
   ]
  },
  {
   "cell_type": "code",
   "execution_count": 9,
   "id": "227ccd38-9c0b-46d0-8508-207dace9f076",
   "metadata": {},
   "outputs": [],
   "source": [
    "df = pd.DataFrame(data)"
   ]
  },
  {
   "cell_type": "code",
   "execution_count": 10,
   "id": "cdf3edd5-1441-4a75-a659-4eb33b6f1d3c",
   "metadata": {},
   "outputs": [],
   "source": [
    "import seaborn as sns"
   ]
  },
  {
   "cell_type": "code",
   "execution_count": 11,
   "id": "398b3c94-a23d-44db-8746-338e1b79c137",
   "metadata": {},
   "outputs": [
    {
     "data": {
      "text/plain": [
       "<seaborn.axisgrid.PairGrid at 0x7f56010d1750>"
      ]
     },
     "execution_count": 11,
     "metadata": {},
     "output_type": "execute_result"
    },
    {
     "data": {
      "image/png": "[encoded data removed]",
      "text/plain": [
       "<Figure size 500x500 with 6 Axes>"
      ]
     },
     "metadata": {},
     "output_type": "display_data"
    }
   ],
   "source": [
    "sns.pairplot(df)"
   ]
  },
  {
   "cell_type": "code",
   "execution_count": 12,
   "id": "89c97bcf-c076-46bb-84fa-0569fd7f9b30",
   "metadata": {},
   "outputs": [
    {
     "data": {
      "text/html": [
       "<div>\n",
       "<style scoped>\n",
       "    .dataframe tbody tr th:only-of-type {\n",
       "        vertical-align: middle;\n",
       "    }\n",
       "\n",
       "    .dataframe tbody tr th {\n",
       "        vertical-align: top;\n",
       "    }\n",
       "\n",
       "    .dataframe thead th {\n",
       "        text-align: right;\n",
       "    }\n",
       "</style>\n",
       "<table border=\"1\" class=\"dataframe\">\n",
       "  <thead>\n",
       "    <tr style=\"text-align: right;\">\n",
       "      <th></th>\n",
       "      <th>0</th>\n",
       "      <th>1</th>\n",
       "    </tr>\n",
       "  </thead>\n",
       "  <tbody>\n",
       "    <tr>\n",
       "      <th>0</th>\n",
       "      <td>1.0</td>\n",
       "      <td>1.0</td>\n",
       "    </tr>\n",
       "    <tr>\n",
       "      <th>1</th>\n",
       "      <td>1.0</td>\n",
       "      <td>1.0</td>\n",
       "    </tr>\n",
       "  </tbody>\n",
       "</table>\n",
       "</div>"
      ],
      "text/plain": [
       "     0    1\n",
       "0  1.0  1.0\n",
       "1  1.0  1.0"
      ]
     },
     "execution_count": 12,
     "metadata": {},
     "output_type": "execute_result"
    }
   ],
   "source": [
    "df.corr()"
   ]
  },
  {
   "cell_type": "code",
   "execution_count": null,
   "id": "9c6f6b72-6fa0-45c5-bdeb-f2e4a91de578",
   "metadata": {},
   "outputs": [],
   "source": [
    "print(r1.summary())"
   ]
  },
  {
   "cell_type": "code",
   "execution_count": null,
   "id": "97387090-8769-4cf4-b071-edaca4a3c3c8",
   "metadata": {},
   "outputs": [],
   "source": []
  },
  {
   "cell_type": "code",
   "execution_count": null,
   "id": "eb5ffd68-bd4c-40ab-950d-4f1a07a77701",
   "metadata": {},
   "outputs": [],
   "source": []
  }
 ],
 "metadata": {
  "kernelspec": {
   "display_name": "Python 3 (ipykernel)",
   "language": "python",
   "name": "python3"
  },
  "language_info": {
   "codemirror_mode": {
    "name": "ipython",
    "version": 3
   },
   "file_extension": ".py",
   "mimetype": "text/x-python",
   "name": "python",
   "nbconvert_exporter": "python",
   "pygments_lexer": "ipython3",
   "version": "3.11.6"
  }
 },
 "nbformat": 4,
 "nbformat_minor": 5
}
