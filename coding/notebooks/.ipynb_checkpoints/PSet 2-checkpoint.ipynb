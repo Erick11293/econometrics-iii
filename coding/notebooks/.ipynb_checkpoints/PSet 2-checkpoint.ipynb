{
 "cells": [
  {
   "cell_type": "markdown",
   "id": "9022e6f9-a234-4d1a-8d02-8eeeda5e4136",
   "metadata": {},
   "source": [
    "### Problem Set 2"
   ]
  },
  {
   "cell_type": "markdown",
   "id": "6ec25b7e-a261-4034-9942-08c5fbde0a75",
   "metadata": {},
   "source": [
    "Erick Ore Matos"
   ]
  },
  {
   "cell_type": "code",
   "execution_count": 3,
   "id": "f84f9f5b-65a6-4776-83fc-1a39cef9a58e",
   "metadata": {},
   "outputs": [],
   "source": [
    "import pandas as pd\n",
    "import numpy as np\n",
    "import seaborn as sns\n",
    "import matplotlib.pyplot as plt"
   ]
  },
  {
   "cell_type": "code",
   "execution_count": 4,
   "id": "6f43d4c9-07e3-481d-88bc-b307299e6533",
   "metadata": {},
   "outputs": [],
   "source": [
    "from numpy.linalg import inv"
   ]
  },
  {
   "cell_type": "code",
   "execution_count": 5,
   "id": "80778823-de38-4ea4-bceb-45fcc52303f0",
   "metadata": {},
   "outputs": [],
   "source": [
    "df = pd.read_csv(\"../data/nls.csv\")"
   ]
  },
  {
   "cell_type": "code",
   "execution_count": 6,
   "id": "bd4c0687-50d3-42cf-a935-aa13378caf70",
   "metadata": {},
   "outputs": [],
   "source": [
    "df['const'] = 1"
   ]
  },
  {
   "cell_type": "code",
   "execution_count": 7,
   "id": "26184061-f232-469e-b381-228095c3c180",
   "metadata": {},
   "outputs": [],
   "source": [
    "def get_regression(df, endog, exog):\n",
    "    \n",
    "    Y = df[endog].to_numpy()\n",
    "    \n",
    "    X = df[exog].to_numpy()\n",
    "    \n",
    "    n, k = X.shape\n",
    "\n",
    "    b = inv(X.transpose() @ X) @ (X.transpose() @ Y)\n",
    "\n",
    "    return dict(zip(exog, b))"
   ]
  },
  {
   "cell_type": "markdown",
   "id": "be4feb45-2602-42ad-9f1a-822f7fb0c343",
   "metadata": {},
   "source": [
    "##### (a)"
   ]
  },
  {
   "cell_type": "code",
   "execution_count": 8,
   "id": "a68d3c2d-0291-4715-9621-c73a98b2d0f1",
   "metadata": {},
   "outputs": [],
   "source": [
    "b_omit = get_regression(df, ['luwe'], ['exper', 'const'])\n",
    "b = get_regression(df, ['luwe'], ['exper', 'educ', 'const'])\n"
   ]
  },
  {
   "cell_type": "markdown",
   "id": "3af774f5-4694-41fc-b166-fbf167a38684",
   "metadata": {},
   "source": [
    "We estimated the following model:\n",
    "\n",
    "$$luwe = \\alpha + \\beta \\times exper + \\rho \\times educ + \\epsilon$$\n",
    "\n",
    "In which $E(\\epsilon|exper, educ) \\ne 0$\n",
    "\n",
    "The estimated omitted variable model is:\n",
    "\n",
    "$$luwe = \\alpha + \\beta_o \\times exper + \\tilde \\epsilon$$\n",
    "\n",
    "In this second specification $E(\\tilde \\epsilon|exper) \\ne 0$\n",
    "\n",
    "The difference between these two estimations is explained by the omitted variable formula:\n",
    "\n",
    "$$\\hat \\beta_o \\to \\beta + \\rho \\frac{Cov(exper, educ)}{Var(exper)}$$"
   ]
  },
  {
   "cell_type": "markdown",
   "id": "388ba65d-f335-4b8e-86af-4ee45d2a2b6c",
   "metadata": {},
   "source": [
    "We obtained the three terms required to get the bias:"
   ]
  },
  {
   "cell_type": "markdown",
   "id": "e5ee50e3-b2ad-4ef2-abc0-5c24eda9b57f",
   "metadata": {},
   "source": [
    "##### Var(exp)"
   ]
  },
  {
   "cell_type": "code",
   "execution_count": 9,
   "id": "e0a9e709-03bd-43d6-a69a-53cef8adab3a",
   "metadata": {},
   "outputs": [
    {
     "data": {
      "text/plain": [
       "14.667985134182105"
      ]
     },
     "execution_count": 9,
     "metadata": {},
     "output_type": "execute_result"
    }
   ],
   "source": [
    "var = df[['exper', 'educ']].cov()['exper']['exper']\n",
    "var"
   ]
  },
  {
   "cell_type": "markdown",
   "id": "5010d059-af60-4b8e-aa69-a4936aa8588c",
   "metadata": {},
   "source": [
    "##### Cov(exp, educ)"
   ]
  },
  {
   "cell_type": "code",
   "execution_count": 10,
   "id": "aa45dc7c-3113-46b1-b156-d7b14422c449",
   "metadata": {},
   "outputs": [
    {
     "data": {
      "text/plain": [
       "-4.933275490887497"
      ]
     },
     "execution_count": 10,
     "metadata": {},
     "output_type": "execute_result"
    }
   ],
   "source": [
    "cov = df[['exper', 'educ']].cov()['exper']['educ']\n",
    "cov"
   ]
  },
  {
   "cell_type": "markdown",
   "id": "81571a9e-86b1-4380-8417-5438d5610b48",
   "metadata": {},
   "source": [
    "##### \\rho"
   ]
  },
  {
   "cell_type": "code",
   "execution_count": 11,
   "id": "3e6d5a1e-15a1-48f5-998c-963f42703393",
   "metadata": {},
   "outputs": [
    {
     "data": {
      "text/plain": [
       "array([0.09111207])"
      ]
     },
     "execution_count": 11,
     "metadata": {},
     "output_type": "execute_result"
    }
   ],
   "source": [
    "rho = b['educ']\n",
    "rho"
   ]
  },
  {
   "cell_type": "code",
   "execution_count": 12,
   "id": "b2cbc51f-c768-4aa2-b351-4871b78d286b",
   "metadata": {},
   "outputs": [
    {
     "data": {
      "text/plain": [
       "array([-0.03064367])"
      ]
     },
     "execution_count": 12,
     "metadata": {},
     "output_type": "execute_result"
    }
   ],
   "source": [
    "bias = cov*rho/var\n",
    "bias"
   ]
  },
  {
   "cell_type": "markdown",
   "id": "c47d61ee-f42b-404c-b3cb-2a63570b01b0",
   "metadata": {},
   "source": [
    "Three components explain the difference between $\\hat \\beta_o$ and the true parameter:\n",
    "\n"
   ]
  },
  {
   "cell_type": "code",
   "execution_count": 13,
   "id": "efbdf17f-9d96-4295-a464-a562c1462a4d",
   "metadata": {},
   "outputs": [
    {
     "data": {
      "text/plain": [
       "array([-0.03064367])"
      ]
     },
     "execution_count": 13,
     "metadata": {},
     "output_type": "execute_result"
    }
   ],
   "source": [
    "dif = b_omit['exper'] - b['exper']\n",
    "dif"
   ]
  },
  {
   "cell_type": "markdown",
   "id": "064cd593-8346-4649-b60e-37a753f4298f",
   "metadata": {},
   "source": [
    "##### (b)"
   ]
  },
  {
   "cell_type": "code",
   "execution_count": 14,
   "id": "556fedcf-2628-4568-a572-9c33666e0694",
   "metadata": {},
   "outputs": [],
   "source": [
    "Y = df[['luwe']].to_numpy()"
   ]
  },
  {
   "cell_type": "code",
   "execution_count": 15,
   "id": "2017ca21-39e7-4c55-b8b7-26f8f493a55b",
   "metadata": {},
   "outputs": [],
   "source": [
    "X = df[['educ', 'exper', 'const']].to_numpy()"
   ]
  },
  {
   "cell_type": "code",
   "execution_count": 16,
   "id": "ebbcd570-1c81-4980-a36e-77a28d592d27",
   "metadata": {},
   "outputs": [],
   "source": [
    "n, k = X.shape"
   ]
  },
  {
   "cell_type": "markdown",
   "id": "b55fdde7-92f1-4eb3-933f-0a1e2cecb111",
   "metadata": {},
   "source": [
    "##### Matrix version"
   ]
  },
  {
   "cell_type": "markdown",
   "id": "53581f0b-3a37-4ffe-8f5a-401199fe48c7",
   "metadata": {},
   "source": [
    "The model we try to estimate is:\n",
    "\n",
    "$$y_i = x_i'\\beta + \\epsilon_i $$\n",
    "\n",
    "We can group the values $y_i$ in the matriox $Y$, and the vectors $x_i'$ in the matrix $X$.\n",
    "\n",
    "We obtain the OLS estimates from $$\\hat \\beta = (X'X)^{-1} (X'Y)$$"
   ]
  },
  {
   "cell_type": "code",
   "execution_count": 17,
   "id": "34afe830-e297-4561-a8da-1cfa6704defb",
   "metadata": {},
   "outputs": [],
   "source": [
    "b = inv(X.transpose() @ X) @ (X.transpose() @ Y)"
   ]
  },
  {
   "cell_type": "code",
   "execution_count": 18,
   "id": "63ec1cab-6180-40ab-bdf0-4a40197e3ea5",
   "metadata": {},
   "outputs": [
    {
     "name": "stdout",
     "output_type": "stream",
     "text": [
      "Coef educ:[0.09111207] \n",
      "Coef exper:[0.02352861] \n",
      "Coef const:[4.39731821] \n"
     ]
    }
   ],
   "source": [
    "print(f\"Coef educ:{b[0]} \")\n",
    "print(f\"Coef exper:{b[1]} \")\n",
    "print(f\"Coef const:{b[2]} \")"
   ]
  },
  {
   "cell_type": "markdown",
   "id": "cb05bcfd-baa4-424d-90c3-46df76ede7d0",
   "metadata": {},
   "source": [
    "We can define the annihilator matrix to obtain the errors:\n",
    "$$M_X = I - X(X'X)^{-1}X'$$\n"
   ]
  },
  {
   "cell_type": "code",
   "execution_count": 19,
   "id": "8d44bfeb-db0e-461f-8ee4-151d1215d24e",
   "metadata": {},
   "outputs": [],
   "source": [
    "M_X = (np.eye(n) - X @inv(X.transpose() @ X) @ X.transpose())"
   ]
  },
  {
   "cell_type": "code",
   "execution_count": 20,
   "id": "19659064-17f6-45be-bec4-6a0500a666af",
   "metadata": {},
   "outputs": [],
   "source": [
    "e = M_X @ Y"
   ]
  },
  {
   "cell_type": "markdown",
   "id": "5c5ec3ce-95b4-40d7-908a-9361e436256f",
   "metadata": {},
   "source": [
    "Under homokedasticity, we can estimate the variance of $\\epsilon$ using:\n",
    "\n",
    "$$\\hat Var(\\epsilon) = e'e/n$$\n",
    "\n",
    "We are using the biased version, but asymptotically doesn't matter."
   ]
  },
  {
   "cell_type": "code",
   "execution_count": 21,
   "id": "62f84c62-3cd9-43d5-9d34-18dbbc2d42ac",
   "metadata": {},
   "outputs": [],
   "source": [
    "var_e = e.transpose() @ e / n"
   ]
  },
  {
   "cell_type": "markdown",
   "id": "baa0050d-8906-4782-8864-e3b477cc1440",
   "metadata": {},
   "source": [
    "The variance of the estimator $\\hat \\beta$ will be obtained from:\n",
    "\n",
    "$$\\hat Var(\\hat \\beta) = \\hat \\sigma^2_{\\epsilon} (X'X)^{-1}$$"
   ]
  },
  {
   "cell_type": "markdown",
   "id": "45cf53eb-7a33-46d4-8ac7-20168ab69fe2",
   "metadata": {},
   "source": [
    "We will use the definition of the problems, we get:\n",
    "\n",
    "$$\\hat H = (1/n)(\\sum x_i x_i') = (1/n)X'X$$"
   ]
  },
  {
   "cell_type": "code",
   "execution_count": 22,
   "id": "f43dfcd2-d59f-4202-9777-b5c124f6465d",
   "metadata": {},
   "outputs": [],
   "source": [
    "H = (1/n) * X.transpose() @ X"
   ]
  },
  {
   "cell_type": "markdown",
   "id": "8b41985f-897e-4075-9864-d66860fe092b",
   "metadata": {},
   "source": [
    "Using this definition\n",
    "\n",
    "$$Var(\\hat \\beta) = (1/n) \\times H^{-1} \\sigma^2$$"
   ]
  },
  {
   "cell_type": "code",
   "execution_count": 24,
   "id": "d4c3de8d-e350-4848-93f8-81dc8998bee4",
   "metadata": {},
   "outputs": [],
   "source": [
    "var_beta = (1/n) * inv(H) * var_e"
   ]
  },
  {
   "cell_type": "code",
   "execution_count": 25,
   "id": "0cb32acb-7c29-46ae-97f7-684c26a937cc",
   "metadata": {},
   "outputs": [
    {
     "name": "stdout",
     "output_type": "stream",
     "text": [
      "Var Coef educ:5.722686640515582e-05 \n",
      "Var Coef exper:1.8883294753342663e-05 \n",
      "Var Coef const:0.02113999536931594 \n"
     ]
    }
   ],
   "source": [
    "print(f\"Var Coef educ:{var_beta[0,0]} \")\n",
    "print(f\"Var Coef exper:{var_beta[1,1]} \")\n",
    "print(f\"Var Coef const:{var_beta[2,2]} \")"
   ]
  },
  {
   "cell_type": "code",
   "execution_count": 26,
   "id": "d97ef929-1914-42f3-bada-2d16bae69a78",
   "metadata": {},
   "outputs": [
    {
     "name": "stdout",
     "output_type": "stream",
     "text": [
      "SE Coef educ:0.0075648441097722445 \n",
      "SE Coef exper:0.004345491313228305 \n",
      "SE Coef const:0.14539599502502104 \n"
     ]
    }
   ],
   "source": [
    "print(f\"SE Coef educ:{var_beta[0,0]**0.5} \")\n",
    "print(f\"SE Coef exper:{var_beta[1,1]**0.5} \")\n",
    "print(f\"SE Coef const:{var_beta[2,2]**0.5} \")"
   ]
  },
  {
   "cell_type": "markdown",
   "id": "31841935-af82-433c-a08a-0856843b8155",
   "metadata": {},
   "source": [
    "##### (c)"
   ]
  },
  {
   "cell_type": "code",
   "execution_count": 27,
   "id": "f3a02ad9-3dc5-4d4f-b185-686960d5c366",
   "metadata": {},
   "outputs": [
    {
     "data": {
      "text/plain": [
       "array([[ 5.72268664e-05,  1.92470810e-05, -1.03322041e-03],\n",
       "       [ 1.92470810e-05,  1.88832948e-05, -5.16579469e-04],\n",
       "       [-1.03322041e-03, -5.16579469e-04,  2.11399954e-02]])"
      ]
     },
     "execution_count": 27,
     "metadata": {},
     "output_type": "execute_result"
    }
   ],
   "source": [
    "var_beta"
   ]
  },
  {
   "cell_type": "markdown",
   "id": "d7631159-895f-4001-b664-8664390e3e45",
   "metadata": {},
   "source": [
    "##### The robust version of the variance is:\n",
    "\n",
    "$$Var(\\hat \\beta) = (X'X)^{-1} (\\sum_i X_i X_i' \\hat e_i^2)  (X'X)^{-1}$$\n",
    "$$\\hat{Var(\\hat \\beta)} = (1/n)\\hat H^{-1} \\hat J \\hat H^{-1}$$\n",
    "$$\\hat H = (1/n)(\\sum x_i x_i') = (1/n)X'X$$\n",
    "$$\\hat J = (1/n)(\\sum \\hat e_i^2x_i x_i') = (1/n)X'diag(\\hat e \\hat e')X$$"
   ]
  },
  {
   "cell_type": "code",
   "execution_count": 28,
   "id": "116db95c-7922-4ce7-a456-72050dffbfb3",
   "metadata": {},
   "outputs": [],
   "source": [
    "J = (1/n) * np.transpose(X) @ (np.diag(e @ np.transpose(e) ) * np.eye(n)) @ X"
   ]
  },
  {
   "cell_type": "code",
   "execution_count": 30,
   "id": "ee8d3a5c-f8d6-462f-b45a-58dec326f53b",
   "metadata": {},
   "outputs": [],
   "source": [
    "var_b_robust_ = (inv(np.transpose(X) @ X)\n",
    "                @ np.transpose(X) @ (np.diag(e @ np.transpose(e) ) * np.eye(n)) @ X\n",
    "                @ inv(np.transpose(X) @ X))"
   ]
  },
  {
   "cell_type": "code",
   "execution_count": 31,
   "id": "a2b1e251-b285-4298-9b51-eb1a9a5c4aab",
   "metadata": {},
   "outputs": [],
   "source": [
    "var_b_robust = (1/n) * (inv(H)\n",
    "                @ J\n",
    "                @ inv(H))"
   ]
  },
  {
   "cell_type": "code",
   "execution_count": 33,
   "id": "3946d1c7-2ef1-448f-aaea-70bc831d0e32",
   "metadata": {},
   "outputs": [
    {
     "name": "stdout",
     "output_type": "stream",
     "text": [
      "Robust Var Coef educ:5.9373757475233656e-05 \n",
      "Robust Var Coef exper:1.9104888911235196e-05 \n",
      "Robust Var Coef const:0.02181470473918859 \n"
     ]
    }
   ],
   "source": [
    "print(f\"Robust Var Coef educ:{var_b_robust[0,0]} \")\n",
    "print(f\"Robust Var Coef exper:{var_b_robust[1,1]} \")\n",
    "print(f\"Robust Var Coef const:{var_b_robust[2,2]} \")"
   ]
  },
  {
   "cell_type": "code",
   "execution_count": 34,
   "id": "6e78223c-0a25-49d9-8407-e512ea61f587",
   "metadata": {},
   "outputs": [
    {
     "name": "stdout",
     "output_type": "stream",
     "text": [
      "Robust SE Coef educ:0.007705436877636054 \n",
      "Robust SE Coef exper:0.004370913967494121 \n",
      "Robust SE Coef const:0.14769801873819632 \n"
     ]
    }
   ],
   "source": [
    "print(f\"Robust SE Coef educ:{var_b_robust[0,0]**0.5} \")\n",
    "print(f\"Robust SE Coef exper:{var_b_robust[1,1]**0.5} \")\n",
    "print(f\"Robust SE Coef const:{var_b_robust[2,2]**0.5} \")"
   ]
  },
  {
   "cell_type": "markdown",
   "id": "64518df9-410a-4864-972e-60970f1c94f0",
   "metadata": {},
   "source": [
    "##### Checking results"
   ]
  },
  {
   "cell_type": "code",
   "execution_count": 33,
   "id": "308460a5-8a0d-4acf-a216-96f45405a2fb",
   "metadata": {},
   "outputs": [],
   "source": [
    "from statsmodels.api import OLS"
   ]
  },
  {
   "cell_type": "code",
   "execution_count": 40,
   "id": "919e4156-7cbd-4aea-9fe6-431cc021e11b",
   "metadata": {},
   "outputs": [],
   "source": [
    "results = OLS(Y, X, hasconst=True).fit()"
   ]
  },
  {
   "cell_type": "code",
   "execution_count": 41,
   "id": "ede43e4b-d88a-4a4f-ab00-bfeab9006a84",
   "metadata": {},
   "outputs": [
    {
     "name": "stdout",
     "output_type": "stream",
     "text": [
      "                            OLS Regression Results                            \n",
      "==============================================================================\n",
      "Dep. Variable:                      y   R-squared:                       0.138\n",
      "Model:                            OLS   Adj. R-squared:                  0.136\n",
      "Method:                 Least Squares   F-statistic:                     74.33\n",
      "Date:                Sun, 14 Jan 2024   Prob (F-statistic):           1.15e-30\n",
      "Time:                        01:45:01   Log-Likelihood:                -492.17\n",
      "No. Observations:                 929   AIC:                             990.3\n",
      "Df Residuals:                     926   BIC:                             1005.\n",
      "Df Model:                           2                                         \n",
      "Covariance Type:            nonrobust                                         \n",
      "==============================================================================\n",
      "                 coef    std err          t      P>|t|      [0.025      0.975]\n",
      "------------------------------------------------------------------------------\n",
      "x1             0.0911      0.008     12.025      0.000       0.076       0.106\n",
      "x2             0.0235      0.004      5.406      0.000       0.015       0.032\n",
      "const          4.3973      0.146     30.195      0.000       4.112       4.683\n",
      "==============================================================================\n",
      "Omnibus:                       25.452   Durbin-Watson:                   1.768\n",
      "Prob(Omnibus):                  0.000   Jarque-Bera (JB):               42.228\n",
      "Skew:                          -0.214   Prob(JB):                     6.76e-10\n",
      "Kurtosis:                       3.952   Cond. No.                         209.\n",
      "==============================================================================\n",
      "\n",
      "Notes:\n",
      "[1] Standard Errors assume that the covariance matrix of the errors is correctly specified.\n"
     ]
    }
   ],
   "source": [
    "print(results.summary())"
   ]
  },
  {
   "cell_type": "code",
   "execution_count": 42,
   "id": "8fb76458-39e6-43cd-863b-32270a80c11c",
   "metadata": {},
   "outputs": [],
   "source": [
    "results = OLS(Y, X, hasconst=True).fit(cov_type=\"HC0\")"
   ]
  },
  {
   "cell_type": "code",
   "execution_count": 43,
   "id": "5caca57f-c882-42cf-a71b-c002bdd2de3c",
   "metadata": {},
   "outputs": [
    {
     "name": "stdout",
     "output_type": "stream",
     "text": [
      "                            OLS Regression Results                            \n",
      "==============================================================================\n",
      "Dep. Variable:                      y   R-squared:                       0.138\n",
      "Model:                            OLS   Adj. R-squared:                  0.136\n",
      "Method:                 Least Squares   F-statistic:                     72.03\n",
      "Date:                Sun, 14 Jan 2024   Prob (F-statistic):           8.38e-30\n",
      "Time:                        01:45:01   Log-Likelihood:                -492.17\n",
      "No. Observations:                 929   AIC:                             990.3\n",
      "Df Residuals:                     926   BIC:                             1005.\n",
      "Df Model:                           2                                         \n",
      "Covariance Type:                  HC0                                         \n",
      "==============================================================================\n",
      "                 coef    std err          z      P>|z|      [0.025      0.975]\n",
      "------------------------------------------------------------------------------\n",
      "x1             0.0911      0.008     11.824      0.000       0.076       0.106\n",
      "x2             0.0235      0.004      5.383      0.000       0.015       0.032\n",
      "const          4.3973      0.148     29.772      0.000       4.108       4.687\n",
      "==============================================================================\n",
      "Omnibus:                       25.452   Durbin-Watson:                   1.768\n",
      "Prob(Omnibus):                  0.000   Jarque-Bera (JB):               42.228\n",
      "Skew:                          -0.214   Prob(JB):                     6.76e-10\n",
      "Kurtosis:                       3.952   Cond. No.                         209.\n",
      "==============================================================================\n",
      "\n",
      "Notes:\n",
      "[1] Standard Errors are heteroscedasticity robust (HC0)\n"
     ]
    }
   ],
   "source": [
    "print(results.summary())"
   ]
  }
 ],
 "metadata": {
  "kernelspec": {
   "display_name": "Python 3 (ipykernel)",
   "language": "python",
   "name": "python3"
  },
  "language_info": {
   "codemirror_mode": {
    "name": "ipython",
    "version": 3
   },
   "file_extension": ".py",
   "mimetype": "text/x-python",
   "name": "python",
   "nbconvert_exporter": "python",
   "pygments_lexer": "ipython3",
   "version": "3.11.6"
  }
 },
 "nbformat": 4,
 "nbformat_minor": 5
}
