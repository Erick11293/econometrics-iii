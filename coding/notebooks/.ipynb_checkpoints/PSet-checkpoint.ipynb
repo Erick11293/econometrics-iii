{
 "cells": [
  {
   "cell_type": "markdown",
   "id": "94767e52-e2f8-4dcb-877e-8e63b1a0e214",
   "metadata": {},
   "source": [
    "### Problem Set 1"
   ]
  },
  {
   "cell_type": "markdown",
   "id": "4bd2fb5d-99c7-46af-ad9e-9f5bdcc96e82",
   "metadata": {},
   "source": [
    "Erick Ore Matos"
   ]
  },
  {
   "cell_type": "code",
   "execution_count": 1,
   "id": "6be4404b-fae7-486f-b670-a6561e3d653e",
   "metadata": {},
   "outputs": [],
   "source": [
    "import pandas as pd\n",
    "import numpy as np\n",
    "import seaborn as sns\n",
    "import matplotlib.pyplot as plt"
   ]
  },
  {
   "cell_type": "code",
   "execution_count": 2,
   "id": "372c7162-48df-433d-bb0b-60ae7abc3109",
   "metadata": {},
   "outputs": [],
   "source": [
    "from numpy.linalg import inv"
   ]
  },
  {
   "cell_type": "code",
   "execution_count": 3,
   "id": "c499d6da-d6f2-4e4a-8a99-cd01960cccc6",
   "metadata": {},
   "outputs": [],
   "source": [
    "df = pd.read_csv(\"../data/nls.csv\")"
   ]
  },
  {
   "cell_type": "code",
   "execution_count": 4,
   "id": "ba5c976c-d8b4-4ac1-9fdb-e8fd11d40177",
   "metadata": {},
   "outputs": [],
   "source": [
    "df['const'] = 1"
   ]
  },
  {
   "cell_type": "code",
   "execution_count": 6,
   "id": "32a658c4-4ba3-42a3-a187-6b75ec67eab1",
   "metadata": {},
   "outputs": [],
   "source": [
    "Y = df[['luwe']].to_numpy()"
   ]
  },
  {
   "cell_type": "code",
   "execution_count": 7,
   "id": "740a3a16-9cbe-42f1-812b-743f76d17f24",
   "metadata": {},
   "outputs": [],
   "source": [
    "X = df[['educ', 'exper', 'const']].to_numpy()"
   ]
  },
  {
   "cell_type": "code",
   "execution_count": 8,
   "id": "4101a5b8-e5d0-4323-90fe-41fd3a0377b4",
   "metadata": {},
   "outputs": [],
   "source": [
    "n, k = X.shape"
   ]
  },
  {
   "cell_type": "markdown",
   "id": "14d30db4-a610-4e8b-98bd-03761c869877",
   "metadata": {},
   "source": [
    "##### Matrix version"
   ]
  },
  {
   "cell_type": "markdown",
   "id": "e3a36357-3140-4e63-be54-7b70be2cf359",
   "metadata": {},
   "source": [
    "The model we try ton estimate is:\n",
    "\n",
    "$$y_i = x_i'\\beta + \\epsilon_i $$\n",
    "\n",
    "We can group the values $y_i$ in the matriox $Y$, and the vectors $x_i'$ in the matrix $X$.\n",
    "\n",
    "We obtain the OLS estimates from $$\\hat \\beta = (X'X)^{-1} (X'Y)$$"
   ]
  },
  {
   "cell_type": "code",
   "execution_count": 9,
   "id": "df09f9f7-363d-46ed-8209-69716c84119c",
   "metadata": {},
   "outputs": [],
   "source": [
    "b = inv(X.transpose() @ X) @ (X.transpose() @ Y)"
   ]
  },
  {
   "cell_type": "code",
   "execution_count": 10,
   "id": "26a3ef5d-a994-4619-9e9b-52ec188f6821",
   "metadata": {},
   "outputs": [
    {
     "name": "stdout",
     "output_type": "stream",
     "text": [
      "Coef educ:[0.09111207] \n",
      "Coef exper:[0.02352861] \n",
      "Coef const:[4.39731821] \n"
     ]
    }
   ],
   "source": [
    "print(f\"Coef educ:{b[0]} \")\n",
    "print(f\"Coef exper:{b[1]} \")\n",
    "print(f\"Coef const:{b[2]} \")"
   ]
  },
  {
   "cell_type": "markdown",
   "id": "dc90697d-b74a-4ca5-adb1-73261c0987a5",
   "metadata": {},
   "source": [
    "We can define the annihilator matrix to obtain the errors:\n",
    "$$M_X = I - X(X'X)^{-1}X'$$\n"
   ]
  },
  {
   "cell_type": "code",
   "execution_count": 11,
   "id": "63f632a3-8194-49a3-97aa-cac231e7d066",
   "metadata": {},
   "outputs": [],
   "source": [
    "M_X = (np.eye(n) - X @inv(X.transpose() @ X) @ X.transpose())"
   ]
  },
  {
   "cell_type": "code",
   "execution_count": 12,
   "id": "09e2ecfa-9910-4768-be93-fb5310a197f7",
   "metadata": {},
   "outputs": [],
   "source": [
    "e = M_X @ Y"
   ]
  },
  {
   "cell_type": "markdown",
   "id": "3d5788cd-f38a-46c3-b664-2ffb44e6d2f7",
   "metadata": {},
   "source": [
    "Under homokedasticity, we can estimate the variance of $\\epsilon$ using:\n",
    "\n",
    "$$\\hat Var(\\epsilon) = e'e/(n-k)$$"
   ]
  },
  {
   "cell_type": "code",
   "execution_count": 13,
   "id": "976ddaec-2806-4029-a7bb-88ee322fa615",
   "metadata": {},
   "outputs": [],
   "source": [
    "var_e = e.transpose() @ e / (n-k)"
   ]
  },
  {
   "cell_type": "markdown",
   "id": "dbf55a9d-1a1d-4150-9dc5-d65a373af583",
   "metadata": {},
   "source": [
    "The variance of the estimator $\\hat \\beta$ will be obtained from:\n",
    "\n",
    "$$\\hat Var(\\hat \\beta) = \\hat \\sigma^2_{\\epsilon} (X'X)^{-1}$$"
   ]
  },
  {
   "cell_type": "code",
   "execution_count": 14,
   "id": "a6333269-f6a4-49fa-9394-bb3ba4982234",
   "metadata": {},
   "outputs": [],
   "source": [
    "var_beta = inv(X.transpose() @ X) * var_e\n",
    "\n",
    "#@ var_e[0]"
   ]
  },
  {
   "cell_type": "code",
   "execution_count": 15,
   "id": "cc131068-f6a7-499e-b88e-2a39c135f605",
   "metadata": {},
   "outputs": [
    {
     "name": "stdout",
     "output_type": "stream",
     "text": [
      "Var Coef educ:5.741226662029314e-05 \n",
      "Var Coef exper:1.8944471734185264e-05 \n",
      "Var Coef const:0.021208483475264644 \n"
     ]
    }
   ],
   "source": [
    "print(f\"Var Coef educ:{var_beta[0,0]} \")\n",
    "print(f\"Var Coef exper:{var_beta[1,1]} \")\n",
    "print(f\"Var Coef const:{var_beta[2,2]} \")"
   ]
  },
  {
   "cell_type": "code",
   "execution_count": 16,
   "id": "ceb78ced-b593-4485-b795-b013fb223d81",
   "metadata": {},
   "outputs": [
    {
     "name": "stdout",
     "output_type": "stream",
     "text": [
      "SE Coef educ:0.007577088267949183 \n",
      "SE Coef exper:0.0043525247540002875 \n",
      "SE Coef const:0.145631327245427 \n"
     ]
    }
   ],
   "source": [
    "print(f\"SE Coef educ:{var_beta[0,0]**0.5} \")\n",
    "print(f\"SE Coef exper:{var_beta[1,1]**0.5} \")\n",
    "print(f\"SE Coef const:{var_beta[2,2]**0.5} \")"
   ]
  },
  {
   "cell_type": "code",
   "execution_count": 17,
   "id": "7de09532-3657-4f17-9bc2-8c9d1059d71f",
   "metadata": {},
   "outputs": [
    {
     "data": {
      "text/plain": [
       "array([[ 5.74122666e-05,  1.93094365e-05, -1.03656778e-03],\n",
       "       [ 1.93094365e-05,  1.89444717e-05, -5.18253053e-04],\n",
       "       [-1.03656778e-03, -5.18253053e-04,  2.12084835e-02]])"
      ]
     },
     "execution_count": 17,
     "metadata": {},
     "output_type": "execute_result"
    }
   ],
   "source": [
    "var_beta"
   ]
  },
  {
   "cell_type": "markdown",
   "id": "ac87e4b7-5d47-49f9-859b-38e88146007f",
   "metadata": {},
   "source": [
    "##### The robust version of the variance is:\n",
    "\n",
    "If we don't assume homoscedasticity and only uncorrelated observation, we can use the White/Huberman variance:\n",
    "\n",
    "$$Var(\\hat \\beta) = (X'X)^{-1} (\\sum_i X_i X_i' \\hat e_i^2)  (X'X)^{-1}$$"
   ]
  },
  {
   "cell_type": "code",
   "execution_count": 18,
   "id": "890ba4e6-ba20-4561-acf2-f612ec099322",
   "metadata": {},
   "outputs": [],
   "source": [
    "var_b_robust = (inv(np.transpose(X) @ X)\n",
    "                @ np.transpose(X) @ (np.diag(e @ np.transpose(e) ) * np.eye(n)) @ X\n",
    "                @ inv(np.transpose(X) @ X))"
   ]
  },
  {
   "cell_type": "code",
   "execution_count": 19,
   "id": "75674f16-3700-42d5-8044-3622ee70b038",
   "metadata": {},
   "outputs": [
    {
     "name": "stdout",
     "output_type": "stream",
     "text": [
      "Robust Var Coef educ:5.93737574752357e-05 \n",
      "Robust Var Coef exper:1.9104888911235413e-05 \n",
      "Robust Var Coef const:0.021814704739189415 \n"
     ]
    }
   ],
   "source": [
    "print(f\"Robust Var Coef educ:{var_b_robust[0,0]} \")\n",
    "print(f\"Robust Var Coef exper:{var_b_robust[1,1]} \")\n",
    "print(f\"Robust Var Coef const:{var_b_robust[2,2]} \")"
   ]
  },
  {
   "cell_type": "code",
   "execution_count": 20,
   "id": "556cb1a2-a800-44e9-9681-8618cec0f0ae",
   "metadata": {},
   "outputs": [
    {
     "name": "stdout",
     "output_type": "stream",
     "text": [
      "Robust SE Coef educ:0.007705436877636186 \n",
      "Robust SE Coef exper:0.004370913967494145 \n",
      "Robust SE Coef const:0.1476980187381991 \n"
     ]
    }
   ],
   "source": [
    "print(f\"Robust SE Coef educ:{var_b_robust[0,0]**0.5} \")\n",
    "print(f\"Robust SE Coef exper:{var_b_robust[1,1]**0.5} \")\n",
    "print(f\"Robust SE Coef const:{var_b_robust[2,2]**0.5} \")"
   ]
  },
  {
   "cell_type": "markdown",
   "id": "3297fbe5-4263-4eb4-b467-1bf75dceed6f",
   "metadata": {},
   "source": [
    "##### Checking results"
   ]
  },
  {
   "cell_type": "code",
   "execution_count": 33,
   "id": "39593462-def5-48c7-8d12-40f7fa6854e8",
   "metadata": {},
   "outputs": [],
   "source": [
    "from statsmodels.api import OLS"
   ]
  },
  {
   "cell_type": "code",
   "execution_count": 40,
   "id": "d3937a42-f33c-4d60-8b82-9afaf9ae6947",
   "metadata": {},
   "outputs": [],
   "source": [
    "results = OLS(Y, X, hasconst=True).fit()"
   ]
  },
  {
   "cell_type": "code",
   "execution_count": 41,
   "id": "2c06e7d4-3b7e-4b21-ac49-568528c61467",
   "metadata": {},
   "outputs": [
    {
     "name": "stdout",
     "output_type": "stream",
     "text": [
      "                            OLS Regression Results                            \n",
      "==============================================================================\n",
      "Dep. Variable:                      y   R-squared:                       0.138\n",
      "Model:                            OLS   Adj. R-squared:                  0.136\n",
      "Method:                 Least Squares   F-statistic:                     74.33\n",
      "Date:                Sun, 14 Jan 2024   Prob (F-statistic):           1.15e-30\n",
      "Time:                        01:45:01   Log-Likelihood:                -492.17\n",
      "No. Observations:                 929   AIC:                             990.3\n",
      "Df Residuals:                     926   BIC:                             1005.\n",
      "Df Model:                           2                                         \n",
      "Covariance Type:            nonrobust                                         \n",
      "==============================================================================\n",
      "                 coef    std err          t      P>|t|      [0.025      0.975]\n",
      "------------------------------------------------------------------------------\n",
      "x1             0.0911      0.008     12.025      0.000       0.076       0.106\n",
      "x2             0.0235      0.004      5.406      0.000       0.015       0.032\n",
      "const          4.3973      0.146     30.195      0.000       4.112       4.683\n",
      "==============================================================================\n",
      "Omnibus:                       25.452   Durbin-Watson:                   1.768\n",
      "Prob(Omnibus):                  0.000   Jarque-Bera (JB):               42.228\n",
      "Skew:                          -0.214   Prob(JB):                     6.76e-10\n",
      "Kurtosis:                       3.952   Cond. No.                         209.\n",
      "==============================================================================\n",
      "\n",
      "Notes:\n",
      "[1] Standard Errors assume that the covariance matrix of the errors is correctly specified.\n"
     ]
    }
   ],
   "source": [
    "print(results.summary())"
   ]
  },
  {
   "cell_type": "code",
   "execution_count": 42,
   "id": "37bcb87a-cb29-4da2-9a16-ecbfac64252f",
   "metadata": {},
   "outputs": [],
   "source": [
    "results = OLS(Y, X, hasconst=True).fit(cov_type=\"HC0\")"
   ]
  },
  {
   "cell_type": "code",
   "execution_count": 43,
   "id": "471c5462-6998-49fd-856a-1a267753ee46",
   "metadata": {},
   "outputs": [
    {
     "name": "stdout",
     "output_type": "stream",
     "text": [
      "                            OLS Regression Results                            \n",
      "==============================================================================\n",
      "Dep. Variable:                      y   R-squared:                       0.138\n",
      "Model:                            OLS   Adj. R-squared:                  0.136\n",
      "Method:                 Least Squares   F-statistic:                     72.03\n",
      "Date:                Sun, 14 Jan 2024   Prob (F-statistic):           8.38e-30\n",
      "Time:                        01:45:01   Log-Likelihood:                -492.17\n",
      "No. Observations:                 929   AIC:                             990.3\n",
      "Df Residuals:                     926   BIC:                             1005.\n",
      "Df Model:                           2                                         \n",
      "Covariance Type:                  HC0                                         \n",
      "==============================================================================\n",
      "                 coef    std err          z      P>|z|      [0.025      0.975]\n",
      "------------------------------------------------------------------------------\n",
      "x1             0.0911      0.008     11.824      0.000       0.076       0.106\n",
      "x2             0.0235      0.004      5.383      0.000       0.015       0.032\n",
      "const          4.3973      0.148     29.772      0.000       4.108       4.687\n",
      "==============================================================================\n",
      "Omnibus:                       25.452   Durbin-Watson:                   1.768\n",
      "Prob(Omnibus):                  0.000   Jarque-Bera (JB):               42.228\n",
      "Skew:                          -0.214   Prob(JB):                     6.76e-10\n",
      "Kurtosis:                       3.952   Cond. No.                         209.\n",
      "==============================================================================\n",
      "\n",
      "Notes:\n",
      "[1] Standard Errors are heteroscedasticity robust (HC0)\n"
     ]
    }
   ],
   "source": [
    "print(results.summary())"
   ]
  }
 ],
 "metadata": {
  "kernelspec": {
   "display_name": "Python 3 (ipykernel)",
   "language": "python",
   "name": "python3"
  },
  "language_info": {
   "codemirror_mode": {
    "name": "ipython",
    "version": 3
   },
   "file_extension": ".py",
   "mimetype": "text/x-python",
   "name": "python",
   "nbconvert_exporter": "python",
   "pygments_lexer": "ipython3",
   "version": "3.11.6"
  }
 },
 "nbformat": 4,
 "nbformat_minor": 5
}
