{
 "cells": [
  {
   "cell_type": "code",
   "execution_count": 1,
   "id": "fcad6255-509b-4694-baf8-1149ec8970a9",
   "metadata": {},
   "outputs": [],
   "source": [
    "import numpy as np\n",
    "import pandas as pd"
   ]
  },
  {
   "cell_type": "code",
   "execution_count": 2,
   "id": "702a13ac-74e2-48d0-b037-ce1ff5dab060",
   "metadata": {},
   "outputs": [],
   "source": [
    "import matplotlib.pyplot as plt"
   ]
  },
  {
   "cell_type": "code",
   "execution_count": 3,
   "id": "ab4ed256-f457-42dc-a8b2-767e669e5bdb",
   "metadata": {},
   "outputs": [],
   "source": [
    "from scipy.stats import beta"
   ]
  },
  {
   "cell_type": "code",
   "execution_count": 4,
   "id": "6b81c866-3bd2-464a-b4d6-ea15cdd66c89",
   "metadata": {},
   "outputs": [],
   "source": [
    "import itertools"
   ]
  },
  {
   "cell_type": "code",
   "execution_count": 5,
   "id": "906639f9-f6f9-43f7-b94b-82a510a8350d",
   "metadata": {},
   "outputs": [],
   "source": [
    "p = {1: 0.2, \n",
    "     2: 0.5, \n",
    "     3: 0.45, \n",
    "     4: 0.3, \n",
    "     5: 0.1, \n",
    "     6: 0.45\n",
    "    }"
   ]
  },
  {
   "cell_type": "code",
   "execution_count": 6,
   "id": "f38964ab-8f10-4c1d-9851-8affc977a0fd",
   "metadata": {},
   "outputs": [],
   "source": [
    "N = 6000"
   ]
  },
  {
   "cell_type": "markdown",
   "id": "76b649d7-a7b3-4ab6-b19e-680d4f3a096d",
   "metadata": {},
   "source": [
    "Exercise 1"
   ]
  },
  {
   "cell_type": "markdown",
   "id": "d52d8d05-0703-40d8-8f09-8f7a34a10524",
   "metadata": {},
   "source": [
    "a)"
   ]
  },
  {
   "cell_type": "markdown",
   "id": "d9e5f8bd-b0b8-40bd-baa9-3994bf627832",
   "metadata": {},
   "source": [
    "We use a flat prior for the probability $\\gamma$ of success, which could be described as a Beta(1,1) prior. Since the beta distribution is the conjugate of the Bernoulli distributions, the posterior should also be beta. Assuming we observe $N_0$ fails and $N_1$ successes, the posterior is:\n",
    "\n",
    "$$p(\\gamma|Y) = p(Y|\\gamma) P (\\gamma) / P(Y)$$\n",
    "$$p(\\gamma|Y) = \\frac{{N \\choose N_1}\\gamma^{N_1}(1-\\gamma)^{N_0} P (\\gamma)}{P(Y)}$$\n",
    "$$p(\\gamma|Y) = \\frac{{N \\choose N_1}\\gamma^{N_1}(1-\\gamma)^{N_0} P (\\gamma)}{\\int_{0}^{1} {N \\choose N_1}\\gamma^{N_1}(1-\\gamma)^{N_0} P (\\gamma) d\\gamma}$$\n",
    "$$\\gamma|Y \\sim Beta(1 + N_1,1 + N_0)$$"
   ]
  },
  {
   "cell_type": "code",
   "execution_count": 7,
   "id": "38b9c84c-5f4d-4722-a69f-be63cfd18304",
   "metadata": {},
   "outputs": [],
   "source": [
    "def get_post(results):\n",
    "    mean = {}\n",
    "    var = {}\n",
    "    post_beta = {}\n",
    "    for i in results.keys():\n",
    "        if len(results[i]) == 0:\n",
    "            N_1 = 1\n",
    "            N_0 = 1\n",
    "        else:\n",
    "            N_1 = int((np.sum(results[i])))\n",
    "            N_0 = int(len(results[i]) - N_1)\n",
    "        post_beta[i] = [N_1 + 1, N_0 + 1]\n",
    "        mean[i] = (N_1 + 1) / (N_0 + 1 + N_1 + 1)\n",
    "        var[i] = (N_0 + 1) * (N_1 + 1) / ((N_0 + 1 + N_1 + 1) ** 2 * (N_0 + 1 + N_1 + 1 + 1))\n",
    "\n",
    "    return post_beta, mean, var\n"
   ]
  },
  {
   "cell_type": "code",
   "execution_count": 8,
   "id": "e950d72c-0fdf-406e-bc78-18b3f85623fa",
   "metadata": {},
   "outputs": [],
   "source": [
    "def get_points(n_points, post_beta):\n",
    "    \n",
    "    points = np.linspace(0,1, n_points)\n",
    "    # Getting all the CDF for each arm:\n",
    "    cdf_beta = {}\n",
    "    pdf_beta = {}\n",
    "    for x in post_beta.keys():\n",
    "        cdf_beta[x] = beta.cdf(points, post_beta[x][0], post_beta[x][1])\n",
    "        pdf_beta[x] = beta.pdf(points, post_beta[x][0], post_beta[x][1])\n",
    "        \n",
    "    return points, cdf_beta, pdf_beta"
   ]
  },
  {
   "cell_type": "code",
   "execution_count": 9,
   "id": "e5b6dc48-0754-4bf6-a082-8cde23bcf995",
   "metadata": {},
   "outputs": [],
   "source": [
    "def get_p_max(post_beta, n_points):\n",
    "    \n",
    "    prob_max = {}\n",
    "    points, cdf_beta, pdf_beta = get_points(n_points, post_beta)\n",
    "    \n",
    "    for arm in post_beta.keys():\n",
    "    \n",
    "        prob = 0\n",
    "        for i, _ in enumerate(points[:-1]):\n",
    "            p_max_a = 1\n",
    "            p_max_b = 1\n",
    "            \n",
    "            for other_arm in post_beta.keys():\n",
    "                if other_arm != arm:\n",
    "                    p_max_a = p_max_a * cdf_beta[other_arm][i]\n",
    "                    p_max_b = p_max_b * cdf_beta[other_arm][i + 1]\n",
    "\n",
    "            p_max_a = p_max_a * (pdf_beta[arm][i])\n",
    "            p_max_b = p_max_b * (pdf_beta[arm][i + 1])\n",
    "            prob += (p_max_a + p_max_b)/2 * ( points[i + 1] - points[i])\n",
    "        \n",
    "    \n",
    "        prob_max[arm] = prob\n",
    "    return pd.Series(prob_max)/pd.Series(prob_max).sum()"
   ]
  },
  {
   "cell_type": "code",
   "execution_count": 10,
   "id": "1d07ba4e-43a6-4e80-ad5d-bfc608518b16",
   "metadata": {},
   "outputs": [],
   "source": [
    "class RandomExperiment:\n",
    "    def __init__(self, N,p_arms, n_points = 1000):\n",
    "        self.N = N\n",
    "        self.p = p_arms\n",
    "        self.results = {}\n",
    "        self.post_beta = {}\n",
    "        self.n_points = n_points\n",
    "        for i in p.keys():\n",
    "            self.results[i] = []\n",
    "            \n",
    "    \n",
    "    def sample(self):\n",
    "        n_per_arm = int(np.floor(self.N / len(self.p.keys())))\n",
    "        for _ in range(n_per_arm):\n",
    "            for i in self.p.keys():\n",
    "                self.results[i].append(np.random.choice([0,1], p = [1-self.p[i], self.p[i]]))\n",
    "        self.post_beta, self.mean, self.var = get_post(self.results)\n",
    "        self.prob_max = get_p_max(self.post_beta, self.n_points)\n",
    "        self.counts = dict(zip(self.results.keys(), [*map(len, self.results.values())]))\n",
    "        self.highest_prob_max = self.prob_max.idxmax()\n",
    "        self.highest_mean = pd.Series(self.mean).idxmax()\n",
    "        self.regret = max(self.p.values()) - np.mean(list(itertools.chain.from_iterable(self.results.values())))"
   ]
  },
  {
   "cell_type": "code",
   "execution_count": 11,
   "id": "7babcd47-a028-4cb0-8a81-5f9099167c5b",
   "metadata": {},
   "outputs": [],
   "source": [
    "r0 = RandomExperiment(N = 6000, p_arms=p)"
   ]
  },
  {
   "cell_type": "code",
   "execution_count": 12,
   "id": "3f3776a7-3b96-4832-86f1-78472d2ae217",
   "metadata": {},
   "outputs": [],
   "source": [
    "r0.sample()"
   ]
  },
  {
   "cell_type": "code",
   "execution_count": 13,
   "id": "3551bbae-aae6-4cd1-afab-d728249932b4",
   "metadata": {},
   "outputs": [
    {
     "data": {
      "text/plain": [
       "{1: 0.2125748502994012,\n",
       " 2: 0.5099800399201597,\n",
       " 3: 0.4491017964071856,\n",
       " 4: 0.27844311377245506,\n",
       " 5: 0.1187624750499002,\n",
       " 6: 0.4351297405189621}"
      ]
     },
     "execution_count": 13,
     "metadata": {},
     "output_type": "execute_result"
    }
   ],
   "source": [
    "r0.mean"
   ]
  },
  {
   "cell_type": "code",
   "execution_count": 14,
   "id": "1407badf-0f7f-4972-b952-904f2c0012d6",
   "metadata": {},
   "outputs": [
    {
     "data": {
      "text/plain": [
       "{1: 0.0001668861249447541,\n",
       " 2: 0.0002491529399832423,\n",
       " 3: 0.00024666936477669434,\n",
       " 4: 0.00020031161133116123,\n",
       " 5: 0.00010434491482544569,\n",
       " 6: 0.00024505667939667277}"
      ]
     },
     "execution_count": 14,
     "metadata": {},
     "output_type": "execute_result"
    }
   ],
   "source": [
    "r0.var"
   ]
  },
  {
   "cell_type": "code",
   "execution_count": 15,
   "id": "1bb343ab-7ba2-4c5d-af63-253c4f8390c4",
   "metadata": {},
   "outputs": [],
   "source": [
    "n_points = 1000"
   ]
  },
  {
   "cell_type": "code",
   "execution_count": 16,
   "id": "bafcb512-399f-42da-a384-314fc8991873",
   "metadata": {},
   "outputs": [
    {
     "data": {
      "text/plain": [
       "{1: [213, 789],\n",
       " 2: [511, 491],\n",
       " 3: [450, 552],\n",
       " 4: [279, 723],\n",
       " 5: [119, 883],\n",
       " 6: [436, 566]}"
      ]
     },
     "execution_count": 16,
     "metadata": {},
     "output_type": "execute_result"
    }
   ],
   "source": [
    "r0.post_beta"
   ]
  },
  {
   "cell_type": "code",
   "execution_count": 17,
   "id": "49e5bd1c-6743-466d-8217-3a560b030701",
   "metadata": {},
   "outputs": [],
   "source": [
    "points, cdf_beta, pdf_beta = get_points(1000, r0.post_beta )"
   ]
  },
  {
   "cell_type": "code",
   "execution_count": 18,
   "id": "62a64625-4e4a-45f3-9526-8da24e68f86e",
   "metadata": {},
   "outputs": [
    {
     "data": {
      "text/plain": [
       "[<matplotlib.lines.Line2D at 0x7f0b63c782d0>]"
      ]
     },
     "execution_count": 18,
     "metadata": {},
     "output_type": "execute_result"
    },
    {
     "data": {
      "image/png": "[encoded data removed]",
      "text/plain": [
       "<Figure size 640x480 with 1 Axes>"
      ]
     },
     "metadata": {},
     "output_type": "display_data"
    }
   ],
   "source": [
    "plt.plot(points, pdf_beta[1])\n",
    "plt.plot(points, pdf_beta[2])\n",
    "plt.plot(points, pdf_beta[3])\n",
    "plt.plot(points, pdf_beta[4])\n",
    "plt.plot(points, pdf_beta[5])\n",
    "plt.plot(points, pdf_beta[6])"
   ]
  },
  {
   "cell_type": "markdown",
   "id": "7aabf1ab-c2f0-45bc-adad-8c24cf8a538f",
   "metadata": {},
   "source": [
    "b)"
   ]
  },
  {
   "cell_type": "code",
   "execution_count": 19,
   "id": "853aca31-b878-48b9-b5cd-6eea7d160aa8",
   "metadata": {},
   "outputs": [
    {
     "data": {
      "text/plain": [
       "1     1.132261e-52\n",
       "2     9.964958e-01\n",
       "3     3.147426e-03\n",
       "4     2.289301e-30\n",
       "5    1.734386e-101\n",
       "6     3.568095e-04\n",
       "dtype: float64"
      ]
     },
     "execution_count": 19,
     "metadata": {},
     "output_type": "execute_result"
    }
   ],
   "source": [
    "r0.prob_max"
   ]
  },
  {
   "cell_type": "markdown",
   "id": "c51a2cfc-0955-41db-9ae1-dedc95139286",
   "metadata": {},
   "source": [
    "c)"
   ]
  },
  {
   "cell_type": "code",
   "execution_count": 39,
   "id": "418816b4-2c7c-4c34-89de-27455c96cd45",
   "metadata": {},
   "outputs": [],
   "source": [
    "class ThomsonExperiment:\n",
    "    def __init__(self, N,p_arms, n_trials = 100, n_points = 1000):\n",
    "        self.N = N\n",
    "        self.p = p_arms\n",
    "        self.results = {}\n",
    "        self.post_beta = {}\n",
    "        self.n_trials = n_trials\n",
    "        self.n_points = n_points\n",
    "        for i in p.keys():\n",
    "            self.results[i] = []\n",
    "            # Initializing a flat prior\n",
    "            self.post_beta[i] = [1,1]\n",
    "\n",
    "        self.n_update = int(np.floor(N/n_trials))\n",
    "            \n",
    "    \n",
    "    def sample(self):\n",
    "        for _ in range(self.n_update):\n",
    "            self.prob_max = get_p_max(self.post_beta, self.n_points)\n",
    "            for _ in range(self.n_trials):\n",
    "                i = np.random.choice(self.prob_max.index, p = self.prob_max.values )\n",
    "                self.results[i].append(np.random.choice([0,1], p = [1-self.p[i], self.p[i]]))\n",
    "            self.post_beta, self.mean, self.var = get_post(self.results)\n",
    "        self.counts = dict(zip(self.results.keys(), [*map(len, self.results.values())]))\n",
    "        self.highest_prob_max = self.prob_max.idxmax()\n",
    "        self.highest_mean = pd.Series(self.mean).idxmax()\n",
    "        self.regret = max(self.p.values()) - np.mean(list(itertools.chain.from_iterable(self.results.values())))"
   ]
  },
  {
   "cell_type": "code",
   "execution_count": 40,
   "id": "2e145eea-f263-481c-9448-3114c95c79c0",
   "metadata": {},
   "outputs": [],
   "source": [
    "t0 = ThomsonExperiment(N, p)"
   ]
  },
  {
   "cell_type": "code",
   "execution_count": 41,
   "id": "11b33843-8c71-4f40-83f7-f335172376ec",
   "metadata": {},
   "outputs": [],
   "source": [
    "t0.sample()"
   ]
  },
  {
   "cell_type": "code",
   "execution_count": 42,
   "id": "656790bc-74f0-4c28-8681-b92178823ab1",
   "metadata": {},
   "outputs": [],
   "source": [
    "points, cdf_beta_thomson, pdf_beta_thomson = get_points(n_points, t0.post_beta)"
   ]
  },
  {
   "cell_type": "code",
   "execution_count": 43,
   "id": "57fe3390-d7cc-4cd2-ac38-31b5e624b023",
   "metadata": {},
   "outputs": [
    {
     "data": {
      "text/plain": [
       "[<matplotlib.lines.Line2D at 0x7f0b5af77210>]"
      ]
     },
     "execution_count": 43,
     "metadata": {},
     "output_type": "execute_result"
    },
    {
     "data": {
      "image/png": "[encoded data removed]",
      "text/plain": [
       "<Figure size 640x480 with 1 Axes>"
      ]
     },
     "metadata": {},
     "output_type": "display_data"
    }
   ],
   "source": [
    "plt.plot(points, pdf_beta_thomson[1])\n",
    "plt.plot(points, pdf_beta_thomson[2])\n",
    "plt.plot(points, pdf_beta_thomson[3])\n",
    "plt.plot(points, pdf_beta_thomson[4])\n",
    "plt.plot(points, pdf_beta_thomson[5])\n",
    "plt.plot(points, pdf_beta_thomson[6])"
   ]
  },
  {
   "cell_type": "code",
   "execution_count": 44,
   "id": "d9a734d6-238b-471a-aa99-272ab556c0df",
   "metadata": {},
   "outputs": [
    {
     "data": {
      "text/plain": [
       "{1: 0.2631578947368421,\n",
       " 2: 0.49171270718232046,\n",
       " 3: 0.502262443438914,\n",
       " 4: 0.42592592592592593,\n",
       " 5: 0.13636363636363635,\n",
       " 6: 0.4956521739130435}"
      ]
     },
     "execution_count": 44,
     "metadata": {},
     "output_type": "execute_result"
    }
   ],
   "source": [
    "t0.mean"
   ]
  },
  {
   "cell_type": "code",
   "execution_count": 45,
   "id": "d78302a8-a630-4888-a8b6-186971b59bd1",
   "metadata": {},
   "outputs": [
    {
     "data": {
      "text/plain": [
       "{1: 0.009695290858725761,\n",
       " 2: 0.0013732490152623849,\n",
       " 3: 0.0011261030691427285,\n",
       " 4: 0.004445691482728519,\n",
       " 5: 0.005120373697448796,\n",
       " 6: 0.002155009451795841}"
      ]
     },
     "execution_count": 45,
     "metadata": {},
     "output_type": "execute_result"
    }
   ],
   "source": [
    "t0.var"
   ]
  },
  {
   "cell_type": "code",
   "execution_count": 46,
   "id": "cb57eb7b-7983-441f-83c6-0a2d51dfea19",
   "metadata": {},
   "outputs": [
    {
     "data": {
      "text/plain": [
       "1    0.005938\n",
       "2    0.243023\n",
       "3    0.372577\n",
       "4    0.058039\n",
       "5    0.000030\n",
       "6    0.320392\n",
       "dtype: float64"
      ]
     },
     "execution_count": 46,
     "metadata": {},
     "output_type": "execute_result"
    }
   ],
   "source": [
    "t0.prob_max"
   ]
  },
  {
   "cell_type": "code",
   "execution_count": 47,
   "id": "c81c9479-8c70-439b-9f71-20fe275e1364",
   "metadata": {},
   "outputs": [
    {
     "data": {
      "text/plain": [
       "1    0.028333\n",
       "2    0.298333\n",
       "3    0.365000\n",
       "4    0.086667\n",
       "5    0.033333\n",
       "6    0.188333\n",
       "dtype: float64"
      ]
     },
     "execution_count": 47,
     "metadata": {},
     "output_type": "execute_result"
    }
   ],
   "source": [
    "pd.Series(t0.counts)/pd.Series(t0.counts).sum()"
   ]
  },
  {
   "cell_type": "markdown",
   "id": "2f6b77ec-4598-4998-ad73-7541c9e53616",
   "metadata": {},
   "source": [
    "d)"
   ]
  },
  {
   "cell_type": "markdown",
   "id": "29295f12-4725-4f79-9999-ecfe051fa5c6",
   "metadata": {},
   "source": [
    "Running every approach 100 times"
   ]
  },
  {
   "cell_type": "code",
   "execution_count": 48,
   "id": "d9b379bf-423b-4740-bf55-3e58a38f02e5",
   "metadata": {},
   "outputs": [],
   "source": [
    "n_rep = 100"
   ]
  },
  {
   "cell_type": "code",
   "execution_count": 49,
   "id": "8c9d690c-b4a6-43bf-940a-4260875c6cac",
   "metadata": {},
   "outputs": [],
   "source": [
    "list_random = [RandomExperiment(N, p) for _ in range(n_rep)]\n",
    "list_thomsom = [ThomsonExperiment(N, p) for _ in range(n_rep)]"
   ]
  },
  {
   "cell_type": "code",
   "execution_count": 50,
   "id": "2e789584-709d-4dfe-8d6a-40775728ec69",
   "metadata": {},
   "outputs": [
    {
     "data": {
      "text/plain": [
       "[None,\n",
       " None,\n",
       " None,\n",
       " None,\n",
       " None,\n",
       " None,\n",
       " None,\n",
       " None,\n",
       " None,\n",
       " None,\n",
       " None,\n",
       " None,\n",
       " None,\n",
       " None,\n",
       " None,\n",
       " None,\n",
       " None,\n",
       " None,\n",
       " None,\n",
       " None,\n",
       " None,\n",
       " None,\n",
       " None,\n",
       " None,\n",
       " None,\n",
       " None,\n",
       " None,\n",
       " None,\n",
       " None,\n",
       " None,\n",
       " None,\n",
       " None,\n",
       " None,\n",
       " None,\n",
       " None,\n",
       " None,\n",
       " None,\n",
       " None,\n",
       " None,\n",
       " None,\n",
       " None,\n",
       " None,\n",
       " None,\n",
       " None,\n",
       " None,\n",
       " None,\n",
       " None,\n",
       " None,\n",
       " None,\n",
       " None,\n",
       " None,\n",
       " None,\n",
       " None,\n",
       " None,\n",
       " None,\n",
       " None,\n",
       " None,\n",
       " None,\n",
       " None,\n",
       " None,\n",
       " None,\n",
       " None,\n",
       " None,\n",
       " None,\n",
       " None,\n",
       " None,\n",
       " None,\n",
       " None,\n",
       " None,\n",
       " None,\n",
       " None,\n",
       " None,\n",
       " None,\n",
       " None,\n",
       " None,\n",
       " None,\n",
       " None,\n",
       " None,\n",
       " None,\n",
       " None,\n",
       " None,\n",
       " None,\n",
       " None,\n",
       " None,\n",
       " None,\n",
       " None,\n",
       " None,\n",
       " None,\n",
       " None,\n",
       " None,\n",
       " None,\n",
       " None,\n",
       " None,\n",
       " None,\n",
       " None,\n",
       " None,\n",
       " None,\n",
       " None,\n",
       " None,\n",
       " None]"
      ]
     },
     "execution_count": 50,
     "metadata": {},
     "output_type": "execute_result"
    }
   ],
   "source": [
    "[mod.sample() for mod in list_random]\n",
    "[mod.sample() for mod in list_thomsom]"
   ]
  },
  {
   "cell_type": "code",
   "execution_count": 51,
   "id": "5464efb5-0bad-4eef-8dc9-6293e9a0e40b",
   "metadata": {},
   "outputs": [],
   "source": [
    "max_mean_arm_r = [mod.highest_mean for mod in list_random]\n",
    "max_prob_arm_r = [mod.highest_prob_max for mod in list_random]"
   ]
  },
  {
   "cell_type": "code",
   "execution_count": 52,
   "id": "807d49b2-2a75-4209-8e29-49840921e224",
   "metadata": {},
   "outputs": [],
   "source": [
    "max_mean_arm_t = [mod.highest_mean for mod in list_thomsom]\n",
    "max_prob_arm_t = [mod.highest_prob_max for mod in list_thomsom]"
   ]
  },
  {
   "cell_type": "markdown",
   "id": "5832bd04-58fa-45fc-9a70-b80fdc3789d9",
   "metadata": {},
   "source": [
    "Random"
   ]
  },
  {
   "cell_type": "code",
   "execution_count": 53,
   "id": "012c93c0-e201-4d4f-8b10-3a382f18713e",
   "metadata": {},
   "outputs": [
    {
     "data": {
      "text/plain": [
       "2    63\n",
       "3    20\n",
       "6    17\n",
       "Name: count, dtype: int64"
      ]
     },
     "execution_count": 53,
     "metadata": {},
     "output_type": "execute_result"
    }
   ],
   "source": [
    "pd.Series(max_mean_arm_r).value_counts()"
   ]
  },
  {
   "cell_type": "code",
   "execution_count": 54,
   "id": "0766209f-e3b9-4e0d-b89d-72b089a04fdd",
   "metadata": {},
   "outputs": [
    {
     "data": {
      "text/plain": [
       "2    63\n",
       "3    20\n",
       "6    17\n",
       "Name: count, dtype: int64"
      ]
     },
     "execution_count": 54,
     "metadata": {},
     "output_type": "execute_result"
    }
   ],
   "source": [
    "pd.Series(max_prob_arm_r).value_counts()"
   ]
  },
  {
   "cell_type": "markdown",
   "id": "11c290f3-1fa7-4f18-9525-4327f3eaf17f",
   "metadata": {},
   "source": [
    "Thomson"
   ]
  },
  {
   "cell_type": "code",
   "execution_count": 55,
   "id": "22b78ee6-8fd4-4e73-be95-b66f96fe89d8",
   "metadata": {},
   "outputs": [
    {
     "data": {
      "text/plain": [
       "2    74\n",
       "3    16\n",
       "6    10\n",
       "Name: count, dtype: int64"
      ]
     },
     "execution_count": 55,
     "metadata": {},
     "output_type": "execute_result"
    }
   ],
   "source": [
    "pd.Series(max_mean_arm_t).value_counts()"
   ]
  },
  {
   "cell_type": "code",
   "execution_count": 56,
   "id": "054fba0f-abfa-4cc3-a8a5-5b44e4dbe2db",
   "metadata": {},
   "outputs": [
    {
     "data": {
      "text/plain": [
       "2    64\n",
       "3    22\n",
       "6    14\n",
       "Name: count, dtype: int64"
      ]
     },
     "execution_count": 56,
     "metadata": {},
     "output_type": "execute_result"
    }
   ],
   "source": [
    "pd.Series(max_prob_arm_t).value_counts()"
   ]
  },
  {
   "cell_type": "markdown",
   "id": "58b4cc97-9d14-4061-afec-8e8adb20d9e1",
   "metadata": {},
   "source": [
    "e)"
   ]
  },
  {
   "cell_type": "code",
   "execution_count": 57,
   "id": "c1277f83-392f-4629-9679-5f6e763c195c",
   "metadata": {},
   "outputs": [],
   "source": [
    "regret_r = [mod.regret for mod in list_random]\n",
    "regret_t = [mod.regret for mod in list_thomsom]"
   ]
  },
  {
   "cell_type": "code",
   "execution_count": 62,
   "id": "e8432139-93ea-4154-8645-b492a1dde18b",
   "metadata": {},
   "outputs": [
    {
     "data": {
      "text/plain": [
       "0.16486666666666663"
      ]
     },
     "execution_count": 62,
     "metadata": {},
     "output_type": "execute_result"
    }
   ],
   "source": [
    "np.mean(regret_r)"
   ]
  },
  {
   "cell_type": "code",
   "execution_count": 63,
   "id": "3fd2ed2b-b04d-4d9c-af65-f5fe1532aabe",
   "metadata": {},
   "outputs": [
    {
     "data": {
      "text/plain": [
       "0.05351666666666666"
      ]
     },
     "execution_count": 63,
     "metadata": {},
     "output_type": "execute_result"
    }
   ],
   "source": [
    "np.mean(regret_t)"
   ]
  },
  {
   "cell_type": "code",
   "execution_count": null,
   "id": "750e3c51-e0a5-4fef-a458-3ab340afd938",
   "metadata": {},
   "outputs": [],
   "source": []
  }
 ],
 "metadata": {
  "kernelspec": {
   "display_name": "Python 3 (ipykernel)",
   "language": "python",
   "name": "python3"
  },
  "language_info": {
   "codemirror_mode": {
    "name": "ipython",
    "version": 3
   },
   "file_extension": ".py",
   "mimetype": "text/x-python",
   "name": "python",
   "nbconvert_exporter": "python",
   "pygments_lexer": "ipython3",
   "version": "3.11.6"
  }
 },
 "nbformat": 4,
 "nbformat_minor": 5
}
