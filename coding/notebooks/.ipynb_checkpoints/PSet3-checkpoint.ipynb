{
 "cells": [
  {
   "cell_type": "markdown",
   "id": "f79724cb-404b-4f6b-a8de-46b81925b4d6",
   "metadata": {},
   "source": [
    "### Problem Set 3"
   ]
  },
  {
   "cell_type": "markdown",
   "id": "402cd5f2-4380-4600-9209-8e709a36e89e",
   "metadata": {},
   "source": [
    "Erick Ore Matos"
   ]
  },
  {
   "cell_type": "code",
   "execution_count": 1,
   "id": "78ea4418-bae6-4c3b-b21c-46364bd9e118",
   "metadata": {},
   "outputs": [],
   "source": [
    "import pandas as pd\n",
    "import numpy as np\n",
    "import seaborn as sns\n",
    "import matplotlib.pyplot as plt"
   ]
  },
  {
   "cell_type": "code",
   "execution_count": 2,
   "id": "c42377d0-8cf4-4bb1-8d1e-9200f8355cc6",
   "metadata": {},
   "outputs": [],
   "source": [
    "from numpy.linalg import inv"
   ]
  },
  {
   "cell_type": "code",
   "execution_count": 3,
   "id": "10207e1c-604c-4271-88bf-28f856b2acbc",
   "metadata": {},
   "outputs": [],
   "source": [
    "df = pd.read_csv(\"../data/firms.csv\")"
   ]
  },
  {
   "cell_type": "code",
   "execution_count": 4,
   "id": "01d51901-0444-43e0-b117-e273f03f4f8e",
   "metadata": {},
   "outputs": [],
   "source": [
    "df = df.set_index(['firm','year'])"
   ]
  },
  {
   "cell_type": "code",
   "execution_count": 5,
   "id": "c6b0d071-a797-4aa0-b126-83a01850aa6f",
   "metadata": {},
   "outputs": [],
   "source": [
    "df['const'] = 1"
   ]
  },
  {
   "cell_type": "markdown",
   "id": "57d6309f-a791-48c3-b24a-3b749abb7d0a",
   "metadata": {},
   "source": [
    "I define a regression function to report the point estimates."
   ]
  },
  {
   "cell_type": "code",
   "execution_count": 6,
   "id": "c84dd2c9-e086-4118-b344-e9ec352f68c7",
   "metadata": {},
   "outputs": [],
   "source": [
    "def get_regression(df, endog, exog):\n",
    "    \n",
    "    Y = df[endog].to_numpy()\n",
    "    \n",
    "    X = df[exog].to_numpy()\n",
    "    \n",
    "    n, k = X.shape\n",
    "\n",
    "    b = inv(X.transpose() @ X) @ (X.transpose() @ Y)\n",
    "\n",
    "    return dict(zip(exog, b))"
   ]
  },
  {
   "cell_type": "markdown",
   "id": "711ebd6a-7b7a-4670-8c25-6ab201f1d7c2",
   "metadata": {},
   "source": [
    "##### (a)"
   ]
  },
  {
   "cell_type": "markdown",
   "id": "b3ee94d8-cdf8-4f5e-8771-fb8265b00657",
   "metadata": {},
   "source": [
    "We are running an OLS:\n",
    "\n",
    "$$y_{i,t} = \\alpha + \\beta x_{i,t} + v_i + e_{i,t}$$\n",
    "\n",
    "The estimator will be biased if $E(v_i|x_{i,t}) \\ne 0$:\n",
    "\n",
    "$$\\hat \\beta_{OLS} \\to \\beta + \\frac{Cov(v_i, x_{i,t})}{Var(x_{i,t})}$$"
   ]
  },
  {
   "cell_type": "code",
   "execution_count": 7,
   "id": "b096b688-00c5-44cd-b18c-282272fc1a82",
   "metadata": {},
   "outputs": [],
   "source": [
    "b = get_regression(df, ['logsalespercap'], ['logemployment', 'const'])"
   ]
  },
  {
   "cell_type": "code",
   "execution_count": 8,
   "id": "6934709c-ea7e-41c7-9764-471caa9c3915",
   "metadata": {},
   "outputs": [
    {
     "data": {
      "text/plain": [
       "{'logemployment': array([-0.02765847]), 'const': array([-6.71417417e-07])}"
      ]
     },
     "execution_count": 8,
     "metadata": {},
     "output_type": "execute_result"
    }
   ],
   "source": [
    "b"
   ]
  },
  {
   "cell_type": "markdown",
   "id": "a07a5982-ca5f-41f4-85ec-a27cfbd63df9",
   "metadata": {},
   "source": [
    "##### (b)"
   ]
  },
  {
   "cell_type": "markdown",
   "id": "09000955-96d7-41bf-bc07-393f1af3a816",
   "metadata": {},
   "source": [
    "We are running a FE model:\n",
    "\n",
    "$$y_{i,t} - \\bar y_i = \\beta (x_{i,t} - \\bar x_i) + e_{i,t} - \\bar e_i$$\n",
    "\n",
    "The estimator will be unbiased as long as $E(e_{i,t} - \\bar e_i|x_{i,t}) \\ne 0$:\n",
    "\n",
    "$$\\hat \\beta_{FE} \\to \\beta $$\n",
    "\n",
    "In this estimation, we are cleaning a potential bias for omitted variables.\n",
    "\n",
    "Considering the actual setup, we are trying to get the relationship between the sales per unit of capital stock and the employment. we are omitting a crucial variable that is fixed by the firm: productivity. If we use the OVB formula:\n",
    "\n",
    "$$\\hat \\beta_{OLS} \\to \\beta + \\frac{Cov(v_i, x_{i,t})}{Var(x_{i,t})} = \\beta + \\frac{Cov(productivity_{i}, labor_{i,t})}{Var(labor_{i,t})}$$\n",
    "\n",
    "If more productive firms require less labor, which seems reasonable, the estimation we obtained in (a) is biased downwards.\n",
    "\n",
    "However, we obtain a positive relation if we control the firm's overall productivity by running the model with fixed effects. This might seem to be evidence of labor as a complement of capital, as it increases the mean productivity of capital (sales per unit of capital), once we control the effect by the overall productivity of the firm.\n",
    "\n"
   ]
  },
  {
   "cell_type": "markdown",
   "id": "4517cf1f-16e3-4896-bda4-dd4257a4a3e2",
   "metadata": {},
   "source": [
    "Demeaning variables"
   ]
  },
  {
   "cell_type": "code",
   "execution_count": 9,
   "id": "d44e7cbb-70aa-44f2-80e0-a9aa84fb94f6",
   "metadata": {},
   "outputs": [],
   "source": [
    "df_means = df.groupby(['firm']).mean()"
   ]
  },
  {
   "cell_type": "code",
   "execution_count": 10,
   "id": "597de4ea-8045-434e-8b25-29221b71d8f1",
   "metadata": {},
   "outputs": [],
   "source": [
    "df_demeaned = df - df_means"
   ]
  },
  {
   "cell_type": "code",
   "execution_count": 11,
   "id": "cb8697ee-1de8-47aa-b4cf-e3f3877a1cc2",
   "metadata": {},
   "outputs": [],
   "source": [
    "b_fe = get_regression(df_demeaned, ['logsalespercap'], ['logemployment'])"
   ]
  },
  {
   "cell_type": "code",
   "execution_count": 12,
   "id": "5d9d9f1e-7ba8-4398-b8e4-ce5204e479cb",
   "metadata": {},
   "outputs": [
    {
     "data": {
      "text/plain": [
       "{'logemployment': array([0.11743465])}"
      ]
     },
     "execution_count": 12,
     "metadata": {},
     "output_type": "execute_result"
    }
   ],
   "source": [
    "b_fe"
   ]
  },
  {
   "cell_type": "markdown",
   "id": "7ca906d9-50b7-40bf-bc33-d99d720fc341",
   "metadata": {},
   "source": [
    "##### (c)"
   ]
  },
  {
   "cell_type": "markdown",
   "id": "41c10286-41f4-4c66-b0ee-b1da68e47d24",
   "metadata": {},
   "source": [
    "I expect the coefficient to be negative, as in the OLS case, because when running the regression using the means, we are not cleaning up the fixed effect, so the estimator for beta could be biased by the effect of unobserved components."
   ]
  },
  {
   "cell_type": "markdown",
   "id": "346fb8a6-db11-4b11-96e8-76fcd2185995",
   "metadata": {},
   "source": [
    "We are running a regression on averages:\n",
    "\n",
    "$$\\bar y_{i} = \\alpha + \\beta \\bar x_{i} + v_i + \\bar e_{i}$$\n",
    "\n",
    "The estimator will be biased if $E(v_i|\\bar x_{i}) \\ne 0$:\n",
    "\n",
    "$$\\hat \\beta_{means} \\to \\beta + \\frac{Cov(v_i, \\bar x_{i})}{Var(\\bar x_{i})}$$"
   ]
  },
  {
   "cell_type": "code",
   "execution_count": 13,
   "id": "93dc4194-feb7-455c-8dd8-53f631c41c96",
   "metadata": {},
   "outputs": [],
   "source": [
    "b_means = get_regression(df_means, ['logsalespercap'], ['logemployment', 'const'])"
   ]
  },
  {
   "cell_type": "code",
   "execution_count": 14,
   "id": "d71a7a2c-9e7a-49b1-9646-9d7335c5d2df",
   "metadata": {},
   "outputs": [
    {
     "data": {
      "text/plain": [
       "{'logemployment': array([-0.03037954]), 'const': array([-6.72869035e-07])}"
      ]
     },
     "execution_count": 14,
     "metadata": {},
     "output_type": "execute_result"
    }
   ],
   "source": [
    "b_means"
   ]
  },
  {
   "cell_type": "markdown",
   "id": "82d7e6eb-7306-4b34-8040-5a7a68e6e0e2",
   "metadata": {},
   "source": [
    "##### Checking results"
   ]
  },
  {
   "cell_type": "code",
   "execution_count": 15,
   "id": "4adf5fdf-0d1e-4f9e-b38a-67673d753c60",
   "metadata": {},
   "outputs": [],
   "source": [
    "from statsmodels.api import OLS"
   ]
  },
  {
   "cell_type": "code",
   "execution_count": 16,
   "id": "8edb5acf-98f7-4a0a-a43a-3e70c5264184",
   "metadata": {},
   "outputs": [],
   "source": [
    "results = OLS(df[['logsalespercap']], df[['logemployment', 'const']], hasconst=True).fit()"
   ]
  },
  {
   "cell_type": "code",
   "execution_count": 17,
   "id": "112156f4-0cb4-4db3-9b86-4011c7557061",
   "metadata": {},
   "outputs": [
    {
     "name": "stdout",
     "output_type": "stream",
     "text": [
      "                            OLS Regression Results                            \n",
      "==============================================================================\n",
      "Dep. Variable:         logsalespercap   R-squared:                       0.004\n",
      "Model:                            OLS   Adj. R-squared:                  0.004\n",
      "Method:                 Least Squares   F-statistic:                     22.22\n",
      "Date:                Sun, 04 Feb 2024   Prob (F-statistic):           2.48e-06\n",
      "Time:                        23:50:32   Log-Likelihood:                -4450.6\n",
      "No. Observations:                5733   AIC:                             8905.\n",
      "Df Residuals:                    5731   BIC:                             8919.\n",
      "Df Model:                           1                                         \n",
      "Covariance Type:            nonrobust                                         \n",
      "=================================================================================\n",
      "                    coef    std err          t      P>|t|      [0.025      0.975]\n",
      "---------------------------------------------------------------------------------\n",
      "logemployment    -0.0277      0.006     -4.714      0.000      -0.039      -0.016\n",
      "const         -6.714e-07      0.007  -9.66e-05      1.000      -0.014       0.014\n",
      "==============================================================================\n",
      "Omnibus:                       91.659   Durbin-Watson:                   0.253\n",
      "Prob(Omnibus):                  0.000   Jarque-Bera (JB):              131.917\n",
      "Skew:                           0.187   Prob(JB):                     2.26e-29\n",
      "Kurtosis:                       3.642   Cond. No.                         1.18\n",
      "==============================================================================\n",
      "\n",
      "Notes:\n",
      "[1] Standard Errors assume that the covariance matrix of the errors is correctly specified.\n"
     ]
    }
   ],
   "source": [
    "print(results.summary())"
   ]
  },
  {
   "cell_type": "code",
   "execution_count": 18,
   "id": "582cfb0e-b591-4e1e-972a-1058286e2e8f",
   "metadata": {},
   "outputs": [],
   "source": [
    "results = OLS(df_demeaned[['logsalespercap']], df_demeaned[['logemployment']], hasconst=False).fit()"
   ]
  },
  {
   "cell_type": "code",
   "execution_count": 19,
   "id": "229e06a8-f3b2-4d37-b774-d4f360e16844",
   "metadata": {},
   "outputs": [
    {
     "name": "stdout",
     "output_type": "stream",
     "text": [
      "                                 OLS Regression Results                                \n",
      "=======================================================================================\n",
      "Dep. Variable:         logsalespercap   R-squared (uncentered):                   0.010\n",
      "Model:                            OLS   Adj. R-squared (uncentered):              0.010\n",
      "Method:                 Least Squares   F-statistic:                              60.78\n",
      "Date:                Sun, 04 Feb 2024   Prob (F-statistic):                    7.54e-15\n",
      "Time:                        23:50:32   Log-Likelihood:                          1594.5\n",
      "No. Observations:                5733   AIC:                                     -3187.\n",
      "Df Residuals:                    5732   BIC:                                     -3180.\n",
      "Df Model:                           1                                                  \n",
      "Covariance Type:            nonrobust                                                  \n",
      "=================================================================================\n",
      "                    coef    std err          t      P>|t|      [0.025      0.975]\n",
      "---------------------------------------------------------------------------------\n",
      "logemployment     0.1174      0.015      7.796      0.000       0.088       0.147\n",
      "==============================================================================\n",
      "Omnibus:                      334.315   Durbin-Watson:                   0.881\n",
      "Prob(Omnibus):                  0.000   Jarque-Bera (JB):             1077.672\n",
      "Skew:                           0.245   Prob(JB):                    9.70e-235\n",
      "Kurtosis:                       5.067   Cond. No.                         1.00\n",
      "==============================================================================\n",
      "\n",
      "Notes:\n",
      "[1] R² is computed without centering (uncentered) since the model does not contain a constant.\n",
      "[2] Standard Errors assume that the covariance matrix of the errors is correctly specified.\n"
     ]
    }
   ],
   "source": [
    "print(results.summary())"
   ]
  },
  {
   "cell_type": "code",
   "execution_count": null,
   "id": "e29098a8-6ee3-4589-a50e-76b1550cbdbb",
   "metadata": {},
   "outputs": [],
   "source": []
  },
  {
   "cell_type": "code",
   "execution_count": 20,
   "id": "bb233c34-6711-4908-8805-d214e8c3214f",
   "metadata": {},
   "outputs": [],
   "source": [
    "results = OLS(df_means[['logsalespercap']], df_means[['logemployment', 'const']], hasconst=True).fit()"
   ]
  },
  {
   "cell_type": "code",
   "execution_count": 21,
   "id": "2bf408fb-310b-4cda-9026-a3f5b2cae6ff",
   "metadata": {},
   "outputs": [
    {
     "name": "stdout",
     "output_type": "stream",
     "text": [
      "                            OLS Regression Results                            \n",
      "==============================================================================\n",
      "Dep. Variable:         logsalespercap   R-squared:                       0.005\n",
      "Model:                            OLS   Adj. R-squared:                  0.003\n",
      "Method:                 Least Squares   F-statistic:                     2.300\n",
      "Date:                Sun, 04 Feb 2024   Prob (F-statistic):              0.130\n",
      "Time:                        23:50:32   Log-Likelihood:                -313.32\n",
      "No. Observations:                 441   AIC:                             630.6\n",
      "Df Residuals:                     439   BIC:                             638.8\n",
      "Df Model:                           1                                         \n",
      "Covariance Type:            nonrobust                                         \n",
      "=================================================================================\n",
      "                    coef    std err          t      P>|t|      [0.025      0.975]\n",
      "---------------------------------------------------------------------------------\n",
      "logemployment    -0.0304      0.020     -1.516      0.130      -0.070       0.009\n",
      "const         -6.729e-07      0.024  -2.86e-05      1.000      -0.046       0.046\n",
      "==============================================================================\n",
      "Omnibus:                        9.207   Durbin-Watson:                   2.133\n",
      "Prob(Omnibus):                  0.010   Jarque-Bera (JB):               12.521\n",
      "Skew:                           0.180   Prob(JB):                      0.00191\n",
      "Kurtosis:                       3.743   Cond. No.                         1.17\n",
      "==============================================================================\n",
      "\n",
      "Notes:\n",
      "[1] Standard Errors assume that the covariance matrix of the errors is correctly specified.\n"
     ]
    }
   ],
   "source": [
    "print(results.summary())"
   ]
  },
  {
   "cell_type": "code",
   "execution_count": null,
   "id": "5a46713b-5f1b-4b0b-a96e-d998da5c1e51",
   "metadata": {},
   "outputs": [],
   "source": []
  }
 ],
 "metadata": {
  "kernelspec": {
   "display_name": "Python 3 (ipykernel)",
   "language": "python",
   "name": "python3"
  },
  "language_info": {
   "codemirror_mode": {
    "name": "ipython",
    "version": 3
   },
   "file_extension": ".py",
   "mimetype": "text/x-python",
   "name": "python",
   "nbconvert_exporter": "python",
   "pygments_lexer": "ipython3",
   "version": "3.11.6"
  }
 },
 "nbformat": 4,
 "nbformat_minor": 5
}
