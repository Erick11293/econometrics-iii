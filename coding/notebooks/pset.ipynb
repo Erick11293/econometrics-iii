{
 "cells": [
  {
   "cell_type": "code",
   "execution_count": 1,
   "id": "a0f61edf-6f28-4af8-a761-a92e7a0385e9",
   "metadata": {},
   "outputs": [],
   "source": [
    "import matplotlib.pyplot as plt\n",
    "\n",
    "import seaborn as sns"
   ]
  },
  {
   "cell_type": "code",
   "execution_count": 2,
   "id": "fabd802f-1ad2-4447-bd9c-4e506dbaf131",
   "metadata": {},
   "outputs": [],
   "source": [
    "import pandas as pd"
   ]
  },
  {
   "cell_type": "code",
   "execution_count": 3,
   "id": "67e5b9dd-4fa4-49c1-807f-1900593b52f7",
   "metadata": {},
   "outputs": [],
   "source": [
    "import scipy.stats as st"
   ]
  },
  {
   "cell_type": "code",
   "execution_count": 4,
   "id": "3d5fde11-1a65-40a9-a853-728693b37e5d",
   "metadata": {},
   "outputs": [],
   "source": [
    "import math"
   ]
  },
  {
   "cell_type": "code",
   "execution_count": 5,
   "id": "bc6bdc97-ca13-4ee1-995b-42dfa8815a1b",
   "metadata": {},
   "outputs": [],
   "source": [
    "df = pd.read_fwf(\"../data/lalonde_experimental.txt\", header = None, colspecs=[(0, 10), (10, 20)])"
   ]
  },
  {
   "cell_type": "code",
   "execution_count": 6,
   "id": "1e4479ac-d266-4b68-b1ff-7250a6a4c0c9",
   "metadata": {},
   "outputs": [],
   "source": [
    "df.columns = ['W', 'Y']"
   ]
  },
  {
   "cell_type": "code",
   "execution_count": 7,
   "id": "ef19fc10-ca63-4851-8652-d206a4a2fbab",
   "metadata": {},
   "outputs": [],
   "source": [
    "df['W'] = df['W'].apply(int)"
   ]
  },
  {
   "cell_type": "markdown",
   "id": "d00f45e0-0618-4ce2-b000-9ddd010ec1f6",
   "metadata": {},
   "source": [
    "### Question 1"
   ]
  },
  {
   "cell_type": "markdown",
   "id": "07134c07-72d3-4f7d-9e34-11ca6e9c6cdb",
   "metadata": {},
   "source": [
    "a)"
   ]
  },
  {
   "cell_type": "markdown",
   "id": "df6c8ed8-55a3-4172-87a2-364f781b21c7",
   "metadata": {},
   "source": [
    "Using the t-statitic"
   ]
  },
  {
   "cell_type": "code",
   "execution_count": 8,
   "id": "283f12b7-87db-42b9-b10b-9c50df371182",
   "metadata": {},
   "outputs": [],
   "source": [
    "N = df.shape[0]\n",
    "M = df['W'].sum()"
   ]
  },
  {
   "cell_type": "code",
   "execution_count": 9,
   "id": "0ff3db78-edde-42d1-bdd7-9f9a49c78bc9",
   "metadata": {},
   "outputs": [],
   "source": [
    "Y_1 = df[df.W == 1]['Y'].mean()\n",
    "Y_0 = df[df.W == 0]['Y'].mean()"
   ]
  },
  {
   "cell_type": "markdown",
   "id": "5c5e2566-5b78-4b30-90aa-b553f40463d0",
   "metadata": {},
   "source": [
    "##### Computing the unbiased variance"
   ]
  },
  {
   "cell_type": "code",
   "execution_count": 69,
   "id": "7eb842f9-2618-4415-b016-706409827804",
   "metadata": {},
   "outputs": [],
   "source": [
    "s2_0 = df[df.W == 0]['Y'].var()\n",
    "s2_1 = df[df.W == 1]['Y'].var()"
   ]
  },
  {
   "cell_type": "markdown",
   "id": "1d60acde-1f05-4cd2-9246-031e44818100",
   "metadata": {},
   "source": [
    "##### Computing the variance of the difference of means"
   ]
  },
  {
   "cell_type": "code",
   "execution_count": 70,
   "id": "4347274c-ed67-4ded-beb5-60eb5f530488",
   "metadata": {},
   "outputs": [],
   "source": [
    "s2_dif = s2_0/(N - M) + s2_1/M"
   ]
  },
  {
   "cell_type": "markdown",
   "id": "df3911b3-45da-4b7e-af94-4fc49f512770",
   "metadata": {},
   "source": [
    "##### T-statistic"
   ]
  },
  {
   "cell_type": "code",
   "execution_count": 72,
   "id": "fd5dc47b-08df-4dbe-b760-ed05612e42e4",
   "metadata": {},
   "outputs": [],
   "source": [
    "t_statistic = (Y_1 - Y_0)/(s2_dif ** 0.5)"
   ]
  },
  {
   "cell_type": "code",
   "execution_count": 73,
   "id": "8fc6f4b0-8429-4da5-8d9b-d9482dd25b90",
   "metadata": {},
   "outputs": [],
   "source": [
    "p_value = 2 * (1 - st.norm.cdf(t_statistic))"
   ]
  },
  {
   "cell_type": "code",
   "execution_count": 74,
   "id": "b5014b36-1d64-42a6-aaa4-6c9ccbc46ccf",
   "metadata": {},
   "outputs": [
    {
     "name": "stdout",
     "output_type": "stream",
     "text": [
      "Y_0 is 4.55, Y_1 is 6.35, the difference is 1.79 and the t-statistic is 2.674144 and the p-value is 0.007492\n"
     ]
    }
   ],
   "source": [
    "print(f\"Y_0 is {Y_0:.2f}, Y_1 is {Y_1:.2f}, the difference is {Y_1 - Y_0:.2f} and the t-statistic is {t_statistic:.6f} and the p-value is {p_value:.6f}\")\n"
   ]
  },
  {
   "cell_type": "markdown",
   "id": "d162400b-2b4c-4af1-956b-833e438c8339",
   "metadata": {},
   "source": [
    "b)"
   ]
  },
  {
   "cell_type": "markdown",
   "id": "5be7c62d-6127-439d-a4a5-8ff2eceaac12",
   "metadata": {},
   "source": [
    "##### Set K (number of draws)\n"
   ]
  },
  {
   "cell_type": "code",
   "execution_count": 15,
   "id": "ba977156-dc73-4feb-bcd9-a0860790855f",
   "metadata": {},
   "outputs": [],
   "source": [
    "#K = 1000000\n",
    "K = 1000000"
   ]
  },
  {
   "cell_type": "markdown",
   "id": "3c340210-f619-498f-bfaa-659cc28fe3f4",
   "metadata": {},
   "source": [
    "##### Under the null, both Y_0 and Y_1 are equal"
   ]
  },
  {
   "cell_type": "code",
   "execution_count": 16,
   "id": "008793f2-1cca-41b9-8718-8bf196d3acad",
   "metadata": {},
   "outputs": [],
   "source": [
    "# The set of assignment vector is comprised by N choose M, I set the universe of potential assignment"
   ]
  },
  {
   "cell_type": "code",
   "execution_count": 17,
   "id": "e006a286-bd6a-426e-a375-1521953de8e7",
   "metadata": {
    "scrolled": true
   },
   "outputs": [
    {
     "data": {
      "text/plain": [
       "6083152392753576912837559233248532391555730573702937346458256906836883923573725070493581203256191523614142569625942938291437491993"
      ]
     },
     "execution_count": 17,
     "metadata": {},
     "output_type": "execute_result"
    }
   ],
   "source": [
    "math.comb(N,M)"
   ]
  },
  {
   "cell_type": "markdown",
   "id": "6821bb19-c14c-4557-ad17-5f25a0a755b0",
   "metadata": {},
   "source": [
    "Truly unfesiable to compute, using the approach of choosing directly"
   ]
  },
  {
   "cell_type": "code",
   "execution_count": 18,
   "id": "d3b4e1a6-73dc-4f4a-bf09-ffe9c705492a",
   "metadata": {},
   "outputs": [],
   "source": [
    "import numpy as np"
   ]
  },
  {
   "cell_type": "code",
   "execution_count": 19,
   "id": "0a287345-6f39-47bc-8518-7a3bfe3f06ef",
   "metadata": {},
   "outputs": [],
   "source": [
    "stat_observed = Y_1 - Y_0"
   ]
  },
  {
   "cell_type": "code",
   "execution_count": 20,
   "id": "12595115-80f2-4ff8-808f-31b052ab0b42",
   "metadata": {},
   "outputs": [
    {
     "data": {
      "text/plain": [
       "1.794341237006238"
      ]
     },
     "execution_count": 20,
     "metadata": {},
     "output_type": "execute_result"
    }
   ],
   "source": [
    "stat_observed"
   ]
  },
  {
   "cell_type": "code",
   "execution_count": 21,
   "id": "844e6aa9-6b93-41ec-b045-ebabd6b5f56d",
   "metadata": {},
   "outputs": [],
   "source": [
    "df['Y_1'] = df['Y'] \n",
    "df['Y_0'] = df['Y'] "
   ]
  },
  {
   "cell_type": "code",
   "execution_count": 22,
   "id": "28bf777d-7a4d-4b30-b06d-c9b2dc0a5e5a",
   "metadata": {},
   "outputs": [],
   "source": [
    "stat_distribution = []\n",
    "# Draw a vector of assignments and compute the statistic\n",
    "for i in range(K):\n",
    "    W_c = np.random.choice(range(N), size = M, replace = False)\n",
    "    stat_draw = df.loc[W_c]['Y_1'].mean() - df.drop(W_c)['Y_0'].mean()\n",
    "    stat_distribution.append(stat_draw)\n",
    "\n",
    "stat_distribution = np.array(stat_distribution)"
   ]
  },
  {
   "cell_type": "code",
   "execution_count": 23,
   "id": "4bac00ad-bc16-40d6-a655-27a7a10f3144",
   "metadata": {},
   "outputs": [],
   "source": [
    "p_value_exact = np.sum(abs(stat_distribution) > abs(stat_observed))/K"
   ]
  },
  {
   "cell_type": "code",
   "execution_count": 24,
   "id": "c693b949-eaa3-4a36-8634-5eca6df582ca",
   "metadata": {},
   "outputs": [
    {
     "name": "stdout",
     "output_type": "stream",
     "text": [
      "0.004297\n"
     ]
    }
   ],
   "source": [
    "print(p_value_exact)"
   ]
  },
  {
   "cell_type": "code",
   "execution_count": 25,
   "id": "098b85ef-becb-43ec-a81e-ae68a78e5c71",
   "metadata": {},
   "outputs": [
    {
     "data": {
      "text/plain": [
       "<matplotlib.lines.Line2D at 0x7f1bbe341e90>"
      ]
     },
     "execution_count": 25,
     "metadata": {},
     "output_type": "execute_result"
    },
    {
     "data": {
      "image/png": "[encoded data removed]",
      "text/plain": [
       "<Figure size 640x480 with 1 Axes>"
      ]
     },
     "metadata": {},
     "output_type": "display_data"
    }
   ],
   "source": [
    "sns.histplot(stat_distribution)\n",
    "plt.axvline(-stat_observed)\n",
    "plt.axvline(stat_observed)"
   ]
  },
  {
   "cell_type": "markdown",
   "id": "3ec81358-cf91-41a4-8d64-8abc8366ffbc",
   "metadata": {},
   "source": [
    "c)"
   ]
  },
  {
   "cell_type": "markdown",
   "id": "2210ce32-6c35-40eb-81d8-8afd14f803b7",
   "metadata": {},
   "source": [
    "Foreach observation compute the rank"
   ]
  },
  {
   "cell_type": "code",
   "execution_count": 26,
   "id": "f175fe03-f9de-4c45-ad50-15c3bcf9f9e3",
   "metadata": {},
   "outputs": [],
   "source": [
    "df['R'] = df['Y'].apply(lambda y: (df['Y'] < y).sum() + 0.5 * (1 + (df['Y'] == y).sum()) - (N + 1)/2)"
   ]
  },
  {
   "cell_type": "markdown",
   "id": "380f1dea-2d9c-4726-9f43-d2bdc8e82c4c",
   "metadata": {},
   "source": [
    "##### Checking it has mean zero"
   ]
  },
  {
   "cell_type": "code",
   "execution_count": 27,
   "id": "51a3864b-744c-417b-94f1-9e3e8bbaf62a",
   "metadata": {},
   "outputs": [
    {
     "data": {
      "text/plain": [
       "0.0"
      ]
     },
     "execution_count": 27,
     "metadata": {},
     "output_type": "execute_result"
    }
   ],
   "source": [
    "df['R'].mean()"
   ]
  },
  {
   "cell_type": "markdown",
   "id": "146f8087-55b7-405b-80a4-1f95d5d3fabf",
   "metadata": {},
   "source": [
    "Under the null, the ranks shouldn't change"
   ]
  },
  {
   "cell_type": "code",
   "execution_count": 28,
   "id": "8ff3efea-035d-45d1-b36e-ad0f713f9a4b",
   "metadata": {},
   "outputs": [],
   "source": [
    "df['R_0'] = df['R'] \n",
    "df['R_1'] = df['R'] "
   ]
  },
  {
   "cell_type": "code",
   "execution_count": 29,
   "id": "e34cc93b-2d76-4a89-b1ab-c5b5dc8bacb3",
   "metadata": {},
   "outputs": [],
   "source": [
    "stat_observed = df[df.W == 1]['R'].mean() - df[df.W == 0]['R'].mean()"
   ]
  },
  {
   "cell_type": "code",
   "execution_count": 30,
   "id": "2d9eee82-a19e-432f-8d78-6014c6a73d1b",
   "metadata": {},
   "outputs": [
    {
     "data": {
      "text/plain": [
       "31.01585239085239"
      ]
     },
     "execution_count": 30,
     "metadata": {},
     "output_type": "execute_result"
    }
   ],
   "source": [
    "stat_observed"
   ]
  },
  {
   "cell_type": "code",
   "execution_count": 31,
   "id": "77874afa-bdf9-4c1c-804e-c4b4cddf00cd",
   "metadata": {},
   "outputs": [],
   "source": [
    "stat_distribution = []\n",
    "# Draw a vector of assignments and compute the statistic\n",
    "for i in range(K):\n",
    "    W_c = np.random.choice(range(N), size = M, replace = False)\n",
    "    stat_draw = df.loc[W_c]['R_1'].mean() - df.drop(W_c)['R_0'].mean()\n",
    "    stat_distribution.append(stat_draw)\n",
    "\n",
    "stat_distribution = np.array(stat_distribution)"
   ]
  },
  {
   "cell_type": "code",
   "execution_count": 32,
   "id": "66294a18-da6a-42a1-a9e4-b91495cc17d7",
   "metadata": {},
   "outputs": [],
   "source": [
    "p_value_exact = np.sum(abs(stat_distribution) > abs(stat_observed))/K"
   ]
  },
  {
   "cell_type": "code",
   "execution_count": 33,
   "id": "37ec6ba1-0f1c-45ee-b8fe-5d7e376efe82",
   "metadata": {},
   "outputs": [
    {
     "name": "stdout",
     "output_type": "stream",
     "text": [
      "0.010745\n"
     ]
    }
   ],
   "source": [
    "print(p_value_exact)"
   ]
  },
  {
   "cell_type": "code",
   "execution_count": 34,
   "id": "3f20c27a-d89d-4110-9f5e-1837e4e3856f",
   "metadata": {},
   "outputs": [
    {
     "data": {
      "text/plain": [
       "<matplotlib.lines.Line2D at 0x7f1bbde86210>"
      ]
     },
     "execution_count": 34,
     "metadata": {},
     "output_type": "execute_result"
    },
    {
     "data": {
      "image/png": "[encoded data removed]",
      "text/plain": [
       "<Figure size 640x480 with 1 Axes>"
      ]
     },
     "metadata": {},
     "output_type": "display_data"
    }
   ],
   "source": [
    "sns.histplot(stat_distribution)\n",
    "plt.axvline(-stat_observed)\n",
    "plt.axvline(stat_observed)"
   ]
  },
  {
   "cell_type": "markdown",
   "id": "ca2d2809-a6d8-429f-804d-cade65f05a76",
   "metadata": {},
   "source": [
    "d)"
   ]
  },
  {
   "cell_type": "markdown",
   "id": "2fb91529-88f5-41ad-8c20-58e172bb705f",
   "metadata": {},
   "source": [
    "##### Computing homoskedastic variance"
   ]
  },
  {
   "cell_type": "code",
   "execution_count": 75,
   "id": "008a964e-def3-494f-b704-d615201b68e6",
   "metadata": {},
   "outputs": [],
   "source": [
    "df.loc[df.W == 0, 'bar_Y'] = Y_0\n",
    "df.loc[df.W == 1, 'bar_Y'] = Y_1"
   ]
  },
  {
   "cell_type": "code",
   "execution_count": 76,
   "id": "2738fcd0-64bb-40ce-8fd5-e437537d53b4",
   "metadata": {},
   "outputs": [],
   "source": [
    "df['error'] = df['Y'] - df['bar_Y']"
   ]
  },
  {
   "cell_type": "code",
   "execution_count": 77,
   "id": "c46c83ca-fa83-4526-a114-4d38095adbf9",
   "metadata": {},
   "outputs": [],
   "source": [
    "s2_error = (df['error']**2).sum()/N"
   ]
  },
  {
   "cell_type": "code",
   "execution_count": 78,
   "id": "4e717476-87d8-47cc-b51f-b22ade563f8a",
   "metadata": {},
   "outputs": [],
   "source": [
    "sum_w = ((df['W'] - df['W'].mean())**2).sum()"
   ]
  },
  {
   "cell_type": "code",
   "execution_count": 79,
   "id": "aa2b0a17-c14c-46e1-b8d8-d597aad019bf",
   "metadata": {},
   "outputs": [],
   "source": [
    "s2_homoskedastic = s2_error / sum_w"
   ]
  },
  {
   "cell_type": "markdown",
   "id": "eaecd78f-f049-44e7-b5ad-b744fe6e4c2e",
   "metadata": {},
   "source": [
    "Confidence interval using Neyman variance"
   ]
  },
  {
   "cell_type": "code",
   "execution_count": 36,
   "id": "4756edde-1ed7-4104-9b1d-296a961b6a90",
   "metadata": {},
   "outputs": [],
   "source": [
    "treatment_effect = Y_1 - Y_0"
   ]
  },
  {
   "cell_type": "code",
   "execution_count": 39,
   "id": "ac860696-0173-4b0d-bd3d-e5306e8c88b1",
   "metadata": {},
   "outputs": [
    {
     "data": {
      "text/plain": [
       "0.31115797244518006"
      ]
     },
     "execution_count": 39,
     "metadata": {},
     "output_type": "execute_result"
    }
   ],
   "source": [
    "treatment_effect - 1.96 * s2_dif ** 0.5"
   ]
  },
  {
   "cell_type": "code",
   "execution_count": 40,
   "id": "a61ec49b-b4eb-49f3-9dd8-35edbcaf36ed",
   "metadata": {},
   "outputs": [
    {
     "data": {
      "text/plain": [
       "3.277524501567296"
      ]
     },
     "execution_count": 40,
     "metadata": {},
     "output_type": "execute_result"
    }
   ],
   "source": [
    "treatment_effect + 1.96 * s2_dif ** 0.5"
   ]
  },
  {
   "cell_type": "markdown",
   "id": "45c97a25-699f-42b8-a615-c250f0fedbe6",
   "metadata": {},
   "source": [
    "##### Confidence interval using homoskedastic variance"
   ]
  },
  {
   "cell_type": "code",
   "execution_count": 86,
   "id": "47356cf4-55e1-4785-bc22-c87da9fcc95f",
   "metadata": {},
   "outputs": [],
   "source": [
    "treatment_effect = Y_1 - Y_0"
   ]
  },
  {
   "cell_type": "code",
   "execution_count": 87,
   "id": "a22fa269-7f9f-48be-8c73-57d3724a6e35",
   "metadata": {},
   "outputs": [
    {
     "data": {
      "text/plain": [
       "0.5567393723024845"
      ]
     },
     "execution_count": 87,
     "metadata": {},
     "output_type": "execute_result"
    }
   ],
   "source": [
    "treatment_effect - 1.96 * s2_homoskedastic ** 0.5"
   ]
  },
  {
   "cell_type": "code",
   "execution_count": 88,
   "id": "509dcdda-af06-4d3f-a8a8-fbcb88771289",
   "metadata": {},
   "outputs": [
    {
     "data": {
      "text/plain": [
       "3.0319431017099916"
      ]
     },
     "execution_count": 88,
     "metadata": {},
     "output_type": "execute_result"
    }
   ],
   "source": [
    "treatment_effect + 1.96 * s2_homoskedastic ** 0.5"
   ]
  },
  {
   "cell_type": "code",
   "execution_count": 93,
   "id": "0c045d2f-f60b-4d66-8608-a2e27f35d27a",
   "metadata": {},
   "outputs": [
    {
     "data": {
      "text/plain": [
       "6.57212684344308"
      ]
     },
     "execution_count": 93,
     "metadata": {},
     "output_type": "execute_result"
    }
   ],
   "source": [
    "df['error'].var()**0.5"
   ]
  },
  {
   "cell_type": "code",
   "execution_count": 92,
   "id": "d6e60a8b-56b3-4f39-8792-d3bfb0d8e0bc",
   "metadata": {},
   "outputs": [
    {
     "data": {
      "text/plain": [
       "6.6314903092328175"
      ]
     },
     "execution_count": 92,
     "metadata": {},
     "output_type": "execute_result"
    }
   ],
   "source": [
    "df['Y'].var()**0.5"
   ]
  },
  {
   "cell_type": "markdown",
   "id": "277bbcaf-89e7-44a2-8045-363fd6b68e58",
   "metadata": {},
   "source": [
    "##### Question 2"
   ]
  },
  {
   "cell_type": "code",
   "execution_count": 117,
   "id": "eed044c5-b67d-45a2-9984-168de691f365",
   "metadata": {},
   "outputs": [],
   "source": [
    "def get_N_equal_obs(beta, alpha, t0, sigma2):\n",
    "    N = (st.norm.ppf(beta) + st.norm.ppf(1 - alpha/2))**2/(t0**2/sigma2)\n",
    "    return N"
   ]
  },
  {
   "cell_type": "code",
   "execution_count": 118,
   "id": "938bcf10-53a3-441f-abad-c83ddca6a0de",
   "metadata": {},
   "outputs": [],
   "source": [
    "def get_N_dif_obs(beta, alpha, t0, sigma2, gamma):\n",
    "    N = (st.norm.ppf(beta) + st.norm.ppf(1 - alpha/2))**2/(gamma * (1-gamma) * t0**2/sigma2)\n",
    "    return N"
   ]
  },
  {
   "cell_type": "markdown",
   "id": "bf13a1b9-e084-461e-a25b-21ed5b59e803",
   "metadata": {},
   "source": [
    "a)"
   ]
  },
  {
   "cell_type": "code",
   "execution_count": 119,
   "id": "29b2919e-16aa-4114-ba4e-84736ffc0959",
   "metadata": {},
   "outputs": [],
   "source": [
    "beta = 0.8\n",
    "alpha = 0.05\n",
    "t0 = 1.79\n",
    "sigma2 = 6.63\n",
    "gamma = df['W'].mean()"
   ]
  },
  {
   "cell_type": "markdown",
   "id": "26fb613f-9270-449f-b75b-235f6940a959",
   "metadata": {},
   "source": [
    "Equal sizes"
   ]
  },
  {
   "cell_type": "code",
   "execution_count": 121,
   "id": "37ac20ac-9c76-497f-a29a-c2f34c828308",
   "metadata": {},
   "outputs": [
    {
     "data": {
      "text/plain": [
       "16.241088804573657"
      ]
     },
     "execution_count": 121,
     "metadata": {},
     "output_type": "execute_result"
    }
   ],
   "source": [
    "get_N_equal_obs(beta, alpha, t0, sigma2)"
   ]
  },
  {
   "cell_type": "markdown",
   "id": "21ef0be6-b644-4e58-8694-fbdcf9699e9a",
   "metadata": {},
   "source": [
    "Different sizes"
   ]
  },
  {
   "cell_type": "code",
   "execution_count": 122,
   "id": "9c2926a7-c951-45c2-91f5-65fb67a476b9",
   "metadata": {},
   "outputs": [
    {
     "data": {
      "text/plain": [
       "66.86365094648022"
      ]
     },
     "execution_count": 122,
     "metadata": {},
     "output_type": "execute_result"
    }
   ],
   "source": [
    "get_N_dif_obs(beta, alpha, t0, sigma2, gamma)"
   ]
  },
  {
   "cell_type": "markdown",
   "id": "4d2ff1f6-c7f1-4de9-a14c-842571e88548",
   "metadata": {},
   "source": [
    "b)"
   ]
  },
  {
   "cell_type": "code",
   "execution_count": 123,
   "id": "34852811-4488-4595-887d-4ca78affb57d",
   "metadata": {},
   "outputs": [],
   "source": [
    "beta = 0.8\n",
    "alpha = 0.05\n",
    "t0 = 0.11\n",
    "sigma2 = 0.46\n",
    "gamma = df['W'].mean()"
   ]
  },
  {
   "cell_type": "markdown",
   "id": "4e6ffdf9-263a-4d8a-94c5-2b4ef5e38c50",
   "metadata": {},
   "source": [
    "Equal sizes"
   ]
  },
  {
   "cell_type": "code",
   "execution_count": 124,
   "id": "31339f24-b969-40d7-9f2b-bfe2cddab021",
   "metadata": {},
   "outputs": [
    {
     "data": {
      "text/plain": [
       "298.38716345459346"
      ]
     },
     "execution_count": 124,
     "metadata": {},
     "output_type": "execute_result"
    }
   ],
   "source": [
    "get_N_equal_obs(beta, alpha, t0, sigma2)"
   ]
  },
  {
   "cell_type": "markdown",
   "id": "79ff8dd6-cc33-4618-b19c-2c8f2e999e93",
   "metadata": {},
   "source": [
    "Different sizes"
   ]
  },
  {
   "cell_type": "code",
   "execution_count": 125,
   "id": "ce2ecc5b-2f2e-4c37-b1b0-0bc0bc9e8b74",
   "metadata": {},
   "outputs": [
    {
     "data": {
      "text/plain": [
       "1228.4432025591657"
      ]
     },
     "execution_count": 125,
     "metadata": {},
     "output_type": "execute_result"
    }
   ],
   "source": [
    "get_N_dif_obs(beta, alpha, t0, sigma2, gamma)"
   ]
  },
  {
   "cell_type": "markdown",
   "id": "71693b50-8b65-4653-af3e-6e6b0da1a6da",
   "metadata": {},
   "source": [
    "c)"
   ]
  },
  {
   "cell_type": "markdown",
   "id": "49f90970-d9a1-4997-ac5d-c77f27a59fa9",
   "metadata": {},
   "source": [
    "The effect size in the second case is relatively smaller to the variance than the first case. This requires a larger sample size to ensure that the null is being rejected when false.\n",
    "\n",
    "When the effect size that is intended to test is small, the sample size to ensure a certain level of power is larger since the difference between means could be easily attributed to the randomness of the sample rather than a difference in means. By having a larger sample, we make sure that this differences are not attributable to the natural randomness of the variable, but instead to a difference in means in the subsamples."
   ]
  }
 ],
 "metadata": {
  "kernelspec": {
   "display_name": "Python 3 (ipykernel)",
   "language": "python",
   "name": "python3"
  },
  "language_info": {
   "codemirror_mode": {
    "name": "ipython",
    "version": 3
   },
   "file_extension": ".py",
   "mimetype": "text/x-python",
   "name": "python",
   "nbconvert_exporter": "python",
   "pygments_lexer": "ipython3",
   "version": "3.11.6"
  }
 },
 "nbformat": 4,
 "nbformat_minor": 5
}
