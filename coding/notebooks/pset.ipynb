{
 "cells": [
  {
   "cell_type": "code",
   "execution_count": null,
   "id": "a0f61edf-6f28-4af8-a761-a92e7a0385e9",
   "metadata": {},
   "outputs": [],
   "source": [
    "import matplotlib.pyplot as plt\n",
    "\n",
    "import seaborn as sns"
   ]
  },
  {
   "cell_type": "code",
   "execution_count": 1,
   "id": "fabd802f-1ad2-4447-bd9c-4e506dbaf131",
   "metadata": {},
   "outputs": [],
   "source": [
    "import pandas as pd"
   ]
  },
  {
   "cell_type": "code",
   "execution_count": 47,
   "id": "67e5b9dd-4fa4-49c1-807f-1900593b52f7",
   "metadata": {},
   "outputs": [],
   "source": [
    "import scipy.stats as st"
   ]
  },
  {
   "cell_type": "code",
   "execution_count": 62,
   "id": "3d5fde11-1a65-40a9-a853-728693b37e5d",
   "metadata": {},
   "outputs": [],
   "source": [
    "import math"
   ]
  },
  {
   "cell_type": "code",
   "execution_count": 20,
   "id": "bc6bdc97-ca13-4ee1-995b-42dfa8815a1b",
   "metadata": {},
   "outputs": [],
   "source": [
    "df = pd.read_fwf(\"../data/lalonde_experimental.txt\", header = None, colspecs=[(0, 10), (10, 20)])"
   ]
  },
  {
   "cell_type": "code",
   "execution_count": 21,
   "id": "1e4479ac-d266-4b68-b1ff-7250a6a4c0c9",
   "metadata": {},
   "outputs": [],
   "source": [
    "df.columns = ['W', 'Y']"
   ]
  },
  {
   "cell_type": "code",
   "execution_count": null,
   "id": "ef19fc10-ca63-4851-8652-d206a4a2fbab",
   "metadata": {},
   "outputs": [],
   "source": [
    "df['W'] = df['W'].apply(int)"
   ]
  },
  {
   "cell_type": "markdown",
   "id": "d00f45e0-0618-4ce2-b000-9ddd010ec1f6",
   "metadata": {},
   "source": [
    "### Question 1"
   ]
  },
  {
   "cell_type": "markdown",
   "id": "07134c07-72d3-4f7d-9e34-11ca6e9c6cdb",
   "metadata": {},
   "source": [
    "a)"
   ]
  },
  {
   "cell_type": "markdown",
   "id": "df6c8ed8-55a3-4172-87a2-364f781b21c7",
   "metadata": {},
   "source": [
    "Using the t-statitic"
   ]
  },
  {
   "cell_type": "code",
   "execution_count": 53,
   "id": "283f12b7-87db-42b9-b10b-9c50df371182",
   "metadata": {},
   "outputs": [],
   "source": [
    "N = df.shape[0]\n",
    "M = df['W'].sum()"
   ]
  },
  {
   "cell_type": "code",
   "execution_count": 54,
   "id": "0ff3db78-edde-42d1-bdd7-9f9a49c78bc9",
   "metadata": {},
   "outputs": [],
   "source": [
    "Y_1 = df[df.W == 1]['Y'].mean()\n",
    "Y_0 = df[df.W == 0]['Y'].mean()"
   ]
  },
  {
   "cell_type": "markdown",
   "id": "5c5e2566-5b78-4b30-90aa-b553f40463d0",
   "metadata": {},
   "source": [
    "##### Computing the unbiased variance"
   ]
  },
  {
   "cell_type": "code",
   "execution_count": 55,
   "id": "7eb842f9-2618-4415-b016-706409827804",
   "metadata": {},
   "outputs": [],
   "source": [
    "s2_0 = df[df.W == 1]['Y'].var()\n",
    "s2_1 = df[df.W == 1]['Y'].var()"
   ]
  },
  {
   "cell_type": "markdown",
   "id": "1d60acde-1f05-4cd2-9246-031e44818100",
   "metadata": {},
   "source": [
    "##### Computing the variance of the difference of means"
   ]
  },
  {
   "cell_type": "code",
   "execution_count": 56,
   "id": "4347274c-ed67-4ded-beb5-60eb5f530488",
   "metadata": {},
   "outputs": [],
   "source": [
    "s2_dif = s2_0/(N - M) + s2_1/M"
   ]
  },
  {
   "cell_type": "markdown",
   "id": "df3911b3-45da-4b7e-af94-4fc49f512770",
   "metadata": {},
   "source": [
    "##### T-statistic"
   ]
  },
  {
   "cell_type": "code",
   "execution_count": 57,
   "id": "fd5dc47b-08df-4dbe-b760-ed05612e42e4",
   "metadata": {},
   "outputs": [],
   "source": [
    "t_statistic = (Y_1 - Y_0)/(s2_dif ** 0.5)"
   ]
  },
  {
   "cell_type": "code",
   "execution_count": 58,
   "id": "8fc6f4b0-8429-4da5-8d9b-d9482dd25b90",
   "metadata": {},
   "outputs": [],
   "source": [
    "p_value = 2 * (1 - st.norm.cdf(t_statistic))"
   ]
  },
  {
   "cell_type": "code",
   "execution_count": 59,
   "id": "b5014b36-1d64-42a6-aaa4-6c9ccbc46ccf",
   "metadata": {},
   "outputs": [
    {
     "name": "stdout",
     "output_type": "stream",
     "text": [
      "Y_0 is 4.55, Y_1 is 6.35, the difference is 1.79 and the t-statistic is 2.371190 and the p-value is 0.017731\n"
     ]
    }
   ],
   "source": [
    "print(f\"Y_0 is {Y_0:.2f}, Y_1 is {Y_1:.2f}, the difference is {Y_1 - Y_0:.2f} and the t-statistic is {t_statistic:.6f} and the p-value is {p_value:.6f}\")\n"
   ]
  },
  {
   "cell_type": "markdown",
   "id": "d162400b-2b4c-4af1-956b-833e438c8339",
   "metadata": {},
   "source": [
    "b)"
   ]
  },
  {
   "cell_type": "markdown",
   "id": "5be7c62d-6127-439d-a4a5-8ff2eceaac12",
   "metadata": {},
   "source": [
    "##### Set K (number of draws)\n"
   ]
  },
  {
   "cell_type": "code",
   "execution_count": 182,
   "id": "ba977156-dc73-4feb-bcd9-a0860790855f",
   "metadata": {},
   "outputs": [],
   "source": [
    "#K = 1000000\n",
    "K = 1000000"
   ]
  },
  {
   "cell_type": "markdown",
   "id": "3c340210-f619-498f-bfaa-659cc28fe3f4",
   "metadata": {},
   "source": [
    "##### Under the null, both Y_0 and Y_1 are equal"
   ]
  },
  {
   "cell_type": "code",
   "execution_count": 183,
   "id": "008793f2-1cca-41b9-8718-8bf196d3acad",
   "metadata": {},
   "outputs": [],
   "source": [
    "# The set of assignment vector is comprised by N choose M, I set the universe of potential assignment"
   ]
  },
  {
   "cell_type": "code",
   "execution_count": 184,
   "id": "e006a286-bd6a-426e-a375-1521953de8e7",
   "metadata": {
    "scrolled": true
   },
   "outputs": [
    {
     "data": {
      "text/plain": [
       "6083152392753576912837559233248532391555730573702937346458256906836883923573725070493581203256191523614142569625942938291437491993"
      ]
     },
     "execution_count": 184,
     "metadata": {},
     "output_type": "execute_result"
    }
   ],
   "source": [
    "math.comb(N,M)"
   ]
  },
  {
   "cell_type": "markdown",
   "id": "6821bb19-c14c-4557-ad17-5f25a0a755b0",
   "metadata": {},
   "source": [
    "Truly unfesiable to compute, using the approach of choosing directly"
   ]
  },
  {
   "cell_type": "code",
   "execution_count": 185,
   "id": "d3b4e1a6-73dc-4f4a-bf09-ffe9c705492a",
   "metadata": {},
   "outputs": [],
   "source": [
    "import numpy as np"
   ]
  },
  {
   "cell_type": "code",
   "execution_count": 186,
   "id": "0a287345-6f39-47bc-8518-7a3bfe3f06ef",
   "metadata": {},
   "outputs": [],
   "source": [
    "stat_observed = Y_1 - Y_0"
   ]
  },
  {
   "cell_type": "code",
   "execution_count": 187,
   "id": "12595115-80f2-4ff8-808f-31b052ab0b42",
   "metadata": {},
   "outputs": [
    {
     "data": {
      "text/plain": [
       "1.794341237006238"
      ]
     },
     "execution_count": 187,
     "metadata": {},
     "output_type": "execute_result"
    }
   ],
   "source": [
    "stat_observed"
   ]
  },
  {
   "cell_type": "code",
   "execution_count": 188,
   "id": "844e6aa9-6b93-41ec-b045-ebabd6b5f56d",
   "metadata": {},
   "outputs": [],
   "source": [
    "df['Y_1'] = df['Y'] \n",
    "df['Y_0'] = df['Y'] "
   ]
  },
  {
   "cell_type": "code",
   "execution_count": 189,
   "id": "28bf777d-7a4d-4b30-b06d-c9b2dc0a5e5a",
   "metadata": {},
   "outputs": [],
   "source": [
    "stat_distribution = []\n",
    "# Draw a vector of assignments and compute the statistic\n",
    "for i in range(K):\n",
    "    W_c = np.random.choice(range(N), size = M, replace = False)\n",
    "    stat_draw = df.loc[W_c]['Y_1'].mean() - df.drop(W_c)['Y_0'].mean()\n",
    "    stat_distribution.append(stat_draw)\n",
    "\n",
    "stat_distribution = np.array(stat_distribution)"
   ]
  },
  {
   "cell_type": "code",
   "execution_count": 195,
   "id": "4bac00ad-bc16-40d6-a655-27a7a10f3144",
   "metadata": {},
   "outputs": [],
   "source": [
    "p_value_exact = np.sum(abs(stat_distribution) > abs(stat_observed))/K"
   ]
  },
  {
   "cell_type": "code",
   "execution_count": 196,
   "id": "c693b949-eaa3-4a36-8634-5eca6df582ca",
   "metadata": {},
   "outputs": [
    {
     "name": "stdout",
     "output_type": "stream",
     "text": [
      "0.0052\n"
     ]
    }
   ],
   "source": [
    "print(p_value_exact)"
   ]
  },
  {
   "cell_type": "code",
   "execution_count": 194,
   "id": "098b85ef-becb-43ec-a81e-ae68a78e5c71",
   "metadata": {},
   "outputs": [
    {
     "data": {
      "text/plain": [
       "<matplotlib.lines.Line2D at 0x7fd4d6970b50>"
      ]
     },
     "execution_count": 194,
     "metadata": {},
     "output_type": "execute_result"
    },
    {
     "data": {
      "image/png": "[encoded data removed]",
      "text/plain": [
       "<Figure size 640x480 with 1 Axes>"
      ]
     },
     "metadata": {},
     "output_type": "display_data"
    }
   ],
   "source": [
    "sns.histplot(stat_distribution)\n",
    "plt.axvline(-stat_observed)\n",
    "plt.axvline(stat_observed)"
   ]
  },
  {
   "cell_type": "markdown",
   "id": "3ec81358-cf91-41a4-8d64-8abc8366ffbc",
   "metadata": {},
   "source": [
    "c)"
   ]
  },
  {
   "cell_type": "markdown",
   "id": "2210ce32-6c35-40eb-81d8-8afd14f803b7",
   "metadata": {},
   "source": [
    "Foreach observation compute the rank"
   ]
  },
  {
   "cell_type": "code",
   "execution_count": 197,
   "id": "f175fe03-f9de-4c45-ad50-15c3bcf9f9e3",
   "metadata": {},
   "outputs": [],
   "source": [
    "df['R'] = df['Y'].apply(lambda y: (df['Y'] < y).sum() + 0.5 * (1 + (df['Y'] == y).sum()) - (N + 1)/2)"
   ]
  },
  {
   "cell_type": "markdown",
   "id": "380f1dea-2d9c-4726-9f43-d2bdc8e82c4c",
   "metadata": {},
   "source": [
    "##### Checking it has mean zero"
   ]
  },
  {
   "cell_type": "code",
   "execution_count": 200,
   "id": "51a3864b-744c-417b-94f1-9e3e8bbaf62a",
   "metadata": {},
   "outputs": [
    {
     "data": {
      "text/plain": [
       "0.0"
      ]
     },
     "execution_count": 200,
     "metadata": {},
     "output_type": "execute_result"
    }
   ],
   "source": [
    "df['R'].mean()"
   ]
  },
  {
   "cell_type": "markdown",
   "id": "146f8087-55b7-405b-80a4-1f95d5d3fabf",
   "metadata": {},
   "source": [
    "Under the null, the ranks shouldn't change"
   ]
  },
  {
   "cell_type": "code",
   "execution_count": 205,
   "id": "8ff3efea-035d-45d1-b36e-ad0f713f9a4b",
   "metadata": {},
   "outputs": [],
   "source": [
    "df['R_0'] = df['R'] \n",
    "df['R_1'] = df['R'] "
   ]
  },
  {
   "cell_type": "code",
   "execution_count": 206,
   "id": "e34cc93b-2d76-4a89-b1ab-c5b5dc8bacb3",
   "metadata": {},
   "outputs": [],
   "source": [
    "stat_observed = df[df.W == 1]['R'].mean() - df[df.W == 0]['R'].mean()"
   ]
  },
  {
   "cell_type": "code",
   "execution_count": 207,
   "id": "2d9eee82-a19e-432f-8d78-6014c6a73d1b",
   "metadata": {},
   "outputs": [
    {
     "data": {
      "text/plain": [
       "31.01585239085239"
      ]
     },
     "execution_count": 207,
     "metadata": {},
     "output_type": "execute_result"
    }
   ],
   "source": [
    "stat_observed"
   ]
  },
  {
   "cell_type": "code",
   "execution_count": 208,
   "id": "77874afa-bdf9-4c1c-804e-c4b4cddf00cd",
   "metadata": {},
   "outputs": [],
   "source": [
    "stat_distribution = []\n",
    "# Draw a vector of assignments and compute the statistic\n",
    "for i in range(K):\n",
    "    W_c = np.random.choice(range(N), size = M, replace = False)\n",
    "    stat_draw = df.loc[W_c]['R_1'].mean() - df.drop(W_c)['R_0'].mean()\n",
    "    stat_distribution.append(stat_draw)\n",
    "\n",
    "stat_distribution = np.array(stat_distribution)"
   ]
  },
  {
   "cell_type": "code",
   "execution_count": 209,
   "id": "66294a18-da6a-42a1-a9e4-b91495cc17d7",
   "metadata": {},
   "outputs": [],
   "source": [
    "p_value_exact = np.sum(abs(stat_distribution) > abs(stat_observed))/K"
   ]
  },
  {
   "cell_type": "code",
   "execution_count": 210,
   "id": "37ec6ba1-0f1c-45ee-b8fe-5d7e376efe82",
   "metadata": {},
   "outputs": [
    {
     "name": "stdout",
     "output_type": "stream",
     "text": [
      "0.0099\n"
     ]
    }
   ],
   "source": [
    "print(p_value_exact)"
   ]
  },
  {
   "cell_type": "code",
   "execution_count": 211,
   "id": "3f20c27a-d89d-4110-9f5e-1837e4e3856f",
   "metadata": {},
   "outputs": [
    {
     "data": {
      "text/plain": [
       "<matplotlib.lines.Line2D at 0x7fd4cc09bc10>"
      ]
     },
     "execution_count": 211,
     "metadata": {},
     "output_type": "execute_result"
    },
    {
     "data": {
      "image/png": "[encoded data removed]",
      "text/plain": [
       "<Figure size 640x480 with 1 Axes>"
      ]
     },
     "metadata": {},
     "output_type": "display_data"
    }
   ],
   "source": [
    "sns.histplot(stat_distribution)\n",
    "plt.axvline(-stat_observed)\n",
    "plt.axvline(stat_observed)"
   ]
  },
  {
   "cell_type": "code",
   "execution_count": null,
   "id": "c03bf871-d181-4799-a115-7c1266712b33",
   "metadata": {},
   "outputs": [],
   "source": []
  }
 ],
 "metadata": {
  "kernelspec": {
   "display_name": "Python 3 (ipykernel)",
   "language": "python",
   "name": "python3"
  },
  "language_info": {
   "codemirror_mode": {
    "name": "ipython",
    "version": 3
   },
   "file_extension": ".py",
   "mimetype": "text/x-python",
   "name": "python",
   "nbconvert_exporter": "python",
   "pygments_lexer": "ipython3",
   "version": "3.11.6"
  }
 },
 "nbformat": 4,
 "nbformat_minor": 5
}
